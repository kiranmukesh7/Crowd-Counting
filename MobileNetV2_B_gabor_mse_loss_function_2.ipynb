{
  "nbformat": 4,
  "nbformat_minor": 0,
  "metadata": {
    "accelerator": "GPU",
    "colab": {
      "name": "MobileNetV2_B_gabor_mse_loss_function_2.ipynb",
      "provenance": [],
      "collapsed_sections": [
        "Mz2pgijeRc7g",
        "IjvTu-tpRi6T",
        "xSeIkT46RzEC",
        "cOwSM9U0SOcD"
      ],
      "toc_visible": true
    },
    "kernelspec": {
      "display_name": "Python 3",
      "name": "python3"
    }
  },
  "cells": [
    {
      "cell_type": "markdown",
      "metadata": {
        "id": "Mz2pgijeRc7g"
      },
      "source": [
        "# Importing Libraries"
      ]
    },
    {
      "cell_type": "code",
      "metadata": {
        "id": "0gPkVbdo3liE"
      },
      "source": [
        "from torchvision import models\n",
        "import torch\n",
        "import math\n",
        "import torch.nn as nn\n",
        "import torch.optim as optim\n",
        "import matplotlib.pyplot as plt\n",
        "import numpy as np\n",
        "import torchvision\n",
        "import torchvision.transforms as transforms\n",
        "from sklearn.model_selection import train_test_split\n",
        "import os\n",
        "import glob\n",
        "from PIL import Image\n",
        "import h5py\n",
        "import cv2\n",
        "import time\n",
        "import json\n",
        "from matplotlib.colors import LinearSegmentedColormap\n",
        "import scipy.fftpack as fp\n",
        "from google.colab import files\n",
        "from model_classes import * "
      ],
      "execution_count": null,
      "outputs": []
    },
    {
      "cell_type": "markdown",
      "metadata": {
        "id": "-D5cUxClRgg6"
      },
      "source": [
        "# Function Defintion"
      ]
    },
    {
      "cell_type": "code",
      "metadata": {
        "id": "XvPOqVg1En7L"
      },
      "source": [
        "def gabor_filtering(img):\n",
        "  kernel = cv2.getGaborKernel((7, 7), 2, 0, 5, 10, 0, cv2.CV_32F)\n",
        "  kernel /= math.sqrt((kernel * kernel).sum())\n",
        "  return cv2.filter2D(img, -1, kernel)\n",
        "  \n",
        "def load_prev(model,path):\n",
        "  model.load_state_dict(torch.load(path)) \n",
        "  model = model.to(device)\n",
        "  return model\n",
        "  \n",
        "def create_img(path):\n",
        "    #Function to load,normalize and return image \n",
        "    im = Image.open(path).convert('RGB')\n",
        "    im = np.array(im)\n",
        "    ### Need to give credits to the original author who suggested this image transformation\n",
        "    im = im/255.0\n",
        "    im[:,:,0]=(im[:,:,0]-0.485)/0.229\n",
        "    im[:,:,1]=(im[:,:,1]-0.456)/0.224\n",
        "    im[:,:,2]=(im[:,:,2]-0.406)/0.225\n",
        "    return im\n",
        "\n",
        "def get_input(path):\n",
        "    img = create_img(path)\n",
        "    return(img)\n",
        "    \n",
        "def get_output(path):\n",
        "    gt_file = h5py.File(path,'r')\n",
        "    target = np.asarray(gt_file['density'])\n",
        "    img = cv2.resize(target,(int(target.shape[1]/8),int(target.shape[0]/8)),interpolation = cv2.INTER_CUBIC)*64 ### why shrink the size of the ground truth ???\n",
        "    return img\n",
        "\n",
        "def make_layers(cfg, in_channels = 3,batch_norm=False,dilation = False):\n",
        "    if dilation:\n",
        "        d_rate = 2\n",
        "    else:\n",
        "        d_rate = 1\n",
        "    layers = []\n",
        "    for v in cfg:\n",
        "        if v == 'M':\n",
        "            layers += [nn.MaxPool2d(kernel_size=2, stride=2)]\n",
        "        else:\n",
        "            conv2d = nn.Conv2d(in_channels, v, kernel_size=3, padding=d_rate,dilation = d_rate)\n",
        "            if batch_norm:\n",
        "                layers += [conv2d, nn.BatchNorm2d(v), nn.ReLU(inplace=True)]\n",
        "            else:\n",
        "                layers += [conv2d, nn.ReLU(inplace=True)]\n",
        "            in_channels = v\n",
        "    return nn.Sequential(*layers)\n",
        "\n",
        "\n",
        "\n",
        "im2freq = lambda data: fp.rfft(fp.rfft(data, axis=0),axis=1)\n",
        "freq2im = lambda f: fp.irfft(fp.irfft(f, axis=1),axis=0)"
      ],
      "execution_count": null,
      "outputs": []
    },
    {
      "cell_type": "markdown",
      "metadata": {
        "id": "IjvTu-tpRi6T"
      },
      "source": [
        "# Mounting Drive"
      ]
    },
    {
      "cell_type": "code",
      "metadata": {
        "colab": {
          "base_uri": "https://localhost:8080/"
        },
        "id": "9zJKb62T4C4R",
        "outputId": "91e9941d-511c-4070-9e8a-a98e9123c298"
      },
      "source": [
        "from google.colab import drive\n",
        "drive.mount('/content/drive')\n",
        "root = 'drive/My Drive/Downloads/data'"
      ],
      "execution_count": null,
      "outputs": [
        {
          "output_type": "stream",
          "text": [
            "Mounted at /content/drive\n"
          ],
          "name": "stdout"
        }
      ]
    },
    {
      "cell_type": "markdown",
      "metadata": {
        "id": "qZ-TF1J8RkjG"
      },
      "source": [
        "# Loading Dataset Paths -- this"
      ]
    },
    {
      "cell_type": "code",
      "metadata": {
        "id": "hR4zzWwk4G4i"
      },
      "source": [
        "part_A_train = os.path.join(root,'part_A_final/train_data','images')\n",
        "part_A_test = os.path.join(root,'part_A_final/test_data','images')\n",
        "part_B_train = os.path.join(root,'part_B_final/train_data','images')\n",
        "part_B_test = os.path.join(root,'part_B_final/test_data','images')\n",
        "temp = 'test_images'\n",
        "path_sets = [part_B_train] # analysis -- > separately train on A, B and then AB\n",
        "test_path_sets = [part_B_test]"
      ],
      "execution_count": null,
      "outputs": []
    },
    {
      "cell_type": "code",
      "metadata": {
        "colab": {
          "base_uri": "https://localhost:8080/"
        },
        "id": "-nNipvln4ZsX",
        "outputId": "57c7808a-0082-4d86-d06a-8ae1711370f7"
      },
      "source": [
        "img_paths = []\n",
        "for path in path_sets:\n",
        "    for img_path in glob.glob(os.path.join(path, '*.jpg')):\n",
        "        img_paths.append(str(img_path))\n",
        "print(\"Total images : \",len(img_paths))\n",
        "\n",
        "test_img_paths = []\n",
        "for path in test_path_sets:\n",
        "    for img_path in glob.glob(os.path.join(path, '*.jpg')):\n",
        "        test_img_paths.append(str(img_path))\n",
        "print(\"Total images : \",len(test_img_paths))"
      ],
      "execution_count": null,
      "outputs": [
        {
          "output_type": "stream",
          "text": [
            "Total images :  400\n",
            "Total images :  316\n"
          ],
          "name": "stdout"
        }
      ]
    },
    {
      "cell_type": "code",
      "metadata": {
        "id": "ApfDM4bGkeg2"
      },
      "source": [
        "train_paths,val_paths = train_test_split(img_paths, test_size=0.2)"
      ],
      "execution_count": null,
      "outputs": []
    },
    {
      "cell_type": "markdown",
      "metadata": {
        "id": "lJO1A1F0jexH"
      },
      "source": [
        "# Model Class Definition"
      ]
    },
    {
      "cell_type": "code",
      "metadata": {
        "id": "GxLrMcyXjh4I"
      },
      "source": [
        "class Mobile_CSRNet(nn.Module):\n",
        "    def __init__(self, load_weights=False):\n",
        "        super(Mobile_CSRNet, self).__init__()\n",
        "        mobilenet = models.mobilenet_v2()\n",
        "        in_ch = 64 # input channels to backend\n",
        "        self.backend_feat  = [in_ch,16]\n",
        "        self.backend = make_layers(self.backend_feat,in_channels = in_ch,dilation = True)\n",
        "        self.output_layer = nn.Conv2d(16, 1, kernel_size=1)\n",
        "        self.frontend = mobilenet.features[:9]\n",
        "        for param in self.frontend.parameters():\n",
        "          param.requires_grad = False\n",
        "        for param in self.backend.parameters():\n",
        "          param.requires_grad = True\n",
        "        for param in self.output_layer.parameters():\n",
        "          param.requires_grad = True\n",
        "    def forward(self,x):\n",
        "        x = self.frontend(x)\n",
        "        x = self.backend(x)\n",
        "        x = self.output_layer(x)\n",
        "        return torch.abs(x)\n",
        "    def _initialize_weights(self):\n",
        "        for m in self.modules():\n",
        "            if isinstance(m, nn.Conv2d):\n",
        "                nn.init.normal_(m.weight, 0.01)\n",
        "                if m.bias is not None:\n",
        "                    nn.init.constant_(m.bias, 0)\n",
        "            elif isinstance(m, nn.BatchNorm2d):\n",
        "                nn.init.constant_(m.weight, 1)\n",
        "                nn.init.constant_(m.bias, 0)\n",
        "            elif isinstance(m, nn.Linear):\n",
        "                nn.init.normal_(m.weight, 0, 0.01)\n",
        "                nn.init.constant_(m.bias, 0)\n",
        "\n",
        "class Mobile_CSRNet_regressor(nn.Module):\n",
        "    def __init__(self): \n",
        "        super(Mobile_CSRNet_regressor, self).__init__()\n",
        "        self.fc_model = nn.Sequential(\n",
        "            nn.Linear(1,10),         \n",
        "            nn.ReLU(),\n",
        "            nn.Linear(10,25),\n",
        "            nn.ReLU(),\n",
        "            nn.Linear(25,1)\n",
        "        )\n",
        "\n",
        "    def forward(self, x):\n",
        "        x = self.fc_model(x)\n",
        "        return x"
      ],
      "execution_count": null,
      "outputs": []
    },
    {
      "cell_type": "markdown",
      "metadata": {
        "id": "FolfbakMR2g5"
      },
      "source": [
        "# Porting to GPU"
      ]
    },
    {
      "cell_type": "code",
      "metadata": {
        "colab": {
          "base_uri": "https://localhost:8080/"
        },
        "id": "p4w3QO2Y4s4_",
        "outputId": "078ecb6e-8760-4e65-8885-4e046c4a52ef"
      },
      "source": [
        "device = torch.device(\"cuda:0\" if torch.cuda.is_available() else \"cpu\")\n",
        "print(device)\n",
        "model = Mobile_CSRNet().to(device)\n",
        "\n",
        "def my_loss(output, target):\n",
        "    loss = 10*torch.mean((torch.max(output) - torch.max(target))**2)\n",
        "    loss += 10*torch.mean((torch.min(output) - torch.min(target))**2)\n",
        "    loss += torch.mean( (torch.sum(output)-torch.sum(target))**2 )\n",
        "    return loss\n",
        "\n",
        "#loss_fn = my_loss\n",
        "loss_fn = nn.MSELoss() \n",
        "opt = optim.Adam(model.parameters(),lr=0.0006)"
      ],
      "execution_count": null,
      "outputs": [
        {
          "output_type": "stream",
          "text": [
            "cuda:0\n"
          ],
          "name": "stdout"
        }
      ]
    },
    {
      "cell_type": "markdown",
      "metadata": {
        "id": "Z_tekGPrR7EK"
      },
      "source": [
        "# Training"
      ]
    },
    {
      "cell_type": "code",
      "metadata": {
        "id": "S7jURckGeJfT"
      },
      "source": [
        "save_immediately = True\n",
        "load_prev_model = False # True if want to load previously trained model and want to retrain for few more epochs\n",
        "mirror = False\n",
        "model_savename = \"Mobile_CSRNet_B_gabor_mse_mirror_2\"\n",
        "output_dir = \"/content/Mobile_CSRNet_B_gabor_mse_mirror_2/\"\n",
        "os.mkdir(output_dir)"
      ],
      "execution_count": null,
      "outputs": []
    },
    {
      "cell_type": "code",
      "metadata": {
        "id": "u09a-sz3pjsx"
      },
      "source": [
        "if(load_prev_model):  \n",
        "  model.load_state_dict(torch.load(output_dir+model_savename+\".txt\")) # loads previous weights\n",
        "model = model.to(device)\n",
        "\n",
        "# if you want to load previous model then...\n",
        "# do... model = <class_name>() # initialize appropriate model: Ex: model = Mobile_CSRNet_V2()\n",
        "# copy the path to the previously trained model # Ex: prev_model_path = \"/content/model_name.txt\"\n",
        "# call the function to load previous weights # Ex: model = load_prev(model, prev_model_path)\n",
        "# now the model returned by load_prev is a pre-trained model"
      ],
      "execution_count": null,
      "outputs": []
    },
    {
      "cell_type": "code",
      "metadata": {
        "colab": {
          "base_uri": "https://localhost:8080/",
          "height": 1000
        },
        "id": "EFwM5bSn4yZX",
        "outputId": "e40e0b5b-d70b-4c4d-d709-62f5bcf7912b"
      },
      "source": [
        "trainloader = torch.utils.data.DataLoader(train_paths, batch_size=1, shuffle=True)\n",
        "valloader = torch.utils.data.DataLoader(val_paths, batch_size=1, shuffle=True)\n",
        "max_epochs = 100\n",
        "\n",
        "train_loss = []\n",
        "val_loss = []\n",
        "\n",
        "if(mirror == True):\n",
        "  mirror = 1\n",
        "\n",
        "for epoch in range(max_epochs):\n",
        "  tic = time.time()\n",
        "  tmp = []\n",
        "  \n",
        "  for i, data in enumerate(trainloader, 0):\n",
        "    for j in range(1+mirror):\n",
        "        inputt = get_input(data[0])\n",
        "        inputt = np.where(j>0,inputt[...,::-1,:],inputt)\n",
        "        inputt = gabor_filtering(inputt) # gabor filtering : ref: https://subscription.packtpub.com/book/application_development/9781788474443/2/ch02lvl1sec38/processing-images-with-real-valued-gabor-filters\n",
        "        inputt = np.transpose(inputt, (2,0,1))\n",
        "        inputt = inputt.reshape(1,inputt.shape[0],inputt.shape[1],inputt.shape[2])\n",
        "        inputt = torch.tensor(inputt).float()\n",
        "        ground_truth = torch.tensor(get_output(data[0].replace('.jpg','.h5').replace('images','ground')) )\n",
        "        inputt, ground_truth = inputt.to(device), ground_truth.to(device)\n",
        "        opt.zero_grad()\n",
        "        model_output = model(inputt) # <-\n",
        "        loss = loss_fn(torch.sum(model_output), torch.sum(ground_truth))\n",
        "        #loss = loss_fn(model_output, ground_truth)\n",
        "        loss.backward()\n",
        "        opt.step()\n",
        "        tmp.append(loss.item())\n",
        "  train_loss.append(np.mean(tmp))\n",
        "  tmp = []\n",
        "  \n",
        "  for i, data in enumerate(valloader, 0):\n",
        "    for j in range(1+mirror):\n",
        "      inputt = get_input(data[0])\n",
        "      inputt = np.where(j>0,inputt[...,::-1,:],inputt)\n",
        "      inputt = np.transpose(inputt, (2,0,1))\n",
        "      inputt = inputt.reshape(1,inputt.shape[0],inputt.shape[1],inputt.shape[2])\n",
        "      inputt = torch.tensor(inputt).float()\n",
        "      ground_truth = torch.tensor(get_output(data[0].replace('.jpg','.h5').replace('images','ground')) )\n",
        "      inputt, ground_truth = inputt.to(device), ground_truth.to(device)\n",
        "      opt.zero_grad()\n",
        "      model_output = model(inputt) # <-\n",
        "      #loss = loss_fn(model_output, ground_truth)\n",
        "      loss = loss_fn(torch.sum(model_output), torch.sum(ground_truth))\n",
        "      tmp.append(loss.item())\n",
        "\n",
        "  val_loss.append(np.mean(tmp))\n",
        "  print(train_loss[-1], val_loss[-1])\n",
        "  toc = time.time()\n",
        "  print(\"Time taken: {}\".format(np.round(toc-tic,3)))\n",
        "  print('Epoch: %d/%d' % (epoch+1, max_epochs))\n",
        "\n",
        "if(save_immediately):\n",
        "  torch.save(model.state_dict(),output_dir+model_savename+\".txt\")"
      ],
      "execution_count": null,
      "outputs": [
        {
          "output_type": "stream",
          "text": [
            "9676.149299706984 11963.922610425949\n",
            "Time taken: 313.83\n",
            "Epoch: 1/100\n",
            "8411.893612787408 12933.346290107816\n",
            "Time taken: 49.558\n",
            "Epoch: 2/100\n",
            "9181.466783645132 11908.27428118189\n",
            "Time taken: 49.311\n",
            "Epoch: 3/100\n",
            "7706.454285402528 11933.596717386692\n",
            "Time taken: 49.308\n",
            "Epoch: 4/100\n",
            "6996.789381157001 12157.52103744559\n",
            "Time taken: 49.372\n",
            "Epoch: 5/100\n",
            "6971.278955228254 12336.678571891709\n",
            "Time taken: 48.895\n",
            "Epoch: 6/100\n",
            "7234.361977760261 13831.137400329113\n",
            "Time taken: 48.735\n",
            "Epoch: 7/100\n",
            "6990.713992707827 11929.342772221566\n",
            "Time taken: 48.259\n",
            "Epoch: 8/100\n",
            "6376.724503983258 12176.853110766411\n",
            "Time taken: 48.016\n",
            "Epoch: 9/100\n",
            "7003.738580540766 12082.371569228359\n",
            "Time taken: 47.855\n",
            "Epoch: 10/100\n",
            "6736.227599654812 11915.191714394092\n",
            "Time taken: 48.015\n",
            "Epoch: 11/100\n",
            "6529.4816443178115 11903.077017989755\n",
            "Time taken: 48.209\n",
            "Epoch: 12/100\n",
            "5987.382238809572 12030.180799055099\n",
            "Time taken: 47.646\n",
            "Epoch: 13/100\n",
            "6190.197943146899 12347.801446282863\n",
            "Time taken: 47.32\n",
            "Epoch: 14/100\n",
            "6145.482457516901 12048.835939387232\n",
            "Time taken: 46.706\n",
            "Epoch: 15/100\n",
            "5930.929821635038 12224.362439697468\n",
            "Time taken: 46.45\n",
            "Epoch: 16/100\n",
            "5765.3302234941275 12011.704684865475\n",
            "Time taken: 46.455\n",
            "Epoch: 17/100\n",
            "5382.890750127862 12280.322095829248\n",
            "Time taken: 47.351\n",
            "Epoch: 18/100\n",
            "5489.41923540463 13466.412791857123\n",
            "Time taken: 45.254\n",
            "Epoch: 19/100\n",
            "5339.289927965636 11864.551567626\n",
            "Time taken: 45.469\n",
            "Epoch: 20/100\n",
            "5322.043026490137 12030.13729669042\n",
            "Time taken: 45.514\n",
            "Epoch: 21/100\n",
            "5247.862917395845 12071.419371002912\n",
            "Time taken: 45.405\n",
            "Epoch: 22/100\n",
            "5077.50019959074 12254.450431491434\n",
            "Time taken: 45.216\n",
            "Epoch: 23/100\n",
            "5239.6459553177465 13098.816265797615\n",
            "Time taken: 45.206\n",
            "Epoch: 24/100\n",
            "4963.392796201631 12154.767327427864\n",
            "Time taken: 45.376\n",
            "Epoch: 25/100\n",
            "4963.195595841889 12138.299915331601\n",
            "Time taken: 45.307\n",
            "Epoch: 26/100\n",
            "4304.968902762199 12001.000093859435\n",
            "Time taken: 45.392\n",
            "Epoch: 27/100\n",
            "3734.0097603602103 10840.148822665215\n",
            "Time taken: 45.624\n",
            "Epoch: 28/100\n",
            "3189.425584323611 11148.279537630082\n",
            "Time taken: 45.812\n",
            "Epoch: 29/100\n",
            "2801.374499887589 10528.754386675359\n",
            "Time taken: 46.327\n",
            "Epoch: 30/100\n",
            "1875.960357818604 11212.155771255493\n",
            "Time taken: 46.896\n",
            "Epoch: 31/100\n",
            "1359.1273625542613 9794.483950948716\n",
            "Time taken: 46.675\n",
            "Epoch: 32/100\n",
            "1147.1674098794276 9450.325878870488\n",
            "Time taken: 47.002\n",
            "Epoch: 33/100\n",
            "1238.6240864881315 9739.122538184747\n",
            "Time taken: 46.942\n",
            "Epoch: 34/100\n",
            "1336.2525533011212 9582.259469342232\n",
            "Time taken: 45.726\n",
            "Epoch: 35/100\n",
            "1305.0496724614045 9502.360496594012\n",
            "Time taken: 45.379\n",
            "Epoch: 36/100\n",
            "1442.9027909547906 11172.46176032722\n",
            "Time taken: 45.123\n",
            "Epoch: 37/100\n",
            "1339.5272779326974 9510.601447844505\n",
            "Time taken: 45.257\n",
            "Epoch: 38/100\n",
            "678.3880361095398 10175.04016395472\n",
            "Time taken: 45.098\n",
            "Epoch: 39/100\n",
            "422.69322447485246 10075.053347373008\n",
            "Time taken: 45.063\n",
            "Epoch: 40/100\n",
            "421.7877330294694 10078.962029180944\n",
            "Time taken: 45.355\n",
            "Epoch: 41/100\n",
            "522.1964992406895 9773.861455062031\n",
            "Time taken: 45.113\n",
            "Epoch: 42/100\n",
            "707.1233471546263 11184.695087185502\n",
            "Time taken: 45.03\n",
            "Epoch: 43/100\n",
            "512.0552501522747 9871.221145202964\n",
            "Time taken: 45.857\n",
            "Epoch: 44/100\n",
            "528.6927761107278 9065.34115319252\n",
            "Time taken: 45.178\n",
            "Epoch: 45/100\n",
            "566.0097397736147 11602.364542942494\n",
            "Time taken: 44.997\n",
            "Epoch: 46/100\n",
            "481.93479268629983 9862.95179270953\n",
            "Time taken: 45.55\n",
            "Epoch: 47/100\n",
            "409.8774691784982 9580.648464864493\n",
            "Time taken: 46.052\n",
            "Epoch: 48/100\n",
            "402.15267613247124 10208.17945328951\n",
            "Time taken: 45.543\n",
            "Epoch: 49/100\n",
            "392.80655504765457 10159.551411151886\n",
            "Time taken: 45.529\n",
            "Epoch: 50/100\n",
            "456.0608045993031 10672.489980860799\n",
            "Time taken: 45.574\n",
            "Epoch: 51/100\n",
            "517.0719998878892 11326.286619371176\n",
            "Time taken: 45.681\n",
            "Epoch: 52/100\n",
            "509.9299894631724 10106.98023249656\n",
            "Time taken: 45.537\n",
            "Epoch: 53/100\n",
            "360.24912094073096 9681.845645019412\n",
            "Time taken: 45.482\n",
            "Epoch: 54/100\n",
            "265.2397721144809 10736.487356008589\n",
            "Time taken: 46.066\n",
            "Epoch: 55/100\n",
            "228.85625509363308 10184.036544211955\n",
            "Time taken: 45.956\n",
            "Epoch: 56/100\n",
            "229.68523792772322 10372.359744066\n",
            "Time taken: 46.13\n",
            "Epoch: 57/100\n",
            "329.6137880386377 10346.648712251335\n",
            "Time taken: 46.367\n",
            "Epoch: 58/100\n",
            "404.9743390269905 10858.166925916075\n",
            "Time taken: 46.466\n",
            "Epoch: 59/100\n",
            "378.1608512140507 10055.876877041766\n",
            "Time taken: 46.698\n",
            "Epoch: 60/100\n",
            "343.6245924516232 9630.676327562333\n",
            "Time taken: 46.873\n",
            "Epoch: 61/100\n",
            "197.84570454299555 9720.348292326928\n",
            "Time taken: 46.87\n",
            "Epoch: 62/100\n",
            "214.41181227172783 9344.9719450064\n",
            "Time taken: 46.95\n",
            "Epoch: 63/100\n",
            "400.3715930947168 10529.712566587701\n",
            "Time taken: 47.463\n",
            "Epoch: 64/100\n",
            "381.4859953723462 10124.637273982913\n",
            "Time taken: 47.468\n",
            "Epoch: 65/100\n",
            "306.0629358655868 9510.540382790565\n",
            "Time taken: 46.701\n",
            "Epoch: 66/100\n",
            "393.12211429004964 12502.326703925432\n",
            "Time taken: 46.465\n",
            "Epoch: 67/100\n",
            "398.41669269923585 10254.429860377311\n",
            "Time taken: 46.911\n",
            "Epoch: 68/100\n",
            "421.83499395991095 10050.626587416604\n",
            "Time taken: 46.752\n",
            "Epoch: 69/100\n",
            "394.9724478208285 11429.573187039048\n",
            "Time taken: 46.157\n",
            "Epoch: 70/100\n",
            "440.41279350839613 9964.33875434408\n",
            "Time taken: 45.571\n",
            "Epoch: 71/100\n",
            "444.8217880789671 9809.232124369704\n",
            "Time taken: 45.188\n",
            "Epoch: 72/100\n",
            "150.1330309815261 9913.268265986442\n",
            "Time taken: 45.601\n",
            "Epoch: 73/100\n",
            "115.30169581496156 10963.649811585248\n",
            "Time taken: 45.769\n",
            "Epoch: 74/100\n",
            "122.71806836287655 11380.591180817783\n",
            "Time taken: 46.121\n",
            "Epoch: 75/100\n",
            "140.02510235581502 9639.791820803284\n",
            "Time taken: 45.867\n",
            "Epoch: 76/100\n",
            "184.35605579868897 9827.320879124478\n",
            "Time taken: 46.814\n",
            "Epoch: 77/100\n",
            "203.41147565931388 9767.52487591207\n",
            "Time taken: 46.039\n",
            "Epoch: 78/100\n",
            "209.1517667094131 10616.639349889756\n",
            "Time taken: 45.768\n",
            "Epoch: 79/100\n",
            "244.7080134635333 11262.57783583668\n",
            "Time taken: 45.893\n",
            "Epoch: 80/100\n",
            "272.42244043944885 10288.516225027293\n",
            "Time taken: 45.887\n",
            "Epoch: 81/100\n",
            "346.6385809922416 10047.21670725635\n",
            "Time taken: 45.962\n",
            "Epoch: 82/100\n",
            "272.74929401310527 10466.57415654924\n",
            "Time taken: 46.174\n",
            "Epoch: 83/100\n",
            "212.1727146367608 9919.157946649193\n",
            "Time taken: 46.149\n",
            "Epoch: 84/100\n",
            "149.13809632882877 10239.813655790687\n",
            "Time taken: 46.242\n",
            "Epoch: 85/100\n",
            "120.74821418622086 11699.63069173959\n",
            "Time taken: 46.053\n",
            "Epoch: 86/100\n",
            "136.61717646525213 9948.81585071269\n",
            "Time taken: 46.449\n",
            "Epoch: 87/100\n",
            "199.2625983277907 11138.057191114127\n",
            "Time taken: 46.524\n",
            "Epoch: 88/100\n",
            "259.9028497694964 10421.76453545466\n",
            "Time taken: 45.986\n",
            "Epoch: 89/100\n",
            "211.2176527265874 10169.499996227212\n",
            "Time taken: 45.447\n",
            "Epoch: 90/100\n",
            "195.11803680586164 9661.451580548286\n",
            "Time taken: 45.431\n",
            "Epoch: 91/100\n",
            "281.3291566274362 9891.711578476428\n",
            "Time taken: 45.303\n",
            "Epoch: 92/100\n",
            "302.14106481409254 10303.463170862664\n",
            "Time taken: 45.109\n",
            "Epoch: 93/100\n",
            "263.9834568981871 9969.827784609795\n",
            "Time taken: 45.487\n",
            "Epoch: 94/100\n",
            "163.09757024115106 10108.987087577767\n",
            "Time taken: 45.403\n",
            "Epoch: 95/100\n",
            "96.78294762097703 9997.181500172615\n",
            "Time taken: 45.154\n",
            "Epoch: 96/100\n",
            "88.28976936314466 9889.804548937082\n",
            "Time taken: 45.018\n",
            "Epoch: 97/100\n",
            "97.19286329887181 10204.036761584877\n",
            "Time taken: 44.834\n",
            "Epoch: 98/100\n",
            "100.2617617562044 10077.918268063664\n",
            "Time taken: 44.676\n",
            "Epoch: 99/100\n",
            "154.36634969478763 10328.813534434139\n",
            "Time taken: 44.59\n",
            "Epoch: 100/100\n"
          ],
          "name": "stdout"
        },
        {
          "output_type": "display_data",
          "data": {
            "image/png": "[encoded data removed]",
            "text/plain": [
              "<Figure size 432x288 with 1 Axes>"
            ]
          },
          "metadata": {
            "tags": [],
            "needs_background": "light"
          }
        }
      ]
    },
    {
      "cell_type": "markdown",
      "metadata": {
        "id": "g7uPCyH4R-bs"
      },
      "source": [
        "# Loss curve and Performance metrics"
      ]
    },
    {
      "cell_type": "code",
      "metadata": {
        "colab": {
          "base_uri": "https://localhost:8080/",
          "height": 295
        },
        "id": "WkqI2CWcEZXn",
        "outputId": "af42e0e8-bd0b-44b2-af2e-8bd637dedc8b"
      },
      "source": [
        "plt.semilogy(train_loss,'r',label='Training Loss')\n",
        "plt.semilogy(val_loss,'b',label='Validation Loss')\n",
        "plt.xlabel(\"Epoch\")\n",
        "plt.ylabel(\"MSE Loss\")\n",
        "plt.legend()\n",
        "plt.title(\"Loss Curve\")\n",
        "plt.savefig(output_dir+\"MobileNet_B_loss_curve_100_MSE_Adam_gabor_mirror_2.png\",bbox_inches = \"tight\")"
      ],
      "execution_count": null,
      "outputs": [
        {
          "output_type": "display_data",
          "data": {
            "image/png": "[encoded data removed]",
            "text/plain": [
              "<Figure size 432x288 with 1 Axes>"
            ]
          },
          "metadata": {
            "tags": [],
            "needs_background": "light"
          }
        }
      ]
    },
    {
      "cell_type": "markdown",
      "metadata": {
        "id": "lyNuQ3OASF-1"
      },
      "source": [
        "# Sample - Misc"
      ]
    },
    {
      "cell_type": "code",
      "metadata": {
        "id": "ISV0WRbhsorS"
      },
      "source": [
        "def get_sample_imgs(img_paths, FFT=False):\n",
        "  n = np.random.randint(0,len(img_paths))\n",
        "  inputt = get_input(img_paths[n])\n",
        "  inputt = gabor_filtering(inputt)\n",
        "  inputt = np.transpose(inputt, (2,0,1))\n",
        "  inputt = inputt.reshape(1,inputt.shape[0],inputt.shape[1],inputt.shape[2])\n",
        "  inputt = torch.tensor(inputt).float()\n",
        "  ground_truth = torch.tensor(get_output(img_paths[n].replace('.jpg','.h5').replace('images','ground')))\n",
        "  inputt, ground_truth = inputt.to(device), ground_truth.to(device)\n",
        "  model_output = model(inputt)\n",
        "  model_output = model_output.to('cpu').detach().numpy()\n",
        "  ground_truth = ground_truth.to('cpu').numpy()\n",
        "  return model_output[0][0], ground_truth"
      ],
      "execution_count": null,
      "outputs": []
    },
    {
      "cell_type": "code",
      "metadata": {
        "id": "x4KPDhdsseKI"
      },
      "source": [
        "def plot_portraits(img_paths, n_row=1, n_col=2, save_fig=True,save_dir='Output-images/',save_name='Eigen_faces', FFT=False):\n",
        "    plt.figure(figsize=(5 * n_col, 5 * n_row))\n",
        "    plt.subplots_adjust(bottom=0, left=.01, right=.99, top=.90, hspace=.20)\n",
        "    for i in range(n_row):\n",
        "        img_model,img_gt = get_sample_imgs(img_paths,FFT)\n",
        "        plt.subplot(n_row, n_col, i + 1)\n",
        "        plt.imshow(img_model)\n",
        "        plt.colorbar(shrink=0.6)\n",
        "        plt.xticks(())\n",
        "        plt.yticks(())\n",
        "        plt.subplot(n_row, n_col, i + 2)\n",
        "        plt.imshow(img_gt)\n",
        "        plt.colorbar(shrink=0.6)\n",
        "        plt.xticks(())\n",
        "        plt.yticks(())\n",
        "    if(save_fig):\n",
        "      plt.savefig(save_dir+save_name+'.png')"
      ],
      "execution_count": null,
      "outputs": []
    },
    {
      "cell_type": "code",
      "metadata": {
        "colab": {
          "base_uri": "https://localhost:8080/",
          "height": 231
        },
        "id": "vz2295cwtwGy",
        "outputId": "98f5f158-515a-43c5-954b-caba19db78ff"
      },
      "source": [
        "plot_portraits(img_paths,save_dir=output_dir,save_name='samples3')"
      ],
      "execution_count": null,
      "outputs": [
        {
          "output_type": "display_data",
          "data": {
            "image/png": "[encoded data removed]",
            "text/plain": [
              "<Figure size 720x360 with 4 Axes>"
            ]
          },
          "metadata": {
            "tags": [],
            "needs_background": "light"
          }
        }
      ]
    },
    {
      "cell_type": "markdown",
      "metadata": {
        "id": "cOwSM9U0SOcD"
      },
      "source": [
        "# Saving Model outputs to .npy files"
      ]
    },
    {
      "cell_type": "code",
      "metadata": {
        "id": "OmY1m_6GSN4Y"
      },
      "source": [
        "if(not os.path.isdir(output_dir+\"model_density_maps/\")):\n",
        "  os.mkdir(output_dir+\"model_density_maps/\")\n",
        "  model_hmap_paths = output_dir+\"model_density_maps/\"\n",
        "model_hmap_sum = []\n",
        "gt_sum = []\n",
        "for i, data in enumerate(img_paths, 0):\n",
        "  inputt = get_input(data)\n",
        "  inputt = np.transpose(inputt, (2,0,1))\n",
        "  inputt = inputt.reshape(1,inputt.shape[0],inputt.shape[1],inputt.shape[2])\n",
        "  inputt = torch.tensor(inputt).float()\n",
        "  inputt = inputt.to(device)\n",
        "  gt_sum.append([data,float(np.sum(get_output(data.replace('.jpg','.h5').replace('images','ground'))))])\n",
        "  model_output = model(inputt)\n",
        "  model_output = model_output.to('cpu').detach().numpy()\n",
        "  model_hmap_sum.append([data,float(np.sum(model_output))])\n",
        "  f_name = data.split('/')[-1]\n",
        "  f_name = f_name.split('.')\n",
        "  f_name = f_name[0]+'_model_density_map.npy'\n",
        "  np.save(model_hmap_paths+\"{}\".format(f_name), model_output)\n",
        "with open(model_hmap_paths+'model_hmap_sum.json', 'w') as f:\n",
        "  json.dump(model_hmap_sum, f)\n",
        "with open(model_hmap_paths+'gt_sum.json', 'w') as f:\n",
        "  json.dump(gt_sum, f)"
      ],
      "execution_count": null,
      "outputs": []
    },
    {
      "cell_type": "markdown",
      "metadata": {
        "id": "8u3yH2JnSJ7E"
      },
      "source": [
        "# Regressor"
      ]
    },
    {
      "cell_type": "code",
      "metadata": {
        "id": "zgQ3aPmPf3P9"
      },
      "source": [
        "class Regressor(nn.Module):\n",
        "    def __init__(self): \n",
        "        super(Regressor, self).__init__()\n",
        "        self.fc_model = nn.Sequential(\n",
        "            nn.Linear(1,10),         \n",
        "            nn.ReLU(),\n",
        "            nn.Linear(10,25),\n",
        "            nn.ReLU(),\n",
        "            nn.Linear(25,1)\n",
        "        )\n",
        "\n",
        "    def forward(self, x):\n",
        "        x = self.fc_model(x)\n",
        "        return x"
      ],
      "execution_count": null,
      "outputs": []
    },
    {
      "cell_type": "code",
      "metadata": {
        "id": "GVGUAgQocq9a"
      },
      "source": [
        "model_hmap_paths = output_dir+\"model_density_maps/\"\n",
        "f = open(model_hmap_paths+'model_hmap_sum.json',) \n",
        "model_hmap_sum = json.load(f)\n",
        "regdata = np.array([row[-1] for row in model_hmap_sum]).reshape(-1,1)\n",
        "f = open(model_hmap_paths+'gt_sum.json',) \n",
        "gt_sum = json.load(f)\n",
        "gtsum = np.array([row[-1] for row in gt_sum]).reshape(-1,1)"
      ],
      "execution_count": null,
      "outputs": []
    },
    {
      "cell_type": "code",
      "metadata": {
        "id": "6WmvFbz7eQ6K"
      },
      "source": [
        "regdata = torch.tensor(regdata).float().to(device)\n",
        "gtsum = torch.tensor(gtsum).float().to(device)"
      ],
      "execution_count": null,
      "outputs": []
    },
    {
      "cell_type": "code",
      "metadata": {
        "id": "jXWdbmrxEOfn"
      },
      "source": [
        "regloader = torch.utils.data.DataLoader(model_hmap_paths, batch_size=1, shuffle=True)\n",
        "regnet = Regressor().to(device)\n",
        "loss_fn = nn.MSELoss()\n",
        "opt = optim.Adam(regnet.parameters())"
      ],
      "execution_count": null,
      "outputs": []
    },
    {
      "cell_type": "code",
      "metadata": {
        "id": "8OOX1dDQa6Up"
      },
      "source": [
        "regressor_savename = \"MobileNet_B_regressor_100_MSE_Adam_gabor_mirror_2\"\n",
        "if(load_prev_model):  \n",
        "  regnet.load_state_dict(torch.load(output_dir+regressor_savename+\".txt\")) # loads previous weights\n",
        "regnet = regnet.to(device)"
      ],
      "execution_count": null,
      "outputs": []
    },
    {
      "cell_type": "code",
      "metadata": {
        "id": "AXpFoS7mLkZh"
      },
      "source": [
        "max_epochs = 1000\n",
        "train_loss = []\n",
        "train_acc_arr = []\n",
        "\n",
        "for epoch in range(max_epochs):\n",
        "  opt.zero_grad()\n",
        "  model_output = regnet(regdata)\n",
        "  loss = loss_fn(model_output, gtsum)\n",
        "  loss.backward()\n",
        "  opt.step()\n",
        "  train_loss.append(loss.item())\n",
        "  #print('Epoch: %d/%d' % (epoch, max_epochs))"
      ],
      "execution_count": null,
      "outputs": []
    },
    {
      "cell_type": "code",
      "metadata": {
        "colab": {
          "base_uri": "https://localhost:8080/"
        },
        "id": "68EuRk2-dtbD",
        "outputId": "e12dfd59-bdfe-49b5-d43d-6ea7c60eb212"
      },
      "source": [
        "regdata[0], regnet(regdata[0]), gtsum[0]"
      ],
      "execution_count": null,
      "outputs": [
        {
          "output_type": "execute_result",
          "data": {
            "text/plain": [
              "(tensor([174.5368], device='cuda:0'),\n",
              " tensor([180.5891], device='cuda:0', grad_fn=<AddBackward0>),\n",
              " tensor([228.9645], device='cuda:0'))"
            ]
          },
          "metadata": {
            "tags": []
          },
          "execution_count": 188
        }
      ]
    },
    {
      "cell_type": "code",
      "metadata": {
        "id": "i00kPPorpKl8"
      },
      "source": [
        "torch.save(regnet.state_dict(),output_dir+regressor_savename+\".txt\") # regressor model saved"
      ],
      "execution_count": null,
      "outputs": []
    },
    {
      "cell_type": "code",
      "metadata": {
        "colab": {
          "base_uri": "https://localhost:8080/",
          "height": 307
        },
        "id": "tCyK_EgGUksK",
        "outputId": "1ce642b4-fb2c-449c-bda3-d18d4676aa23"
      },
      "source": [
        "plt.plot(train_loss,'b',label='Training Loss')\n",
        "plt.xlabel(\"Epoch\",fontsize=15)\n",
        "plt.ylabel(\"MSE Loss\",fontsize=15)\n",
        "plt.legend(fontsize=15)\n",
        "plt.xticks(fontsize=15)\n",
        "plt.yticks(fontsize=15)\n",
        "plt.title(\"Loss Curve\",fontsize=15)\n",
        "plt.savefig(output_dir+\"MobileNet_B_regressor_loss_curve_100_MSE_Adam_gabor_mirror_2.png\",bbox_inches = \"tight\")"
      ],
      "execution_count": null,
      "outputs": [
        {
          "output_type": "display_data",
          "data": {
            "image/png": "[encoded data removed]",
            "text/plain": [
              "<Figure size 432x288 with 1 Axes>"
            ]
          },
          "metadata": {
            "tags": [],
            "needs_background": "light"
          }
        }
      ]
    },
    {
      "cell_type": "code",
      "metadata": {
        "colab": {
          "base_uri": "https://localhost:8080/",
          "height": 307
        },
        "id": "dYSCP05UeG1X",
        "outputId": "b2b7c29f-de8c-4923-c5a6-fb7b706becb3"
      },
      "source": [
        "model_sum = regnet(regdata).detach().cpu().numpy()\n",
        "gt_sum = gtsum.cpu().numpy()\n",
        "x = np.linspace(0,np.amax(gt_sum),1000)\n",
        "reg_data = regdata.cpu().numpy()\n",
        "plt.scatter(gt_sum,model_sum, label=\"Regressor Output\")\n",
        "plt.scatter(gt_sum,reg_data, label=\"Model Prediction\")\n",
        "plt.plot(x,x,'g')\n",
        "plt.xlabel(\"Ground Truth number of people\",fontsize=15)\n",
        "plt.ylabel(\"Predicted number of people\",fontsize=15)\n",
        "plt.legend(fontsize=15)\n",
        "plt.title(\"Comparison of model prediction with regressor output\",fontsize=15)\n",
        "plt.xticks(fontsize=15)\n",
        "plt.yticks(fontsize=15)\n",
        "plt.savefig(output_dir+\"comparison.png\", bbox_inches=\"tight\")"
      ],
      "execution_count": null,
      "outputs": [
        {
          "output_type": "display_data",
          "data": {
            "image/png": "[encoded data removed]",
            "text/plain": [
              "<Figure size 432x288 with 1 Axes>"
            ]
          },
          "metadata": {
            "tags": [],
            "needs_background": "light"
          }
        }
      ]
    },
    {
      "cell_type": "markdown",
      "metadata": {
        "id": "CLViwZMd41CU"
      },
      "source": [
        "# Testing"
      ]
    },
    {
      "cell_type": "code",
      "metadata": {
        "id": "CjgKGq6J-snH",
        "colab": {
          "base_uri": "https://localhost:8080/"
        },
        "outputId": "b45e9187-bda2-47fe-d963-cf572e95ca0c"
      },
      "source": [
        "'''model_output = {}\n",
        "testloader = torch.utils.data.DataLoader(test_img_paths, batch_size=1, shuffle=True)\n",
        "tic = time.time()\n",
        "tmp = []\n",
        "for i, data in enumerate(testloader, 0):\n",
        "  inputt = get_input(data[0])\n",
        "  inputt = np.transpose(inputt, (2,0,1))\n",
        "  inputt = inputt.reshape(1,inputt.shape[0],inputt.shape[1],inputt.shape[2])\n",
        "  inputt = torch.tensor(inputt).float()\n",
        "  inputt = inputt.to(device)\n",
        "  model_output[i] = model(inputt) # <-\n",
        "toc = time.time()\n",
        "print(\"Time taken: {}\".format(np.round(toc-tic,3)))'''"
      ],
      "execution_count": null,
      "outputs": [
        {
          "output_type": "stream",
          "text": [
            "Time taken: 5.528\n"
          ],
          "name": "stdout"
        }
      ]
    },
    {
      "cell_type": "code",
      "metadata": {
        "colab": {
          "base_uri": "https://localhost:8080/"
        },
        "id": "9XbKWUVw47zF",
        "outputId": "03f12a26-11da-451b-83f6-f67261ea9785"
      },
      "source": [
        "test_model_sum = np.array([])\n",
        "test_gt_sum = np.array([])\n",
        "testloader = torch.utils.data.DataLoader(test_img_paths, batch_size=1, shuffle=True)\n",
        "tic = time.time()\n",
        "tmp = []\n",
        "for i, data in enumerate(testloader, 0):\n",
        "  inputt = get_input(data[0])\n",
        "  inputt = np.transpose(inputt, (2,0,1))\n",
        "  inputt = inputt.reshape(1,inputt.shape[0],inputt.shape[1],inputt.shape[2])\n",
        "  inputt = torch.tensor(inputt).float()\n",
        "  ground_truth = torch.tensor(get_output(data[0].replace('.jpg','.h5').replace('images','ground')) )\n",
        "  inputt, ground_truth = inputt.to(device), ground_truth.to(device)\n",
        "  opt.zero_grad()\n",
        "  model_output = model(inputt) # <-\n",
        "  loss = loss_fn(torch.sum(model_output), torch.sum(ground_truth))\n",
        "  tmp.append(loss.item())\n",
        "  reg_pred = torch.tensor([torch.sum(model_output)]).to(device)#.reshape(-1,1)\n",
        "  reg_pred = regnet(reg_pred).detach().cpu().item()\n",
        "  test_model_sum = np.append(test_model_sum,reg_pred)\n",
        "  test_gt_sum = np.append(test_gt_sum,np.sum(ground_truth.cpu().numpy()))\n",
        "print(\"Mean Test Loss: \",np.mean(tmp))\n",
        "print(\"Mean Residual: \",np.mean(np.abs(test_model_sum-test_gt_sum)))\n",
        "print(\"% Non-Linearity: \",np.mean(100*np.abs(1-(test_gt_sum/test_model_sum))))\n",
        "toc = time.time()\n",
        "print(\"Time taken: {}\".format(np.round(toc-tic,3)))"
      ],
      "execution_count": null,
      "outputs": [
        {
          "output_type": "stream",
          "text": [
            "Mean Test Loss:  8438.892844165097\n",
            "Mean Residual:  67.7445170185234\n",
            "% Non-Linearity:  56.104792628427795\n",
            "Time taken: 230.987\n"
          ],
          "name": "stdout"
        }
      ]
    },
    {
      "cell_type": "code",
      "metadata": {
        "colab": {
          "base_uri": "https://localhost:8080/",
          "height": 307
        },
        "id": "rW6zr_PA2ahn",
        "outputId": "885b2bd0-31fb-45e6-9e27-a3cf01cd87b4"
      },
      "source": [
        "x_test = np.linspace(0,np.amax(test_gt_sum))\n",
        "plt.scatter(test_gt_sum,test_model_sum,label=\"Model Prediction\")\n",
        "plt.plot(x_test,x_test,'g')\n",
        "plt.xlabel(\"Ground Truth number of people\",fontsize=15)\n",
        "plt.ylabel(\"Predicted number of people\",fontsize=15)\n",
        "plt.legend(fontsize=15)\n",
        "plt.title(\"Comparison of model prediction with Ground Truth\",fontsize=15)\n",
        "plt.xticks(fontsize=15)\n",
        "plt.yticks(fontsize=15)\n",
        "plt.savefig(output_dir+\"test_comparison.png\", bbox_inches=\"tight\")"
      ],
      "execution_count": null,
      "outputs": [
        {
          "output_type": "display_data",
          "data": {
            "image/png": "[encoded data removed]",
            "text/plain": [
              "<Figure size 432x288 with 1 Axes>"
            ]
          },
          "metadata": {
            "tags": [],
            "needs_background": "light"
          }
        }
      ]
    },
    {
      "cell_type": "code",
      "metadata": {
        "id": "HnS6Tngz5jHk",
        "colab": {
          "base_uri": "https://localhost:8080/",
          "height": 234
        },
        "outputId": "fd5ba335-0537-4f54-f0bb-18603be19fb2"
      },
      "source": [
        "plot_portraits(test_img_paths,save_dir=output_dir,save_name='test_samples0')"
      ],
      "execution_count": null,
      "outputs": [
        {
          "output_type": "display_data",
          "data": {
            "image/png": "[encoded data removed]",
            "text/plain": [
              "<Figure size 720x360 with 4 Axes>"
            ]
          },
          "metadata": {
            "tags": [],
            "needs_background": "light"
          }
        }
      ]
    },
    {
      "cell_type": "markdown",
      "metadata": {
        "id": "0tZNEgKQoYPp"
      },
      "source": [
        "# downloading zip file  "
      ]
    },
    {
      "cell_type": "markdown",
      "metadata": {
        "id": "hXS-tQa3ogrc"
      },
      "source": [
        "so output dir will contain the following:\n",
        "1. cnn loss curve\n",
        "2. training and validation set output density maps\n",
        "3. trained model\n",
        "4. regressor weights\n",
        "5. regressor loss curve\n",
        "6. Comparison scatter plot\n",
        "\n",
        "Not available - class definition for model and regressor -- need to copy paste manually"
      ]
    },
    {
      "cell_type": "code",
      "metadata": {
        "id": "vRTuiefQV30t",
        "colab": {
          "base_uri": "https://localhost:8080/",
          "height": 1000
        },
        "outputId": "dabcf39d-47b4-4d18-b4d2-083cb8c95294"
      },
      "source": [
        "!zip -r /content/Mobile_CSRNet_B_gabor_mse_mirror_2.zip /content/Mobile_CSRNet_B_gabor_mse_mirror_2/ # !zip -r /content/<zip_file_name>.zip output_dir (need to type in the output directory manually)\n",
        "files.download(\"/content/Mobile_CSRNet_B_gabor_mse_mirror_2.zip\")"
      ],
      "execution_count": null,
      "outputs": [
        {
          "output_type": "stream",
          "text": [
            "  adding: content/Mobile_CSRNet_B_gabor_mse_mirror_2/ (stored 0%)\n",
            "  adding: content/Mobile_CSRNet_B_gabor_mse_mirror_2/comparison.png (deflated 4%)\n",
            "  adding: content/Mobile_CSRNet_B_gabor_mse_mirror_2/test_samples3.png (deflated 7%)\n",
            "  adding: content/Mobile_CSRNet_B_gabor_mse_mirror_2/test_samples2.png (deflated 7%)\n",
            "  adding: content/Mobile_CSRNet_B_gabor_mse_mirror_2/samples0.png (deflated 10%)\n",
            "  adding: content/Mobile_CSRNet_B_gabor_mse_mirror_2/samples1.png (deflated 11%)\n",
            "  adding: content/Mobile_CSRNet_B_gabor_mse_mirror_2/test_samples0.png (deflated 9%)\n",
            "  adding: content/Mobile_CSRNet_B_gabor_mse_mirror_2/model_density_maps/ (stored 0%)\n",
            "  adding: content/Mobile_CSRNet_B_gabor_mse_mirror_2/model_density_maps/IMG_138_model_density_map.npy (deflated 96%)\n",
            "  adding: content/Mobile_CSRNet_B_gabor_mse_mirror_2/model_density_maps/IMG_90_model_density_map.npy (deflated 96%)\n",
            "  adding: content/Mobile_CSRNet_B_gabor_mse_mirror_2/model_density_maps/IMG_298_model_density_map.npy (deflated 96%)\n",
            "  adding: content/Mobile_CSRNet_B_gabor_mse_mirror_2/model_density_maps/IMG_189_model_density_map.npy (deflated 97%)\n",
            "  adding: content/Mobile_CSRNet_B_gabor_mse_mirror_2/model_density_maps/IMG_363_model_density_map.npy (deflated 97%)\n",
            "  adding: content/Mobile_CSRNet_B_gabor_mse_mirror_2/model_density_maps/IMG_221_model_density_map.npy (deflated 95%)\n",
            "  adding: content/Mobile_CSRNet_B_gabor_mse_mirror_2/model_density_maps/IMG_246_model_density_map.npy (deflated 95%)\n",
            "  adding: content/Mobile_CSRNet_B_gabor_mse_mirror_2/model_density_maps/IMG_320_model_density_map.npy (deflated 96%)\n",
            "  adding: content/Mobile_CSRNet_B_gabor_mse_mirror_2/model_density_maps/IMG_24_model_density_map.npy (deflated 96%)\n",
            "  adding: content/Mobile_CSRNet_B_gabor_mse_mirror_2/model_density_maps/IMG_190_model_density_map.npy (deflated 95%)\n",
            "  adding: content/Mobile_CSRNet_B_gabor_mse_mirror_2/model_density_maps/IMG_91_model_density_map.npy (deflated 96%)\n",
            "  adding: content/Mobile_CSRNet_B_gabor_mse_mirror_2/model_density_maps/IMG_59_model_density_map.npy (deflated 95%)\n",
            "  adding: content/Mobile_CSRNet_B_gabor_mse_mirror_2/model_density_maps/IMG_244_model_density_map.npy (deflated 97%)\n",
            "  adding: content/Mobile_CSRNet_B_gabor_mse_mirror_2/model_density_maps/IMG_147_model_density_map.npy (deflated 96%)\n",
            "  adding: content/Mobile_CSRNet_B_gabor_mse_mirror_2/model_density_maps/IMG_216_model_density_map.npy (deflated 96%)\n",
            "  adding: content/Mobile_CSRNet_B_gabor_mse_mirror_2/model_density_maps/IMG_236_model_density_map.npy (deflated 97%)\n",
            "  adding: content/Mobile_CSRNet_B_gabor_mse_mirror_2/model_density_maps/IMG_1_model_density_map.npy (deflated 96%)\n",
            "  adding: content/Mobile_CSRNet_B_gabor_mse_mirror_2/model_density_maps/IMG_303_model_density_map.npy (deflated 96%)\n",
            "  adding: content/Mobile_CSRNet_B_gabor_mse_mirror_2/model_density_maps/IMG_38_model_density_map.npy (deflated 95%)\n",
            "  adding: content/Mobile_CSRNet_B_gabor_mse_mirror_2/model_density_maps/IMG_157_model_density_map.npy (deflated 95%)\n",
            "  adding: content/Mobile_CSRNet_B_gabor_mse_mirror_2/model_density_maps/IMG_4_model_density_map.npy (deflated 95%)\n",
            "  adding: content/Mobile_CSRNet_B_gabor_mse_mirror_2/model_density_maps/IMG_153_model_density_map.npy (deflated 97%)\n",
            "  adding: content/Mobile_CSRNet_B_gabor_mse_mirror_2/model_density_maps/IMG_76_model_density_map.npy (deflated 96%)\n",
            "  adding: content/Mobile_CSRNet_B_gabor_mse_mirror_2/model_density_maps/IMG_135_model_density_map.npy (deflated 97%)\n",
            "  adding: content/Mobile_CSRNet_B_gabor_mse_mirror_2/model_density_maps/IMG_61_model_density_map.npy (deflated 96%)\n",
            "  adding: content/Mobile_CSRNet_B_gabor_mse_mirror_2/model_density_maps/IMG_148_model_density_map.npy (deflated 96%)\n",
            "  adding: content/Mobile_CSRNet_B_gabor_mse_mirror_2/model_density_maps/IMG_165_model_density_map.npy (deflated 96%)\n",
            "  adding: content/Mobile_CSRNet_B_gabor_mse_mirror_2/model_density_maps/IMG_316_model_density_map.npy (deflated 97%)\n",
            "  adding: content/Mobile_CSRNet_B_gabor_mse_mirror_2/model_density_maps/IMG_380_model_density_map.npy (deflated 96%)\n",
            "  adding: content/Mobile_CSRNet_B_gabor_mse_mirror_2/model_density_maps/IMG_374_model_density_map.npy (deflated 96%)\n",
            "  adding: content/Mobile_CSRNet_B_gabor_mse_mirror_2/model_density_maps/IMG_2_model_density_map.npy (deflated 95%)\n",
            "  adding: content/Mobile_CSRNet_B_gabor_mse_mirror_2/model_density_maps/IMG_253_model_density_map.npy (deflated 96%)\n",
            "  adding: content/Mobile_CSRNet_B_gabor_mse_mirror_2/model_density_maps/IMG_33_model_density_map.npy (deflated 96%)\n",
            "  adding: content/Mobile_CSRNet_B_gabor_mse_mirror_2/model_density_maps/IMG_103_model_density_map.npy (deflated 96%)\n",
            "  adding: content/Mobile_CSRNet_B_gabor_mse_mirror_2/model_density_maps/IMG_117_model_density_map.npy (deflated 96%)\n",
            "  adding: content/Mobile_CSRNet_B_gabor_mse_mirror_2/model_density_maps/IMG_226_model_density_map.npy (deflated 96%)\n",
            "  adding: content/Mobile_CSRNet_B_gabor_mse_mirror_2/model_density_maps/IMG_224_model_density_map.npy (deflated 96%)\n",
            "  adding: content/Mobile_CSRNet_B_gabor_mse_mirror_2/model_density_maps/IMG_271_model_density_map.npy (deflated 95%)\n",
            "  adding: content/Mobile_CSRNet_B_gabor_mse_mirror_2/model_density_maps/IMG_357_model_density_map.npy (deflated 96%)\n",
            "  adding: content/Mobile_CSRNet_B_gabor_mse_mirror_2/model_density_maps/IMG_391_model_density_map.npy (deflated 96%)\n",
            "  adding: content/Mobile_CSRNet_B_gabor_mse_mirror_2/model_density_maps/IMG_73_model_density_map.npy (deflated 95%)\n",
            "  adding: content/Mobile_CSRNet_B_gabor_mse_mirror_2/model_density_maps/IMG_323_model_density_map.npy (deflated 96%)\n",
            "  adding: content/Mobile_CSRNet_B_gabor_mse_mirror_2/model_density_maps/IMG_237_model_density_map.npy (deflated 98%)\n",
            "  adding: content/Mobile_CSRNet_B_gabor_mse_mirror_2/model_density_maps/IMG_177_model_density_map.npy (deflated 95%)\n",
            "  adding: content/Mobile_CSRNet_B_gabor_mse_mirror_2/model_density_maps/IMG_56_model_density_map.npy (deflated 97%)\n",
            "  adding: content/Mobile_CSRNet_B_gabor_mse_mirror_2/model_density_maps/IMG_197_model_density_map.npy (deflated 96%)\n",
            "  adding: content/Mobile_CSRNet_B_gabor_mse_mirror_2/model_density_maps/IMG_129_model_density_map.npy (deflated 96%)\n",
            "  adding: content/Mobile_CSRNet_B_gabor_mse_mirror_2/model_density_maps/IMG_305_model_density_map.npy (deflated 96%)\n",
            "  adding: content/Mobile_CSRNet_B_gabor_mse_mirror_2/model_density_maps/IMG_392_model_density_map.npy (deflated 96%)\n",
            "  adding: content/Mobile_CSRNet_B_gabor_mse_mirror_2/model_density_maps/IMG_228_model_density_map.npy (deflated 96%)\n",
            "  adding: content/Mobile_CSRNet_B_gabor_mse_mirror_2/model_density_maps/IMG_341_model_density_map.npy (deflated 97%)\n",
            "  adding: content/Mobile_CSRNet_B_gabor_mse_mirror_2/model_density_maps/IMG_334_model_density_map.npy (deflated 96%)\n",
            "  adding: content/Mobile_CSRNet_B_gabor_mse_mirror_2/model_density_maps/IMG_119_model_density_map.npy (deflated 95%)\n",
            "  adding: content/Mobile_CSRNet_B_gabor_mse_mirror_2/model_density_maps/IMG_282_model_density_map.npy (deflated 96%)\n",
            "  adding: content/Mobile_CSRNet_B_gabor_mse_mirror_2/model_density_maps/IMG_192_model_density_map.npy (deflated 97%)\n",
            "  adding: content/Mobile_CSRNet_B_gabor_mse_mirror_2/model_density_maps/IMG_64_model_density_map.npy (deflated 97%)\n",
            "  adding: content/Mobile_CSRNet_B_gabor_mse_mirror_2/model_density_maps/IMG_322_model_density_map.npy (deflated 96%)\n",
            "  adding: content/Mobile_CSRNet_B_gabor_mse_mirror_2/model_density_maps/IMG_306_model_density_map.npy (deflated 97%)\n",
            "  adding: content/Mobile_CSRNet_B_gabor_mse_mirror_2/model_density_maps/IMG_89_model_density_map.npy (deflated 96%)\n",
            "  adding: content/Mobile_CSRNet_B_gabor_mse_mirror_2/model_density_maps/IMG_400_model_density_map.npy (deflated 96%)\n",
            "  adding: content/Mobile_CSRNet_B_gabor_mse_mirror_2/model_density_maps/IMG_351_model_density_map.npy (deflated 95%)\n",
            "  adding: content/Mobile_CSRNet_B_gabor_mse_mirror_2/model_density_maps/IMG_243_model_density_map.npy (deflated 96%)\n",
            "  adding: content/Mobile_CSRNet_B_gabor_mse_mirror_2/model_density_maps/IMG_27_model_density_map.npy (deflated 95%)\n",
            "  adding: content/Mobile_CSRNet_B_gabor_mse_mirror_2/model_density_maps/IMG_134_model_density_map.npy (deflated 96%)\n",
            "  adding: content/Mobile_CSRNet_B_gabor_mse_mirror_2/model_density_maps/IMG_126_model_density_map.npy (deflated 95%)\n",
            "  adding: content/Mobile_CSRNet_B_gabor_mse_mirror_2/model_density_maps/IMG_44_model_density_map.npy (deflated 97%)\n",
            "  adding: content/Mobile_CSRNet_B_gabor_mse_mirror_2/model_density_maps/IMG_29_model_density_map.npy (deflated 96%)\n",
            "  adding: content/Mobile_CSRNet_B_gabor_mse_mirror_2/model_density_maps/IMG_345_model_density_map.npy (deflated 97%)\n",
            "  adding: content/Mobile_CSRNet_B_gabor_mse_mirror_2/model_density_maps/IMG_385_model_density_map.npy (deflated 98%)\n",
            "  adding: content/Mobile_CSRNet_B_gabor_mse_mirror_2/model_density_maps/IMG_309_model_density_map.npy (deflated 97%)\n",
            "  adding: content/Mobile_CSRNet_B_gabor_mse_mirror_2/model_density_maps/IMG_286_model_density_map.npy (deflated 96%)\n",
            "  adding: content/Mobile_CSRNet_B_gabor_mse_mirror_2/model_density_maps/IMG_161_model_density_map.npy (deflated 96%)\n",
            "  adding: content/Mobile_CSRNet_B_gabor_mse_mirror_2/model_density_maps/IMG_37_model_density_map.npy (deflated 96%)\n",
            "  adding: content/Mobile_CSRNet_B_gabor_mse_mirror_2/model_density_maps/IMG_326_model_density_map.npy (deflated 96%)\n",
            "  adding: content/Mobile_CSRNet_B_gabor_mse_mirror_2/model_density_maps/IMG_238_model_density_map.npy (deflated 97%)\n",
            "  adding: content/Mobile_CSRNet_B_gabor_mse_mirror_2/model_density_maps/IMG_250_model_density_map.npy (deflated 96%)\n",
            "  adding: content/Mobile_CSRNet_B_gabor_mse_mirror_2/model_density_maps/IMG_261_model_density_map.npy (deflated 96%)\n",
            "  adding: content/Mobile_CSRNet_B_gabor_mse_mirror_2/model_density_maps/IMG_60_model_density_map.npy (deflated 95%)\n",
            "  adding: content/Mobile_CSRNet_B_gabor_mse_mirror_2/model_density_maps/IMG_49_model_density_map.npy (deflated 96%)\n",
            "  adding: content/Mobile_CSRNet_B_gabor_mse_mirror_2/model_density_maps/IMG_93_model_density_map.npy (deflated 97%)\n",
            "  adding: content/Mobile_CSRNet_B_gabor_mse_mirror_2/model_density_maps/IMG_121_model_density_map.npy (deflated 96%)\n",
            "  adding: content/Mobile_CSRNet_B_gabor_mse_mirror_2/model_density_maps/IMG_96_model_density_map.npy (deflated 96%)\n",
            "  adding: content/Mobile_CSRNet_B_gabor_mse_mirror_2/model_density_maps/IMG_214_model_density_map.npy (deflated 96%)\n",
            "  adding: content/Mobile_CSRNet_B_gabor_mse_mirror_2/model_density_maps/IMG_234_model_density_map.npy (deflated 96%)\n",
            "  adding: content/Mobile_CSRNet_B_gabor_mse_mirror_2/model_density_maps/IMG_225_model_density_map.npy (deflated 96%)\n",
            "  adding: content/Mobile_CSRNet_B_gabor_mse_mirror_2/model_density_maps/IMG_34_model_density_map.npy (deflated 96%)\n",
            "  adding: content/Mobile_CSRNet_B_gabor_mse_mirror_2/model_density_maps/IMG_318_model_density_map.npy (deflated 96%)\n",
            "  adding: content/Mobile_CSRNet_B_gabor_mse_mirror_2/model_density_maps/IMG_331_model_density_map.npy (deflated 96%)\n",
            "  adding: content/Mobile_CSRNet_B_gabor_mse_mirror_2/model_density_maps/IMG_179_model_density_map.npy (deflated 95%)\n",
            "  adding: content/Mobile_CSRNet_B_gabor_mse_mirror_2/model_density_maps/IMG_92_model_density_map.npy (deflated 96%)\n",
            "  adding: content/Mobile_CSRNet_B_gabor_mse_mirror_2/model_density_maps/IMG_296_model_density_map.npy (deflated 97%)\n",
            "  adding: content/Mobile_CSRNet_B_gabor_mse_mirror_2/model_density_maps/IMG_106_model_density_map.npy (deflated 96%)\n",
            "  adding: content/Mobile_CSRNet_B_gabor_mse_mirror_2/model_density_maps/IMG_137_model_density_map.npy (deflated 96%)\n",
            "  adding: content/Mobile_CSRNet_B_gabor_mse_mirror_2/model_density_maps/IMG_255_model_density_map.npy (deflated 97%)\n",
            "  adding: content/Mobile_CSRNet_B_gabor_mse_mirror_2/model_density_maps/IMG_30_model_density_map.npy (deflated 96%)\n",
            "  adding: content/Mobile_CSRNet_B_gabor_mse_mirror_2/model_density_maps/IMG_152_model_density_map.npy (deflated 96%)\n",
            "  adding: content/Mobile_CSRNet_B_gabor_mse_mirror_2/model_density_maps/IMG_141_model_density_map.npy (deflated 97%)\n",
            "  adding: content/Mobile_CSRNet_B_gabor_mse_mirror_2/model_density_maps/IMG_394_model_density_map.npy (deflated 96%)\n",
            "  adding: content/Mobile_CSRNet_B_gabor_mse_mirror_2/model_density_maps/IMG_260_model_density_map.npy (deflated 96%)\n",
            "  adding: content/Mobile_CSRNet_B_gabor_mse_mirror_2/model_density_maps/IMG_71_model_density_map.npy (deflated 96%)\n",
            "  adding: content/Mobile_CSRNet_B_gabor_mse_mirror_2/model_density_maps/IMG_358_model_density_map.npy (deflated 97%)\n",
            "  adding: content/Mobile_CSRNet_B_gabor_mse_mirror_2/model_density_maps/IMG_258_model_density_map.npy (deflated 96%)\n",
            "  adding: content/Mobile_CSRNet_B_gabor_mse_mirror_2/model_density_maps/IMG_169_model_density_map.npy (deflated 96%)\n",
            "  adding: content/Mobile_CSRNet_B_gabor_mse_mirror_2/model_density_maps/IMG_279_model_density_map.npy (deflated 96%)\n",
            "  adding: content/Mobile_CSRNet_B_gabor_mse_mirror_2/model_density_maps/IMG_372_model_density_map.npy (deflated 95%)\n",
            "  adding: content/Mobile_CSRNet_B_gabor_mse_mirror_2/model_density_maps/IMG_172_model_density_map.npy (deflated 96%)\n",
            "  adding: content/Mobile_CSRNet_B_gabor_mse_mirror_2/model_density_maps/IMG_112_model_density_map.npy (deflated 96%)\n",
            "  adding: content/Mobile_CSRNet_B_gabor_mse_mirror_2/model_density_maps/IMG_206_model_density_map.npy (deflated 97%)\n",
            "  adding: content/Mobile_CSRNet_B_gabor_mse_mirror_2/model_density_maps/IMG_77_model_density_map.npy (deflated 96%)\n",
            "  adding: content/Mobile_CSRNet_B_gabor_mse_mirror_2/model_density_maps/IMG_399_model_density_map.npy (deflated 97%)\n",
            "  adding: content/Mobile_CSRNet_B_gabor_mse_mirror_2/model_density_maps/IMG_217_model_density_map.npy (deflated 95%)\n",
            "  adding: content/Mobile_CSRNet_B_gabor_mse_mirror_2/model_density_maps/IMG_308_model_density_map.npy (deflated 97%)\n",
            "  adding: content/Mobile_CSRNet_B_gabor_mse_mirror_2/model_density_maps/IMG_204_model_density_map.npy (deflated 96%)\n",
            "  adding: content/Mobile_CSRNet_B_gabor_mse_mirror_2/model_density_maps/IMG_342_model_density_map.npy (deflated 97%)\n",
            "  adding: content/Mobile_CSRNet_B_gabor_mse_mirror_2/model_density_maps/IMG_72_model_density_map.npy (deflated 96%)\n",
            "  adding: content/Mobile_CSRNet_B_gabor_mse_mirror_2/model_density_maps/IMG_397_model_density_map.npy (deflated 96%)\n",
            "  adding: content/Mobile_CSRNet_B_gabor_mse_mirror_2/model_density_maps/IMG_32_model_density_map.npy (deflated 97%)\n",
            "  adding: content/Mobile_CSRNet_B_gabor_mse_mirror_2/model_density_maps/IMG_321_model_density_map.npy (deflated 97%)\n",
            "  adding: content/Mobile_CSRNet_B_gabor_mse_mirror_2/model_density_maps/IMG_280_model_density_map.npy (deflated 96%)\n",
            "  adding: content/Mobile_CSRNet_B_gabor_mse_mirror_2/model_density_maps/IMG_208_model_density_map.npy (deflated 97%)\n",
            "  adding: content/Mobile_CSRNet_B_gabor_mse_mirror_2/model_density_maps/IMG_43_model_density_map.npy (deflated 95%)\n",
            "  adding: content/Mobile_CSRNet_B_gabor_mse_mirror_2/model_density_maps/IMG_325_model_density_map.npy (deflated 97%)\n",
            "  adding: content/Mobile_CSRNet_B_gabor_mse_mirror_2/model_density_maps/IMG_259_model_density_map.npy (deflated 95%)\n",
            "  adding: content/Mobile_CSRNet_B_gabor_mse_mirror_2/model_density_maps/IMG_262_model_density_map.npy (deflated 97%)\n",
            "  adding: content/Mobile_CSRNet_B_gabor_mse_mirror_2/model_density_maps/IMG_201_model_density_map.npy (deflated 97%)\n",
            "  adding: content/Mobile_CSRNet_B_gabor_mse_mirror_2/model_density_maps/IMG_209_model_density_map.npy (deflated 96%)\n",
            "  adding: content/Mobile_CSRNet_B_gabor_mse_mirror_2/model_density_maps/IMG_22_model_density_map.npy (deflated 97%)\n",
            "  adding: content/Mobile_CSRNet_B_gabor_mse_mirror_2/model_density_maps/IMG_274_model_density_map.npy (deflated 96%)\n",
            "  adding: content/Mobile_CSRNet_B_gabor_mse_mirror_2/model_density_maps/IMG_348_model_density_map.npy (deflated 97%)\n",
            "  adding: content/Mobile_CSRNet_B_gabor_mse_mirror_2/model_density_maps/IMG_393_model_density_map.npy (deflated 95%)\n",
            "  adding: content/Mobile_CSRNet_B_gabor_mse_mirror_2/model_density_maps/IMG_25_model_density_map.npy (deflated 96%)\n",
            "  adding: content/Mobile_CSRNet_B_gabor_mse_mirror_2/model_density_maps/IMG_62_model_density_map.npy (deflated 96%)\n",
            "  adding: content/Mobile_CSRNet_B_gabor_mse_mirror_2/model_density_maps/IMG_131_model_density_map.npy (deflated 96%)\n",
            "  adding: content/Mobile_CSRNet_B_gabor_mse_mirror_2/model_density_maps/IMG_239_model_density_map.npy (deflated 95%)\n",
            "  adding: content/Mobile_CSRNet_B_gabor_mse_mirror_2/model_density_maps/IMG_48_model_density_map.npy (deflated 97%)\n",
            "  adding: content/Mobile_CSRNet_B_gabor_mse_mirror_2/model_density_maps/IMG_268_model_density_map.npy (deflated 97%)\n",
            "  adding: content/Mobile_CSRNet_B_gabor_mse_mirror_2/model_density_maps/IMG_290_model_density_map.npy (deflated 96%)\n",
            "  adding: content/Mobile_CSRNet_B_gabor_mse_mirror_2/model_density_maps/IMG_99_model_density_map.npy (deflated 95%)\n",
            "  adding: content/Mobile_CSRNet_B_gabor_mse_mirror_2/model_density_maps/IMG_155_model_density_map.npy (deflated 96%)\n",
            "  adding: content/Mobile_CSRNet_B_gabor_mse_mirror_2/model_density_maps/IMG_53_model_density_map.npy (deflated 96%)\n",
            "  adding: content/Mobile_CSRNet_B_gabor_mse_mirror_2/model_density_maps/IMG_55_model_density_map.npy (deflated 96%)\n",
            "  adding: content/Mobile_CSRNet_B_gabor_mse_mirror_2/model_density_maps/IMG_292_model_density_map.npy (deflated 97%)\n",
            "  adding: content/Mobile_CSRNet_B_gabor_mse_mirror_2/model_density_maps/IMG_63_model_density_map.npy (deflated 96%)\n",
            "  adding: content/Mobile_CSRNet_B_gabor_mse_mirror_2/model_density_maps/IMG_368_model_density_map.npy (deflated 95%)\n",
            "  adding: content/Mobile_CSRNet_B_gabor_mse_mirror_2/model_density_maps/IMG_101_model_density_map.npy (deflated 97%)\n",
            "  adding: content/Mobile_CSRNet_B_gabor_mse_mirror_2/model_density_maps/IMG_69_model_density_map.npy (deflated 96%)\n",
            "  adding: content/Mobile_CSRNet_B_gabor_mse_mirror_2/model_density_maps/IMG_132_model_density_map.npy (deflated 96%)\n",
            "  adding: content/Mobile_CSRNet_B_gabor_mse_mirror_2/model_density_maps/IMG_245_model_density_map.npy (deflated 97%)\n",
            "  adding: content/Mobile_CSRNet_B_gabor_mse_mirror_2/model_density_maps/IMG_184_model_density_map.npy (deflated 97%)\n",
            "  adding: content/Mobile_CSRNet_B_gabor_mse_mirror_2/model_density_maps/IMG_233_model_density_map.npy (deflated 97%)\n",
            "  adding: content/Mobile_CSRNet_B_gabor_mse_mirror_2/model_density_maps/IMG_87_model_density_map.npy (deflated 97%)\n",
            "  adding: content/Mobile_CSRNet_B_gabor_mse_mirror_2/model_density_maps/IMG_333_model_density_map.npy (deflated 97%)\n",
            "  adding: content/Mobile_CSRNet_B_gabor_mse_mirror_2/model_density_maps/IMG_65_model_density_map.npy (deflated 96%)\n",
            "  adding: content/Mobile_CSRNet_B_gabor_mse_mirror_2/model_density_maps/IMG_80_model_density_map.npy (deflated 96%)\n",
            "  adding: content/Mobile_CSRNet_B_gabor_mse_mirror_2/model_density_maps/IMG_136_model_density_map.npy (deflated 97%)\n",
            "  adding: content/Mobile_CSRNet_B_gabor_mse_mirror_2/model_density_maps/IMG_199_model_density_map.npy (deflated 97%)\n",
            "  adding: content/Mobile_CSRNet_B_gabor_mse_mirror_2/model_density_maps/IMG_170_model_density_map.npy (deflated 95%)\n",
            "  adding: content/Mobile_CSRNet_B_gabor_mse_mirror_2/model_density_maps/IMG_140_model_density_map.npy (deflated 97%)\n",
            "  adding: content/Mobile_CSRNet_B_gabor_mse_mirror_2/model_density_maps/IMG_127_model_density_map.npy (deflated 96%)\n",
            "  adding: content/Mobile_CSRNet_B_gabor_mse_mirror_2/model_density_maps/IMG_359_model_density_map.npy (deflated 96%)\n",
            "  adding: content/Mobile_CSRNet_B_gabor_mse_mirror_2/model_density_maps/IMG_185_model_density_map.npy (deflated 95%)\n",
            "  adding: content/Mobile_CSRNet_B_gabor_mse_mirror_2/model_density_maps/IMG_196_model_density_map.npy (deflated 97%)\n",
            "  adding: content/Mobile_CSRNet_B_gabor_mse_mirror_2/model_density_maps/IMG_200_model_density_map.npy (deflated 95%)\n",
            "  adding: content/Mobile_CSRNet_B_gabor_mse_mirror_2/model_density_maps/IMG_167_model_density_map.npy (deflated 96%)\n",
            "  adding: content/Mobile_CSRNet_B_gabor_mse_mirror_2/model_density_maps/IMG_86_model_density_map.npy (deflated 97%)\n",
            "  adding: content/Mobile_CSRNet_B_gabor_mse_mirror_2/model_density_maps/IMG_46_model_density_map.npy (deflated 96%)\n",
            "  adding: content/Mobile_CSRNet_B_gabor_mse_mirror_2/model_density_maps/IMG_207_model_density_map.npy (deflated 95%)\n",
            "  adding: content/Mobile_CSRNet_B_gabor_mse_mirror_2/model_density_maps/IMG_120_model_density_map.npy (deflated 95%)\n",
            "  adding: content/Mobile_CSRNet_B_gabor_mse_mirror_2/model_density_maps/IMG_35_model_density_map.npy (deflated 95%)\n",
            "  adding: content/Mobile_CSRNet_B_gabor_mse_mirror_2/model_density_maps/IMG_222_model_density_map.npy (deflated 94%)\n",
            "  adding: content/Mobile_CSRNet_B_gabor_mse_mirror_2/model_density_maps/IMG_124_model_density_map.npy (deflated 96%)\n",
            "  adding: content/Mobile_CSRNet_B_gabor_mse_mirror_2/model_density_maps/IMG_273_model_density_map.npy (deflated 96%)\n",
            "  adding: content/Mobile_CSRNet_B_gabor_mse_mirror_2/model_density_maps/IMG_241_model_density_map.npy (deflated 96%)\n",
            "  adding: content/Mobile_CSRNet_B_gabor_mse_mirror_2/model_density_maps/IMG_186_model_density_map.npy (deflated 95%)\n",
            "  adding: content/Mobile_CSRNet_B_gabor_mse_mirror_2/model_density_maps/IMG_378_model_density_map.npy (deflated 97%)\n",
            "  adding: content/Mobile_CSRNet_B_gabor_mse_mirror_2/model_density_maps/IMG_356_model_density_map.npy (deflated 96%)\n",
            "  adding: content/Mobile_CSRNet_B_gabor_mse_mirror_2/model_density_maps/IMG_294_model_density_map.npy (deflated 96%)\n",
            "  adding: content/Mobile_CSRNet_B_gabor_mse_mirror_2/model_density_maps/IMG_339_model_density_map.npy (deflated 96%)\n",
            "  adding: content/Mobile_CSRNet_B_gabor_mse_mirror_2/model_density_maps/IMG_150_model_density_map.npy (deflated 95%)\n",
            "  adding: content/Mobile_CSRNet_B_gabor_mse_mirror_2/model_density_maps/IMG_70_model_density_map.npy (deflated 97%)\n",
            "  adding: content/Mobile_CSRNet_B_gabor_mse_mirror_2/model_density_maps/IMG_123_model_density_map.npy (deflated 95%)\n",
            "  adding: content/Mobile_CSRNet_B_gabor_mse_mirror_2/model_density_maps/gt_sum.json (deflated 86%)\n",
            "  adding: content/Mobile_CSRNet_B_gabor_mse_mirror_2/model_density_maps/IMG_8_model_density_map.npy (deflated 96%)\n",
            "  adding: content/Mobile_CSRNet_B_gabor_mse_mirror_2/model_density_maps/IMG_66_model_density_map.npy (deflated 96%)\n",
            "  adding: content/Mobile_CSRNet_B_gabor_mse_mirror_2/model_density_maps/IMG_9_model_density_map.npy (deflated 96%)\n",
            "  adding: content/Mobile_CSRNet_B_gabor_mse_mirror_2/model_density_maps/IMG_242_model_density_map.npy (deflated 97%)\n",
            "  adding: content/Mobile_CSRNet_B_gabor_mse_mirror_2/model_density_maps/IMG_111_model_density_map.npy (deflated 96%)\n",
            "  adding: content/Mobile_CSRNet_B_gabor_mse_mirror_2/model_density_maps/IMG_360_model_density_map.npy (deflated 96%)\n",
            "  adding: content/Mobile_CSRNet_B_gabor_mse_mirror_2/model_density_maps/IMG_28_model_density_map.npy (deflated 96%)\n",
            "  adding: content/Mobile_CSRNet_B_gabor_mse_mirror_2/model_density_maps/IMG_336_model_density_map.npy (deflated 96%)\n",
            "  adding: content/Mobile_CSRNet_B_gabor_mse_mirror_2/model_density_maps/IMG_332_model_density_map.npy (deflated 96%)\n",
            "  adding: content/Mobile_CSRNet_B_gabor_mse_mirror_2/model_density_maps/IMG_97_model_density_map.npy (deflated 97%)\n",
            "  adding: content/Mobile_CSRNet_B_gabor_mse_mirror_2/model_density_maps/IMG_36_model_density_map.npy (deflated 96%)\n",
            "  adding: content/Mobile_CSRNet_B_gabor_mse_mirror_2/model_density_maps/IMG_198_model_density_map.npy (deflated 97%)\n",
            "  adding: content/Mobile_CSRNet_B_gabor_mse_mirror_2/model_density_maps/model_hmap_sum.json (deflated 87%)\n",
            "  adding: content/Mobile_CSRNet_B_gabor_mse_mirror_2/model_density_maps/IMG_45_model_density_map.npy (deflated 97%)\n",
            "  adding: content/Mobile_CSRNet_B_gabor_mse_mirror_2/model_density_maps/IMG_311_model_density_map.npy (deflated 97%)\n",
            "  adding: content/Mobile_CSRNet_B_gabor_mse_mirror_2/model_density_maps/IMG_74_model_density_map.npy (deflated 96%)\n",
            "  adding: content/Mobile_CSRNet_B_gabor_mse_mirror_2/model_density_maps/IMG_389_model_density_map.npy (deflated 95%)\n",
            "  adding: content/Mobile_CSRNet_B_gabor_mse_mirror_2/model_density_maps/IMG_257_model_density_map.npy (deflated 96%)\n",
            "  adding: content/Mobile_CSRNet_B_gabor_mse_mirror_2/model_density_maps/IMG_285_model_density_map.npy (deflated 96%)\n",
            "  adding: content/Mobile_CSRNet_B_gabor_mse_mirror_2/model_density_maps/IMG_367_model_density_map.npy (deflated 95%)\n",
            "  adding: content/Mobile_CSRNet_B_gabor_mse_mirror_2/model_density_maps/IMG_94_model_density_map.npy (deflated 97%)\n",
            "  adding: content/Mobile_CSRNet_B_gabor_mse_mirror_2/model_density_maps/IMG_370_model_density_map.npy (deflated 98%)\n",
            "  adding: content/Mobile_CSRNet_B_gabor_mse_mirror_2/model_density_maps/IMG_187_model_density_map.npy (deflated 96%)\n",
            "  adding: content/Mobile_CSRNet_B_gabor_mse_mirror_2/model_density_maps/IMG_395_model_density_map.npy (deflated 96%)\n",
            "  adding: content/Mobile_CSRNet_B_gabor_mse_mirror_2/model_density_maps/IMG_312_model_density_map.npy (deflated 97%)\n",
            "  adding: content/Mobile_CSRNet_B_gabor_mse_mirror_2/model_density_maps/IMG_299_model_density_map.npy (deflated 96%)\n",
            "  adding: content/Mobile_CSRNet_B_gabor_mse_mirror_2/model_density_maps/IMG_15_model_density_map.npy (deflated 96%)\n",
            "  adding: content/Mobile_CSRNet_B_gabor_mse_mirror_2/model_density_maps/IMG_139_model_density_map.npy (deflated 96%)\n",
            "  adding: content/Mobile_CSRNet_B_gabor_mse_mirror_2/model_density_maps/IMG_10_model_density_map.npy (deflated 95%)\n",
            "  adding: content/Mobile_CSRNet_B_gabor_mse_mirror_2/model_density_maps/IMG_16_model_density_map.npy (deflated 97%)\n",
            "  adding: content/Mobile_CSRNet_B_gabor_mse_mirror_2/model_density_maps/IMG_23_model_density_map.npy (deflated 96%)\n",
            "  adding: content/Mobile_CSRNet_B_gabor_mse_mirror_2/model_density_maps/IMG_281_model_density_map.npy (deflated 96%)\n",
            "  adding: content/Mobile_CSRNet_B_gabor_mse_mirror_2/model_density_maps/IMG_276_model_density_map.npy (deflated 96%)\n",
            "  adding: content/Mobile_CSRNet_B_gabor_mse_mirror_2/model_density_maps/IMG_182_model_density_map.npy (deflated 96%)\n",
            "  adding: content/Mobile_CSRNet_B_gabor_mse_mirror_2/model_density_maps/IMG_68_model_density_map.npy (deflated 97%)\n",
            "  adding: content/Mobile_CSRNet_B_gabor_mse_mirror_2/model_density_maps/IMG_19_model_density_map.npy (deflated 96%)\n",
            "  adding: content/Mobile_CSRNet_B_gabor_mse_mirror_2/model_density_maps/IMG_95_model_density_map.npy (deflated 96%)\n",
            "  adding: content/Mobile_CSRNet_B_gabor_mse_mirror_2/model_density_maps/IMG_301_model_density_map.npy (deflated 97%)\n",
            "  adding: content/Mobile_CSRNet_B_gabor_mse_mirror_2/model_density_maps/IMG_181_model_density_map.npy (deflated 96%)\n",
            "  adding: content/Mobile_CSRNet_B_gabor_mse_mirror_2/model_density_maps/IMG_17_model_density_map.npy (deflated 97%)\n",
            "  adding: content/Mobile_CSRNet_B_gabor_mse_mirror_2/model_density_maps/IMG_104_model_density_map.npy (deflated 96%)\n",
            "  adding: content/Mobile_CSRNet_B_gabor_mse_mirror_2/model_density_maps/IMG_376_model_density_map.npy (deflated 96%)\n",
            "  adding: content/Mobile_CSRNet_B_gabor_mse_mirror_2/model_density_maps/IMG_26_model_density_map.npy (deflated 96%)\n",
            "  adding: content/Mobile_CSRNet_B_gabor_mse_mirror_2/model_density_maps/IMG_213_model_density_map.npy (deflated 97%)\n",
            "  adding: content/Mobile_CSRNet_B_gabor_mse_mirror_2/model_density_maps/IMG_40_model_density_map.npy (deflated 96%)\n",
            "  adding: content/Mobile_CSRNet_B_gabor_mse_mirror_2/model_density_maps/IMG_270_model_density_map.npy (deflated 96%)\n",
            "  adding: content/Mobile_CSRNet_B_gabor_mse_mirror_2/model_density_maps/IMG_302_model_density_map.npy (deflated 96%)\n",
            "  adding: content/Mobile_CSRNet_B_gabor_mse_mirror_2/model_density_maps/IMG_247_model_density_map.npy (deflated 96%)\n",
            "  adding: content/Mobile_CSRNet_B_gabor_mse_mirror_2/model_density_maps/IMG_327_model_density_map.npy (deflated 96%)\n",
            "  adding: content/Mobile_CSRNet_B_gabor_mse_mirror_2/model_density_maps/IMG_149_model_density_map.npy (deflated 96%)\n",
            "  adding: content/Mobile_CSRNet_B_gabor_mse_mirror_2/model_density_maps/IMG_84_model_density_map.npy (deflated 96%)\n",
            "  adding: content/Mobile_CSRNet_B_gabor_mse_mirror_2/model_density_maps/IMG_384_model_density_map.npy (deflated 96%)\n",
            "  adding: content/Mobile_CSRNet_B_gabor_mse_mirror_2/model_density_maps/IMG_125_model_density_map.npy (deflated 96%)\n",
            "  adding: content/Mobile_CSRNet_B_gabor_mse_mirror_2/model_density_maps/IMG_7_model_density_map.npy (deflated 97%)\n",
            "  adding: content/Mobile_CSRNet_B_gabor_mse_mirror_2/model_density_maps/IMG_41_model_density_map.npy (deflated 97%)\n",
            "  adding: content/Mobile_CSRNet_B_gabor_mse_mirror_2/model_density_maps/IMG_154_model_density_map.npy (deflated 95%)\n",
            "  adding: content/Mobile_CSRNet_B_gabor_mse_mirror_2/model_density_maps/IMG_11_model_density_map.npy (deflated 96%)\n",
            "  adding: content/Mobile_CSRNet_B_gabor_mse_mirror_2/model_density_maps/IMG_365_model_density_map.npy (deflated 95%)\n",
            "  adding: content/Mobile_CSRNet_B_gabor_mse_mirror_2/model_density_maps/IMG_254_model_density_map.npy (deflated 95%)\n",
            "  adding: content/Mobile_CSRNet_B_gabor_mse_mirror_2/model_density_maps/IMG_122_model_density_map.npy (deflated 96%)\n",
            "  adding: content/Mobile_CSRNet_B_gabor_mse_mirror_2/model_density_maps/IMG_304_model_density_map.npy (deflated 97%)\n",
            "  adding: content/Mobile_CSRNet_B_gabor_mse_mirror_2/model_density_maps/IMG_13_model_density_map.npy (deflated 97%)\n",
            "  adding: content/Mobile_CSRNet_B_gabor_mse_mirror_2/model_density_maps/IMG_314_model_density_map.npy (deflated 96%)\n",
            "  adding: content/Mobile_CSRNet_B_gabor_mse_mirror_2/model_density_maps/IMG_335_model_density_map.npy (deflated 96%)\n",
            "  adding: content/Mobile_CSRNet_B_gabor_mse_mirror_2/model_density_maps/IMG_130_model_density_map.npy (deflated 96%)\n",
            "  adding: content/Mobile_CSRNet_B_gabor_mse_mirror_2/model_density_maps/IMG_215_model_density_map.npy (deflated 97%)\n",
            "  adding: content/Mobile_CSRNet_B_gabor_mse_mirror_2/model_density_maps/IMG_220_model_density_map.npy (deflated 97%)\n",
            "  adding: content/Mobile_CSRNet_B_gabor_mse_mirror_2/model_density_maps/IMG_78_model_density_map.npy (deflated 96%)\n",
            "  adding: content/Mobile_CSRNet_B_gabor_mse_mirror_2/model_density_maps/IMG_340_model_density_map.npy (deflated 96%)\n",
            "  adding: content/Mobile_CSRNet_B_gabor_mse_mirror_2/model_density_maps/IMG_272_model_density_map.npy (deflated 95%)\n",
            "  adding: content/Mobile_CSRNet_B_gabor_mse_mirror_2/model_density_maps/IMG_329_model_density_map.npy (deflated 96%)\n",
            "  adding: content/Mobile_CSRNet_B_gabor_mse_mirror_2/model_density_maps/IMG_159_model_density_map.npy (deflated 97%)\n",
            "  adding: content/Mobile_CSRNet_B_gabor_mse_mirror_2/model_density_maps/IMG_144_model_density_map.npy (deflated 96%)\n",
            "  adding: content/Mobile_CSRNet_B_gabor_mse_mirror_2/model_density_maps/IMG_355_model_density_map.npy (deflated 97%)\n",
            "  adding: content/Mobile_CSRNet_B_gabor_mse_mirror_2/model_density_maps/IMG_6_model_density_map.npy (deflated 97%)\n",
            "  adding: content/Mobile_CSRNet_B_gabor_mse_mirror_2/model_density_maps/IMG_307_model_density_map.npy (deflated 95%)\n",
            "  adding: content/Mobile_CSRNet_B_gabor_mse_mirror_2/model_density_maps/IMG_269_model_density_map.npy (deflated 97%)\n",
            "  adding: content/Mobile_CSRNet_B_gabor_mse_mirror_2/model_density_maps/IMG_386_model_density_map.npy (deflated 96%)\n",
            "  adding: content/Mobile_CSRNet_B_gabor_mse_mirror_2/model_density_maps/IMG_354_model_density_map.npy (deflated 96%)\n",
            "  adding: content/Mobile_CSRNet_B_gabor_mse_mirror_2/model_density_maps/IMG_82_model_density_map.npy (deflated 97%)\n",
            "  adding: content/Mobile_CSRNet_B_gabor_mse_mirror_2/model_density_maps/IMG_295_model_density_map.npy (deflated 95%)\n",
            "  adding: content/Mobile_CSRNet_B_gabor_mse_mirror_2/model_density_maps/IMG_249_model_density_map.npy (deflated 96%)\n",
            "  adding: content/Mobile_CSRNet_B_gabor_mse_mirror_2/model_density_maps/IMG_115_model_density_map.npy (deflated 96%)\n",
            "  adding: content/Mobile_CSRNet_B_gabor_mse_mirror_2/model_density_maps/IMG_388_model_density_map.npy (deflated 98%)\n",
            "  adding: content/Mobile_CSRNet_B_gabor_mse_mirror_2/model_density_maps/IMG_143_model_density_map.npy (deflated 97%)\n",
            "  adding: content/Mobile_CSRNet_B_gabor_mse_mirror_2/model_density_maps/IMG_176_model_density_map.npy (deflated 95%)\n",
            "  adding: content/Mobile_CSRNet_B_gabor_mse_mirror_2/model_density_maps/IMG_230_model_density_map.npy (deflated 96%)\n",
            "  adding: content/Mobile_CSRNet_B_gabor_mse_mirror_2/model_density_maps/IMG_293_model_density_map.npy (deflated 97%)\n",
            "  adding: content/Mobile_CSRNet_B_gabor_mse_mirror_2/model_density_maps/IMG_283_model_density_map.npy (deflated 96%)\n",
            "  adding: content/Mobile_CSRNet_B_gabor_mse_mirror_2/model_density_maps/IMG_398_model_density_map.npy (deflated 96%)\n",
            "  adding: content/Mobile_CSRNet_B_gabor_mse_mirror_2/model_density_maps/IMG_369_model_density_map.npy (deflated 96%)\n",
            "  adding: content/Mobile_CSRNet_B_gabor_mse_mirror_2/model_density_maps/IMG_85_model_density_map.npy (deflated 96%)\n",
            "  adding: content/Mobile_CSRNet_B_gabor_mse_mirror_2/model_density_maps/IMG_223_model_density_map.npy (deflated 97%)\n",
            "  adding: content/Mobile_CSRNet_B_gabor_mse_mirror_2/model_density_maps/IMG_275_model_density_map.npy (deflated 96%)\n",
            "  adding: content/Mobile_CSRNet_B_gabor_mse_mirror_2/model_density_maps/IMG_251_model_density_map.npy (deflated 97%)\n",
            "  adding: content/Mobile_CSRNet_B_gabor_mse_mirror_2/model_density_maps/IMG_212_model_density_map.npy (deflated 95%)\n",
            "  adding: content/Mobile_CSRNet_B_gabor_mse_mirror_2/model_density_maps/IMG_263_model_density_map.npy (deflated 98%)\n",
            "  adding: content/Mobile_CSRNet_B_gabor_mse_mirror_2/model_density_maps/IMG_57_model_density_map.npy (deflated 96%)\n",
            "  adding: content/Mobile_CSRNet_B_gabor_mse_mirror_2/model_density_maps/IMG_180_model_density_map.npy (deflated 96%)\n",
            "  adding: content/Mobile_CSRNet_B_gabor_mse_mirror_2/model_density_maps/IMG_110_model_density_map.npy (deflated 96%)\n",
            "  adding: content/Mobile_CSRNet_B_gabor_mse_mirror_2/model_density_maps/IMG_362_model_density_map.npy (deflated 97%)\n",
            "  adding: content/Mobile_CSRNet_B_gabor_mse_mirror_2/model_density_maps/IMG_353_model_density_map.npy (deflated 95%)\n",
            "  adding: content/Mobile_CSRNet_B_gabor_mse_mirror_2/model_density_maps/IMG_128_model_density_map.npy (deflated 97%)\n",
            "  adding: content/Mobile_CSRNet_B_gabor_mse_mirror_2/model_density_maps/IMG_375_model_density_map.npy (deflated 96%)\n",
            "  adding: content/Mobile_CSRNet_B_gabor_mse_mirror_2/model_density_maps/IMG_12_model_density_map.npy (deflated 97%)\n",
            "  adding: content/Mobile_CSRNet_B_gabor_mse_mirror_2/model_density_maps/IMG_219_model_density_map.npy (deflated 96%)\n",
            "  adding: content/Mobile_CSRNet_B_gabor_mse_mirror_2/model_density_maps/IMG_284_model_density_map.npy (deflated 96%)\n",
            "  adding: content/Mobile_CSRNet_B_gabor_mse_mirror_2/model_density_maps/IMG_164_model_density_map.npy (deflated 96%)\n",
            "  adding: content/Mobile_CSRNet_B_gabor_mse_mirror_2/model_density_maps/IMG_349_model_density_map.npy (deflated 97%)\n",
            "  adding: content/Mobile_CSRNet_B_gabor_mse_mirror_2/model_density_maps/IMG_58_model_density_map.npy (deflated 95%)\n",
            "  adding: content/Mobile_CSRNet_B_gabor_mse_mirror_2/model_density_maps/IMG_361_model_density_map.npy (deflated 96%)\n",
            "  adding: content/Mobile_CSRNet_B_gabor_mse_mirror_2/model_density_maps/IMG_174_model_density_map.npy (deflated 96%)\n",
            "  adding: content/Mobile_CSRNet_B_gabor_mse_mirror_2/model_density_maps/IMG_50_model_density_map.npy (deflated 96%)\n",
            "  adding: content/Mobile_CSRNet_B_gabor_mse_mirror_2/model_density_maps/IMG_352_model_density_map.npy (deflated 95%)\n",
            "  adding: content/Mobile_CSRNet_B_gabor_mse_mirror_2/model_density_maps/IMG_195_model_density_map.npy (deflated 96%)\n",
            "  adding: content/Mobile_CSRNet_B_gabor_mse_mirror_2/model_density_maps/IMG_330_model_density_map.npy (deflated 97%)\n",
            "  adding: content/Mobile_CSRNet_B_gabor_mse_mirror_2/model_density_maps/IMG_313_model_density_map.npy (deflated 96%)\n",
            "  adding: content/Mobile_CSRNet_B_gabor_mse_mirror_2/model_density_maps/IMG_83_model_density_map.npy (deflated 96%)\n",
            "  adding: content/Mobile_CSRNet_B_gabor_mse_mirror_2/model_density_maps/IMG_75_model_density_map.npy (deflated 96%)\n",
            "  adding: content/Mobile_CSRNet_B_gabor_mse_mirror_2/model_density_maps/IMG_381_model_density_map.npy (deflated 97%)\n",
            "  adding: content/Mobile_CSRNet_B_gabor_mse_mirror_2/model_density_maps/IMG_210_model_density_map.npy (deflated 96%)\n",
            "  adding: content/Mobile_CSRNet_B_gabor_mse_mirror_2/model_density_maps/IMG_297_model_density_map.npy (deflated 96%)\n",
            "  adding: content/Mobile_CSRNet_B_gabor_mse_mirror_2/model_density_maps/IMG_175_model_density_map.npy (deflated 94%)\n",
            "  adding: content/Mobile_CSRNet_B_gabor_mse_mirror_2/model_density_maps/IMG_310_model_density_map.npy (deflated 96%)\n",
            "  adding: content/Mobile_CSRNet_B_gabor_mse_mirror_2/model_density_maps/IMG_171_model_density_map.npy (deflated 97%)\n",
            "  adding: content/Mobile_CSRNet_B_gabor_mse_mirror_2/model_density_maps/IMG_338_model_density_map.npy (deflated 96%)\n",
            "  adding: content/Mobile_CSRNet_B_gabor_mse_mirror_2/model_density_maps/IMG_319_model_density_map.npy (deflated 96%)\n",
            "  adding: content/Mobile_CSRNet_B_gabor_mse_mirror_2/model_density_maps/IMG_14_model_density_map.npy (deflated 96%)\n",
            "  adding: content/Mobile_CSRNet_B_gabor_mse_mirror_2/model_density_maps/IMG_231_model_density_map.npy (deflated 96%)\n",
            "  adding: content/Mobile_CSRNet_B_gabor_mse_mirror_2/model_density_maps/IMG_396_model_density_map.npy (deflated 97%)\n",
            "  adding: content/Mobile_CSRNet_B_gabor_mse_mirror_2/model_density_maps/IMG_39_model_density_map.npy (deflated 96%)\n",
            "  adding: content/Mobile_CSRNet_B_gabor_mse_mirror_2/model_density_maps/IMG_105_model_density_map.npy (deflated 97%)\n",
            "  adding: content/Mobile_CSRNet_B_gabor_mse_mirror_2/model_density_maps/IMG_211_model_density_map.npy (deflated 96%)\n",
            "  adding: content/Mobile_CSRNet_B_gabor_mse_mirror_2/model_density_maps/IMG_256_model_density_map.npy (deflated 96%)\n",
            "  adding: content/Mobile_CSRNet_B_gabor_mse_mirror_2/model_density_maps/IMG_382_model_density_map.npy (deflated 97%)\n",
            "  adding: content/Mobile_CSRNet_B_gabor_mse_mirror_2/model_density_maps/IMG_168_model_density_map.npy (deflated 96%)\n",
            "  adding: content/Mobile_CSRNet_B_gabor_mse_mirror_2/model_density_maps/IMG_88_model_density_map.npy (deflated 97%)\n",
            "  adding: content/Mobile_CSRNet_B_gabor_mse_mirror_2/model_density_maps/IMG_98_model_density_map.npy (deflated 96%)\n",
            "  adding: content/Mobile_CSRNet_B_gabor_mse_mirror_2/model_density_maps/IMG_278_model_density_map.npy (deflated 96%)\n",
            "  adding: content/Mobile_CSRNet_B_gabor_mse_mirror_2/model_density_maps/IMG_81_model_density_map.npy (deflated 97%)\n",
            "  adding: content/Mobile_CSRNet_B_gabor_mse_mirror_2/model_density_maps/IMG_133_model_density_map.npy (deflated 96%)\n",
            "  adding: content/Mobile_CSRNet_B_gabor_mse_mirror_2/model_density_maps/IMG_191_model_density_map.npy (deflated 95%)\n",
            "  adding: content/Mobile_CSRNet_B_gabor_mse_mirror_2/model_density_maps/IMG_158_model_density_map.npy (deflated 97%)\n",
            "  adding: content/Mobile_CSRNet_B_gabor_mse_mirror_2/model_density_maps/IMG_390_model_density_map.npy (deflated 96%)\n",
            "  adding: content/Mobile_CSRNet_B_gabor_mse_mirror_2/model_density_maps/IMG_344_model_density_map.npy (deflated 96%)\n",
            "  adding: content/Mobile_CSRNet_B_gabor_mse_mirror_2/model_density_maps/IMG_383_model_density_map.npy (deflated 96%)\n",
            "  adding: content/Mobile_CSRNet_B_gabor_mse_mirror_2/model_density_maps/IMG_156_model_density_map.npy (deflated 96%)\n",
            "  adding: content/Mobile_CSRNet_B_gabor_mse_mirror_2/model_density_maps/IMG_347_model_density_map.npy (deflated 97%)\n",
            "  adding: content/Mobile_CSRNet_B_gabor_mse_mirror_2/model_density_maps/IMG_151_model_density_map.npy (deflated 96%)\n",
            "  adding: content/Mobile_CSRNet_B_gabor_mse_mirror_2/model_density_maps/IMG_183_model_density_map.npy (deflated 97%)\n",
            "  adding: content/Mobile_CSRNet_B_gabor_mse_mirror_2/model_density_maps/IMG_188_model_density_map.npy (deflated 95%)\n",
            "  adding: content/Mobile_CSRNet_B_gabor_mse_mirror_2/model_density_maps/IMG_265_model_density_map.npy (deflated 97%)\n",
            "  adding: content/Mobile_CSRNet_B_gabor_mse_mirror_2/model_density_maps/IMG_79_model_density_map.npy (deflated 97%)\n",
            "  adding: content/Mobile_CSRNet_B_gabor_mse_mirror_2/model_density_maps/IMG_350_model_density_map.npy (deflated 97%)\n",
            "  adding: content/Mobile_CSRNet_B_gabor_mse_mirror_2/model_density_maps/IMG_47_model_density_map.npy (deflated 96%)\n",
            "  adding: content/Mobile_CSRNet_B_gabor_mse_mirror_2/model_density_maps/IMG_203_model_density_map.npy (deflated 96%)\n",
            "  adding: content/Mobile_CSRNet_B_gabor_mse_mirror_2/model_density_maps/IMG_317_model_density_map.npy (deflated 96%)\n",
            "  adding: content/Mobile_CSRNet_B_gabor_mse_mirror_2/model_density_maps/IMG_387_model_density_map.npy (deflated 96%)\n",
            "  adding: content/Mobile_CSRNet_B_gabor_mse_mirror_2/model_density_maps/IMG_116_model_density_map.npy (deflated 96%)\n",
            "  adding: content/Mobile_CSRNet_B_gabor_mse_mirror_2/model_density_maps/IMG_54_model_density_map.npy (deflated 97%)\n",
            "  adding: content/Mobile_CSRNet_B_gabor_mse_mirror_2/model_density_maps/IMG_20_model_density_map.npy (deflated 96%)\n",
            "  adding: content/Mobile_CSRNet_B_gabor_mse_mirror_2/model_density_maps/IMG_379_model_density_map.npy (deflated 96%)\n",
            "  adding: content/Mobile_CSRNet_B_gabor_mse_mirror_2/model_density_maps/IMG_146_model_density_map.npy (deflated 96%)\n",
            "  adding: content/Mobile_CSRNet_B_gabor_mse_mirror_2/model_density_maps/IMG_142_model_density_map.npy (deflated 97%)\n",
            "  adding: content/Mobile_CSRNet_B_gabor_mse_mirror_2/model_density_maps/IMG_277_model_density_map.npy (deflated 96%)\n",
            "  adding: content/Mobile_CSRNet_B_gabor_mse_mirror_2/model_density_maps/IMG_194_model_density_map.npy (deflated 95%)\n",
            "  adding: content/Mobile_CSRNet_B_gabor_mse_mirror_2/model_density_maps/IMG_162_model_density_map.npy (deflated 97%)\n",
            "  adding: content/Mobile_CSRNet_B_gabor_mse_mirror_2/model_density_maps/IMG_240_model_density_map.npy (deflated 96%)\n",
            "  adding: content/Mobile_CSRNet_B_gabor_mse_mirror_2/model_density_maps/IMG_377_model_density_map.npy (deflated 96%)\n",
            "  adding: content/Mobile_CSRNet_B_gabor_mse_mirror_2/model_density_maps/IMG_21_model_density_map.npy (deflated 96%)\n",
            "  adding: content/Mobile_CSRNet_B_gabor_mse_mirror_2/model_density_maps/IMG_337_model_density_map.npy (deflated 95%)\n",
            "  adding: content/Mobile_CSRNet_B_gabor_mse_mirror_2/model_density_maps/IMG_3_model_density_map.npy (deflated 96%)\n",
            "  adding: content/Mobile_CSRNet_B_gabor_mse_mirror_2/model_density_maps/IMG_266_model_density_map.npy (deflated 97%)\n",
            "  adding: content/Mobile_CSRNet_B_gabor_mse_mirror_2/model_density_maps/IMG_100_model_density_map.npy (deflated 97%)\n",
            "  adding: content/Mobile_CSRNet_B_gabor_mse_mirror_2/model_density_maps/IMG_166_model_density_map.npy (deflated 96%)\n",
            "  adding: content/Mobile_CSRNet_B_gabor_mse_mirror_2/model_density_maps/IMG_287_model_density_map.npy (deflated 96%)\n",
            "  adding: content/Mobile_CSRNet_B_gabor_mse_mirror_2/model_density_maps/IMG_205_model_density_map.npy (deflated 97%)\n",
            "  adding: content/Mobile_CSRNet_B_gabor_mse_mirror_2/model_density_maps/IMG_218_model_density_map.npy (deflated 96%)\n",
            "  adding: content/Mobile_CSRNet_B_gabor_mse_mirror_2/model_density_maps/IMG_107_model_density_map.npy (deflated 98%)\n",
            "  adding: content/Mobile_CSRNet_B_gabor_mse_mirror_2/model_density_maps/IMG_229_model_density_map.npy (deflated 96%)\n",
            "  adding: content/Mobile_CSRNet_B_gabor_mse_mirror_2/model_density_maps/IMG_108_model_density_map.npy (deflated 96%)\n",
            "  adding: content/Mobile_CSRNet_B_gabor_mse_mirror_2/model_density_maps/IMG_288_model_density_map.npy (deflated 97%)\n",
            "  adding: content/Mobile_CSRNet_B_gabor_mse_mirror_2/model_density_maps/IMG_52_model_density_map.npy (deflated 97%)\n",
            "  adding: content/Mobile_CSRNet_B_gabor_mse_mirror_2/model_density_maps/IMG_264_model_density_map.npy (deflated 96%)\n",
            "  adding: content/Mobile_CSRNet_B_gabor_mse_mirror_2/model_density_maps/IMG_118_model_density_map.npy (deflated 97%)\n",
            "  adding: content/Mobile_CSRNet_B_gabor_mse_mirror_2/model_density_maps/IMG_315_model_density_map.npy (deflated 96%)\n",
            "  adding: content/Mobile_CSRNet_B_gabor_mse_mirror_2/model_density_maps/IMG_248_model_density_map.npy (deflated 96%)\n",
            "  adding: content/Mobile_CSRNet_B_gabor_mse_mirror_2/model_density_maps/IMG_114_model_density_map.npy (deflated 96%)\n",
            "  adding: content/Mobile_CSRNet_B_gabor_mse_mirror_2/model_density_maps/IMG_328_model_density_map.npy (deflated 97%)\n",
            "  adding: content/Mobile_CSRNet_B_gabor_mse_mirror_2/model_density_maps/IMG_267_model_density_map.npy (deflated 97%)\n",
            "  adding: content/Mobile_CSRNet_B_gabor_mse_mirror_2/model_density_maps/IMG_160_model_density_map.npy (deflated 96%)\n",
            "  adding: content/Mobile_CSRNet_B_gabor_mse_mirror_2/model_density_maps/IMG_145_model_density_map.npy (deflated 95%)\n",
            "  adding: content/Mobile_CSRNet_B_gabor_mse_mirror_2/model_density_maps/IMG_102_model_density_map.npy (deflated 96%)\n",
            "  adding: content/Mobile_CSRNet_B_gabor_mse_mirror_2/model_density_maps/IMG_346_model_density_map.npy (deflated 98%)\n",
            "  adding: content/Mobile_CSRNet_B_gabor_mse_mirror_2/model_density_maps/IMG_227_model_density_map.npy (deflated 95%)\n",
            "  adding: content/Mobile_CSRNet_B_gabor_mse_mirror_2/model_density_maps/IMG_371_model_density_map.npy (deflated 97%)\n",
            "  adding: content/Mobile_CSRNet_B_gabor_mse_mirror_2/model_density_maps/IMG_366_model_density_map.npy (deflated 97%)\n",
            "  adding: content/Mobile_CSRNet_B_gabor_mse_mirror_2/model_density_maps/IMG_300_model_density_map.npy (deflated 96%)\n",
            "  adding: content/Mobile_CSRNet_B_gabor_mse_mirror_2/model_density_maps/IMG_291_model_density_map.npy (deflated 96%)\n",
            "  adding: content/Mobile_CSRNet_B_gabor_mse_mirror_2/model_density_maps/IMG_364_model_density_map.npy (deflated 97%)\n",
            "  adding: content/Mobile_CSRNet_B_gabor_mse_mirror_2/model_density_maps/IMG_31_model_density_map.npy (deflated 95%)\n",
            "  adding: content/Mobile_CSRNet_B_gabor_mse_mirror_2/model_density_maps/IMG_163_model_density_map.npy (deflated 97%)\n",
            "  adding: content/Mobile_CSRNet_B_gabor_mse_mirror_2/model_density_maps/IMG_67_model_density_map.npy (deflated 97%)\n",
            "  adding: content/Mobile_CSRNet_B_gabor_mse_mirror_2/model_density_maps/IMG_173_model_density_map.npy (deflated 97%)\n",
            "  adding: content/Mobile_CSRNet_B_gabor_mse_mirror_2/model_density_maps/IMG_42_model_density_map.npy (deflated 96%)\n",
            "  adding: content/Mobile_CSRNet_B_gabor_mse_mirror_2/model_density_maps/IMG_324_model_density_map.npy (deflated 96%)\n",
            "  adding: content/Mobile_CSRNet_B_gabor_mse_mirror_2/model_density_maps/IMG_373_model_density_map.npy (deflated 97%)\n",
            "  adding: content/Mobile_CSRNet_B_gabor_mse_mirror_2/model_density_maps/IMG_252_model_density_map.npy (deflated 96%)\n",
            "  adding: content/Mobile_CSRNet_B_gabor_mse_mirror_2/model_density_maps/IMG_289_model_density_map.npy (deflated 96%)\n",
            "  adding: content/Mobile_CSRNet_B_gabor_mse_mirror_2/model_density_maps/IMG_5_model_density_map.npy (deflated 96%)\n",
            "  adding: content/Mobile_CSRNet_B_gabor_mse_mirror_2/model_density_maps/IMG_178_model_density_map.npy (deflated 96%)\n",
            "  adding: content/Mobile_CSRNet_B_gabor_mse_mirror_2/model_density_maps/IMG_18_model_density_map.npy (deflated 97%)\n",
            "  adding: content/Mobile_CSRNet_B_gabor_mse_mirror_2/model_density_maps/IMG_232_model_density_map.npy (deflated 96%)\n",
            "  adding: content/Mobile_CSRNet_B_gabor_mse_mirror_2/model_density_maps/IMG_113_model_density_map.npy (deflated 96%)\n",
            "  adding: content/Mobile_CSRNet_B_gabor_mse_mirror_2/model_density_maps/IMG_343_model_density_map.npy (deflated 96%)\n",
            "  adding: content/Mobile_CSRNet_B_gabor_mse_mirror_2/model_density_maps/IMG_235_model_density_map.npy (deflated 96%)\n",
            "  adding: content/Mobile_CSRNet_B_gabor_mse_mirror_2/model_density_maps/IMG_109_model_density_map.npy (deflated 97%)\n",
            "  adding: content/Mobile_CSRNet_B_gabor_mse_mirror_2/model_density_maps/IMG_51_model_density_map.npy (deflated 96%)\n",
            "  adding: content/Mobile_CSRNet_B_gabor_mse_mirror_2/model_density_maps/IMG_202_model_density_map.npy (deflated 96%)\n",
            "  adding: content/Mobile_CSRNet_B_gabor_mse_mirror_2/model_density_maps/IMG_193_model_density_map.npy (deflated 96%)\n",
            "  adding: content/Mobile_CSRNet_B_gabor_mse_mirror_2/Mobile_CSRNet_B_gabor_mse_mirror_2.txt (deflated 15%)\n",
            "  adding: content/Mobile_CSRNet_B_gabor_mse_mirror_2/samples3.png (deflated 8%)\n",
            "  adding: content/Mobile_CSRNet_B_gabor_mse_mirror_2/samples2.png (deflated 8%)\n",
            "  adding: content/Mobile_CSRNet_B_gabor_mse_mirror_2/test_samples4.png (deflated 8%)\n",
            "  adding: content/Mobile_CSRNet_B_gabor_mse_mirror_2/test_comparison.png (deflated 5%)\n",
            "  adding: content/Mobile_CSRNet_B_gabor_mse_mirror_2/test_samples1.png (deflated 8%)\n",
            "  adding: content/Mobile_CSRNet_B_gabor_mse_mirror_2/MobileNet_B_regressor_100_MSE_Adam_gabor_mirror_2.txt (deflated 40%)\n",
            "  adding: content/Mobile_CSRNet_B_gabor_mse_mirror_2/MobileNet_B_regressor_loss_curve_100_MSE_Adam_gabor_mirror_2.png (deflated 8%)\n",
            "  adding: content/Mobile_CSRNet_B_gabor_mse_mirror_2/MobileNet_B_loss_curve_100_MSE_Adam_gabor_mirror_2.png (deflated 3%)\n",
            "  adding: content/Mobile_CSRNet_B_gabor_mse_mirror_2/samples4.png (deflated 9%)\n",
            "  adding: content/Mobile_CSRNet_B_gabor_mse_mirror_2/MobileNet_B_loss_curve_100A_MSE_Adam_gabor_mirror_2.png (deflated 3%)\n"
          ],
          "name": "stdout"
        },
        {
          "output_type": "display_data",
          "data": {
            "application/javascript": [
              "\n",
              "    async function download(id, filename, size) {\n",
              "      if (!google.colab.kernel.accessAllowed) {\n",
              "        return;\n",
              "      }\n",
              "      const div = document.createElement('div');\n",
              "      const label = document.createElement('label');\n",
              "      label.textContent = `Downloading \"${filename}\": `;\n",
              "      div.appendChild(label);\n",
              "      const progress = document.createElement('progress');\n",
              "      progress.max = size;\n",
              "      div.appendChild(progress);\n",
              "      document.body.appendChild(div);\n",
              "\n",
              "      const buffers = [];\n",
              "      let downloaded = 0;\n",
              "\n",
              "      const channel = await google.colab.kernel.comms.open(id);\n",
              "      // Send a message to notify the kernel that we're ready.\n",
              "      channel.send({})\n",
              "\n",
              "      for await (const message of channel.messages) {\n",
              "        // Send a message to notify the kernel that we're ready.\n",
              "        channel.send({})\n",
              "        if (message.buffers) {\n",
              "          for (const buffer of message.buffers) {\n",
              "            buffers.push(buffer);\n",
              "            downloaded += buffer.byteLength;\n",
              "            progress.value = downloaded;\n",
              "          }\n",
              "        }\n",
              "      }\n",
              "      const blob = new Blob(buffers, {type: 'application/binary'});\n",
              "      const a = document.createElement('a');\n",
              "      a.href = window.URL.createObjectURL(blob);\n",
              "      a.download = filename;\n",
              "      div.appendChild(a);\n",
              "      a.click();\n",
              "      div.remove();\n",
              "    }\n",
              "  "
            ],
            "text/plain": [
              "<IPython.core.display.Javascript object>"
            ]
          },
          "metadata": {
            "tags": []
          }
        },
        {
          "output_type": "display_data",
          "data": {
            "application/javascript": [
              "download(\"download_449f61b0-6183-4105-ba53-b24078c0820b\", \"Mobile_CSRNet_B_gabor_mse_mirror_2.zip\", 1334952)"
            ],
            "text/plain": [
              "<IPython.core.display.Javascript object>"
            ]
          },
          "metadata": {
            "tags": []
          }
        }
      ]
    },
    {
      "cell_type": "code",
      "metadata": {
        "id": "x2CmuD-2E5dU"
      },
      "source": [
        ""
      ],
      "execution_count": null,
      "outputs": []
    }
  ]
}
