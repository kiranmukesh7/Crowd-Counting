{
  "nbformat": 4,
  "nbformat_minor": 0,
  "metadata": {
    "colab": {
      "name": "under_construction.ipynb",
      "provenance": [],
      "collapsed_sections": [
        "Mz2pgijeRc7g",
        "-D5cUxClRgg6",
        "qZ-TF1J8RkjG",
        "R3y-tCjyaOVl",
        "KeHJiWPVHL58",
        "qle5NTQFWw1n",
        "lroLc3b1jOlT",
        "CmcVJBvSz9EN",
        "mNuxEw7j0OMb",
        "y87k_epTgjER",
        "cUlUm-Hm9Mb5",
        "ZxyQzPwJ9OaT",
        "CHp0lO-SSDSO",
        "Rpi4zT_IVlQA",
        "PrBgfstFVpd1",
        "YkGKCne4f39i",
        "dCjnPPscisSG"
      ],
      "toc_visible": true
    },
    "kernelspec": {
      "name": "python3",
      "display_name": "Python 3"
    },
    "accelerator": "GPU",
    "widgets": {
      "application/vnd.jupyter.widget-state+json": {
        "163e6b398e2a464a84e680f47ad19cc4": {
          "model_module": "@jupyter-widgets/controls",
          "model_name": "HBoxModel",
          "state": {
            "_view_name": "HBoxView",
            "_dom_classes": [],
            "_model_name": "HBoxModel",
            "_view_module": "@jupyter-widgets/controls",
            "_model_module_version": "1.5.0",
            "_view_count": null,
            "_view_module_version": "1.5.0",
            "box_style": "",
            "layout": "IPY_MODEL_7f7ccf330c5947b6af423feb97d11bc0",
            "_model_module": "@jupyter-widgets/controls",
            "children": [
              "IPY_MODEL_52aff39ddf714acdb94e7856a97ff3d1",
              "IPY_MODEL_6db6cac79bc3463c8aca5b6ea9c5299e"
            ]
          }
        },
        "7f7ccf330c5947b6af423feb97d11bc0": {
          "model_module": "@jupyter-widgets/base",
          "model_name": "LayoutModel",
          "state": {
            "_view_name": "LayoutView",
            "grid_template_rows": null,
            "right": null,
            "justify_content": null,
            "_view_module": "@jupyter-widgets/base",
            "overflow": null,
            "_model_module_version": "1.2.0",
            "_view_count": null,
            "flex_flow": null,
            "width": null,
            "min_width": null,
            "border": null,
            "align_items": null,
            "bottom": null,
            "_model_module": "@jupyter-widgets/base",
            "top": null,
            "grid_column": null,
            "overflow_y": null,
            "overflow_x": null,
            "grid_auto_flow": null,
            "grid_area": null,
            "grid_template_columns": null,
            "flex": null,
            "_model_name": "LayoutModel",
            "justify_items": null,
            "grid_row": null,
            "max_height": null,
            "align_content": null,
            "visibility": null,
            "align_self": null,
            "height": null,
            "min_height": null,
            "padding": null,
            "grid_auto_rows": null,
            "grid_gap": null,
            "max_width": null,
            "order": null,
            "_view_module_version": "1.2.0",
            "grid_template_areas": null,
            "object_position": null,
            "object_fit": null,
            "grid_auto_columns": null,
            "margin": null,
            "display": null,
            "left": null
          }
        },
        "52aff39ddf714acdb94e7856a97ff3d1": {
          "model_module": "@jupyter-widgets/controls",
          "model_name": "FloatProgressModel",
          "state": {
            "_view_name": "ProgressView",
            "style": "IPY_MODEL_65bf7cc6ea2e4b689c37402b6c5e6269",
            "_dom_classes": [],
            "description": "100%",
            "_model_name": "FloatProgressModel",
            "bar_style": "success",
            "max": 553507836,
            "_view_module": "@jupyter-widgets/controls",
            "_model_module_version": "1.5.0",
            "value": 553507836,
            "_view_count": null,
            "_view_module_version": "1.5.0",
            "orientation": "horizontal",
            "min": 0,
            "description_tooltip": null,
            "_model_module": "@jupyter-widgets/controls",
            "layout": "IPY_MODEL_07ddd8b7669945a29ec76c203fe9ce49"
          }
        },
        "6db6cac79bc3463c8aca5b6ea9c5299e": {
          "model_module": "@jupyter-widgets/controls",
          "model_name": "HTMLModel",
          "state": {
            "_view_name": "HTMLView",
            "style": "IPY_MODEL_76d90818a7b94d36af1419561e62f70d",
            "_dom_classes": [],
            "description": "",
            "_model_name": "HTMLModel",
            "placeholder": "​",
            "_view_module": "@jupyter-widgets/controls",
            "_model_module_version": "1.5.0",
            "value": " 528M/528M [00:02&lt;00:00, 228MB/s]",
            "_view_count": null,
            "_view_module_version": "1.5.0",
            "description_tooltip": null,
            "_model_module": "@jupyter-widgets/controls",
            "layout": "IPY_MODEL_be9427d48a1a4f0babb0e215576adc80"
          }
        },
        "65bf7cc6ea2e4b689c37402b6c5e6269": {
          "model_module": "@jupyter-widgets/controls",
          "model_name": "ProgressStyleModel",
          "state": {
            "_view_name": "StyleView",
            "_model_name": "ProgressStyleModel",
            "description_width": "initial",
            "_view_module": "@jupyter-widgets/base",
            "_model_module_version": "1.5.0",
            "_view_count": null,
            "_view_module_version": "1.2.0",
            "bar_color": null,
            "_model_module": "@jupyter-widgets/controls"
          }
        },
        "07ddd8b7669945a29ec76c203fe9ce49": {
          "model_module": "@jupyter-widgets/base",
          "model_name": "LayoutModel",
          "state": {
            "_view_name": "LayoutView",
            "grid_template_rows": null,
            "right": null,
            "justify_content": null,
            "_view_module": "@jupyter-widgets/base",
            "overflow": null,
            "_model_module_version": "1.2.0",
            "_view_count": null,
            "flex_flow": null,
            "width": null,
            "min_width": null,
            "border": null,
            "align_items": null,
            "bottom": null,
            "_model_module": "@jupyter-widgets/base",
            "top": null,
            "grid_column": null,
            "overflow_y": null,
            "overflow_x": null,
            "grid_auto_flow": null,
            "grid_area": null,
            "grid_template_columns": null,
            "flex": null,
            "_model_name": "LayoutModel",
            "justify_items": null,
            "grid_row": null,
            "max_height": null,
            "align_content": null,
            "visibility": null,
            "align_self": null,
            "height": null,
            "min_height": null,
            "padding": null,
            "grid_auto_rows": null,
            "grid_gap": null,
            "max_width": null,
            "order": null,
            "_view_module_version": "1.2.0",
            "grid_template_areas": null,
            "object_position": null,
            "object_fit": null,
            "grid_auto_columns": null,
            "margin": null,
            "display": null,
            "left": null
          }
        },
        "76d90818a7b94d36af1419561e62f70d": {
          "model_module": "@jupyter-widgets/controls",
          "model_name": "DescriptionStyleModel",
          "state": {
            "_view_name": "StyleView",
            "_model_name": "DescriptionStyleModel",
            "description_width": "",
            "_view_module": "@jupyter-widgets/base",
            "_model_module_version": "1.5.0",
            "_view_count": null,
            "_view_module_version": "1.2.0",
            "_model_module": "@jupyter-widgets/controls"
          }
        },
        "be9427d48a1a4f0babb0e215576adc80": {
          "model_module": "@jupyter-widgets/base",
          "model_name": "LayoutModel",
          "state": {
            "_view_name": "LayoutView",
            "grid_template_rows": null,
            "right": null,
            "justify_content": null,
            "_view_module": "@jupyter-widgets/base",
            "overflow": null,
            "_model_module_version": "1.2.0",
            "_view_count": null,
            "flex_flow": null,
            "width": null,
            "min_width": null,
            "border": null,
            "align_items": null,
            "bottom": null,
            "_model_module": "@jupyter-widgets/base",
            "top": null,
            "grid_column": null,
            "overflow_y": null,
            "overflow_x": null,
            "grid_auto_flow": null,
            "grid_area": null,
            "grid_template_columns": null,
            "flex": null,
            "_model_name": "LayoutModel",
            "justify_items": null,
            "grid_row": null,
            "max_height": null,
            "align_content": null,
            "visibility": null,
            "align_self": null,
            "height": null,
            "min_height": null,
            "padding": null,
            "grid_auto_rows": null,
            "grid_gap": null,
            "max_width": null,
            "order": null,
            "_view_module_version": "1.2.0",
            "grid_template_areas": null,
            "object_position": null,
            "object_fit": null,
            "grid_auto_columns": null,
            "margin": null,
            "display": null,
            "left": null
          }
        }
      }
    }
  },
  "cells": [
    {
      "cell_type": "markdown",
      "metadata": {
        "id": "Mz2pgijeRc7g"
      },
      "source": [
        "# Importing Libraries"
      ]
    },
    {
      "cell_type": "code",
      "metadata": {
        "id": "0gPkVbdo3liE"
      },
      "source": [
        "from torchvision import models\n",
        "import torch\n",
        "import torch.nn as nn\n",
        "import torch.optim as optim\n",
        "import matplotlib.pyplot as plt\n",
        "import numpy as np\n",
        "import torchvision\n",
        "import torchvision.transforms as transforms\n",
        "from sklearn.model_selection import train_test_split\n",
        "import os\n",
        "import glob\n",
        "from PIL import Image\n",
        "import h5py\n",
        "import cv2\n",
        "import time\n",
        "import json"
      ],
      "execution_count": 1,
      "outputs": []
    },
    {
      "cell_type": "markdown",
      "metadata": {
        "id": "-D5cUxClRgg6"
      },
      "source": [
        "# Function Defintion"
      ]
    },
    {
      "cell_type": "code",
      "metadata": {
        "id": "XvPOqVg1En7L"
      },
      "source": [
        "def create_img(path):\n",
        "    #Function to load,normalize and return image \n",
        "    im = Image.open(path).convert('RGB')\n",
        "    im = np.array(im)\n",
        "    ### Need to give credits to the original author who suggested this image transformation\n",
        "    im = im/255.0\n",
        "    im[:,:,0]=(im[:,:,0]-0.485)/0.229\n",
        "    im[:,:,1]=(im[:,:,1]-0.456)/0.224\n",
        "    im[:,:,2]=(im[:,:,2]-0.406)/0.225\n",
        "    return im\n",
        "\n",
        "def get_input(path):\n",
        "    img = create_img(path)\n",
        "    return(img)\n",
        "    \n",
        "def get_output(path):\n",
        "    gt_file = h5py.File(path,'r')\n",
        "    target = np.asarray(gt_file['density'])\n",
        "    img = cv2.resize(target,(int(target.shape[1]/8),int(target.shape[0]/8)),interpolation = cv2.INTER_CUBIC)*64 ### why shrink the size of the ground truth ???\n",
        "    return img\n",
        "\n",
        "def make_layers(cfg, in_channels = 3,batch_norm=False,dilation = False):\n",
        "    if dilation:\n",
        "        d_rate = 2\n",
        "    else:\n",
        "        d_rate = 1\n",
        "    layers = []\n",
        "    for v in cfg:\n",
        "        if v == 'M':\n",
        "            layers += [nn.MaxPool2d(kernel_size=2, stride=2)]\n",
        "        else:\n",
        "            conv2d = nn.Conv2d(in_channels, v, kernel_size=3, padding=d_rate,dilation = d_rate)\n",
        "            if batch_norm:\n",
        "                layers += [conv2d, nn.BatchNorm2d(v), nn.ReLU(inplace=True)]\n",
        "            else:\n",
        "                layers += [conv2d, nn.ReLU(inplace=True)]\n",
        "            in_channels = v\n",
        "    return nn.Sequential(*layers)"
      ],
      "execution_count": 2,
      "outputs": []
    },
    {
      "cell_type": "markdown",
      "metadata": {
        "id": "IjvTu-tpRi6T"
      },
      "source": [
        "# Mounting Drive"
      ]
    },
    {
      "cell_type": "code",
      "metadata": {
        "colab": {
          "base_uri": "https://localhost:8080/"
        },
        "id": "9zJKb62T4C4R",
        "outputId": "5705d77e-aaf8-4610-cc07-a6e2655afe60"
      },
      "source": [
        "from google.colab import drive\n",
        "drive.mount('/content/drive')\n",
        "root = 'drive/My Drive/Downloads/data'"
      ],
      "execution_count": 3,
      "outputs": [
        {
          "output_type": "stream",
          "text": [
            "Mounted at /content/drive\n"
          ],
          "name": "stdout"
        }
      ]
    },
    {
      "cell_type": "markdown",
      "metadata": {
        "id": "qZ-TF1J8RkjG"
      },
      "source": [
        "# Loading Dataset Paths -- this"
      ]
    },
    {
      "cell_type": "code",
      "metadata": {
        "id": "hR4zzWwk4G4i"
      },
      "source": [
        "part_A_train = os.path.join(root,'part_A_final/train_data','images')\n",
        "part_A_test = os.path.join(root,'part_A_final/test_data','images')\n",
        "part_B_train = os.path.join(root,'part_B_final/train_data','images')\n",
        "part_B_test = os.path.join(root,'part_B_final/test_data','images')\n",
        "temp = 'test_images'\n",
        "path_sets = [part_A_train] # analysis -- > separately train on A, B and then AB"
      ],
      "execution_count": 4,
      "outputs": []
    },
    {
      "cell_type": "code",
      "metadata": {
        "colab": {
          "base_uri": "https://localhost:8080/"
        },
        "id": "-nNipvln4ZsX",
        "outputId": "19dc683c-807b-4e16-fa3f-a1ed13a7b482"
      },
      "source": [
        "img_paths = []\n",
        "for path in path_sets:\n",
        "    for img_path in glob.glob(os.path.join(path, '*.jpg')):\n",
        "        img_paths.append(str(img_path))\n",
        "print(\"Total images : \",len(img_paths))"
      ],
      "execution_count": 5,
      "outputs": [
        {
          "output_type": "stream",
          "text": [
            "Total images :  300\n"
          ],
          "name": "stdout"
        }
      ]
    },
    {
      "cell_type": "code",
      "metadata": {
        "id": "ApfDM4bGkeg2"
      },
      "source": [
        "train_paths,val_paths = train_test_split(img_paths, test_size=0.2)"
      ],
      "execution_count": 6,
      "outputs": []
    },
    {
      "cell_type": "markdown",
      "metadata": {
        "id": "xSeIkT46RzEC"
      },
      "source": [
        "# Model Definition -- this"
      ]
    },
    {
      "cell_type": "markdown",
      "metadata": {
        "id": "bpvqijOnY44_"
      },
      "source": [
        "Use fontend only when we want to use standard models\n",
        "if not... comment out all the lines related to frontend and define own (custom) model using backend"
      ]
    },
    {
      "cell_type": "markdown",
      "metadata": {
        "id": "R3y-tCjyaOVl"
      },
      "source": [
        "## CSRNet - VGG"
      ]
    },
    {
      "cell_type": "code",
      "metadata": {
        "id": "JlIRRY2m_bGT"
      },
      "source": [
        "class VGG_CSRNet(nn.Module):\n",
        "    def __init__(self, load_weights=False):\n",
        "        super(VGG_CSRNet, self).__init__()\n",
        "        vgg = models.vgg16_bn(pretrained=True)\n",
        "        #alex = models.alexnet(pretrained=True)\n",
        "        #res = models.resnext50_32x4d(pretrained=True)\n",
        "\n",
        "        #self.frontend_feat = [64, 64, 'M', 128, 128, 'M', 256, 256, 256, 'M', 512, 512, 512]\n",
        "        self.backend_feat  = [512, 512, 512,256,128,64]\n",
        "        #self.frontend = make_layers(self.frontend_feat)\n",
        "        self.backend = make_layers(self.backend_feat,in_channels = 512,dilation = True)\n",
        "        self.output_layer = nn.Conv2d(64, 1, kernel_size=1) # 1X1 convolution\n",
        "        #self._initialize_weights()\n",
        "        self.frontend = vgg.features[:37]\n",
        "        #self.frontend = alex.features[:?]\n",
        "        #self.frontend = res.features[:?]\n",
        "        for param in self.frontend.parameters():\n",
        "          param.requires_grad = False\n",
        "        for param in self.backend.parameters():\n",
        "          param.requires_grad = True\n",
        "        for param in self.output_layer.parameters():\n",
        "          param.requires_grad = True\n",
        "    def forward(self,x):\n",
        "        x = self.frontend(x)\n",
        "        x = self.backend(x)\n",
        "        x = self.output_layer(x)\n",
        "        return x\n",
        "    def _initialize_weights(self):\n",
        "        for m in self.modules():\n",
        "            if isinstance(m, nn.Conv2d):\n",
        "                nn.init.normal_(m.weight, 0.01)\n",
        "                if m.bias is not None:\n",
        "                    nn.init.constant_(m.bias, 0)\n",
        "            elif isinstance(m, nn.BatchNorm2d):\n",
        "                nn.init.constant_(m.weight, 1)\n",
        "                nn.init.constant_(m.bias, 0)\n",
        "            elif isinstance(m, nn.Linear):\n",
        "                nn.init.normal_(m.weight, 0, 0.01)\n",
        "                nn.init.constant_(m.bias, 0)"
      ],
      "execution_count": 8,
      "outputs": []
    },
    {
      "cell_type": "markdown",
      "metadata": {
        "id": "KeHJiWPVHL58"
      },
      "source": [
        "## CSRNet - SqueezeNet"
      ]
    },
    {
      "cell_type": "code",
      "metadata": {
        "id": "O2Vdkbv5JZtp"
      },
      "source": [
        "squeezenet"
      ],
      "execution_count": null,
      "outputs": []
    },
    {
      "cell_type": "code",
      "metadata": {
        "id": "ndUnSa5sHLfM"
      },
      "source": [
        "class Squeeze_CSRNet(nn.Module):\n",
        "    def __init__(self, load_weights=False):\n",
        "        super(Squeeze_CSRNet, self).__init__()\n",
        "        #vgg = models.vgg16_bn(pretrained=True)\n",
        "        #alex = models.alexnet(pretrained=True)\n",
        "        #res = models.resnext50_32x4d(pretrained=True)\n",
        "        squeezenet = models.squeezenet1_0()\n",
        "        #self.frontend_feat = [64, 64, 'M', 128, 128, 'M', 256, 256, 256, 'M', 512, 512, 512]\n",
        "        self.backend_feat  = [128,128,64]\n",
        "        #self.frontend = make_layers(self.frontend_feat)\n",
        "        self.backend = make_layers(self.backend_feat,in_channels = 128,dilation = True)\n",
        "        self.output_layer = nn.Conv2d(64, 1, kernel_size=1) # 1X1 convolution\n",
        "        #self._initialize_weights()\n",
        "        #self.frontend = vgg.features[:37]\n",
        "        #self.frontend = alex.features[:5]\n",
        "        #self.frontend = res.features\n",
        "        self.frontend = squeezenet.features[:4]\n",
        "        for param in self.frontend.parameters():\n",
        "          param.requires_grad = False\n",
        "        for param in self.backend.parameters():\n",
        "          param.requires_grad = True\n",
        "        for param in self.output_layer.parameters():\n",
        "          param.requires_grad = True\n",
        "    def forward(self,x):\n",
        "        x = self.frontend(x)\n",
        "        x = self.backend(x)\n",
        "        x = self.output_layer(x)\n",
        "        return x\n",
        "    def _initialize_weights(self):\n",
        "        for m in self.modules():\n",
        "            if isinstance(m, nn.Conv2d):\n",
        "                nn.init.normal_(m.weight, 0.01)\n",
        "                if m.bias is not None:\n",
        "                    nn.init.constant_(m.bias, 0)\n",
        "            elif isinstance(m, nn.BatchNorm2d):\n",
        "                nn.init.constant_(m.weight, 1)\n",
        "                nn.init.constant_(m.bias, 0)\n",
        "            elif isinstance(m, nn.Linear):\n",
        "                nn.init.normal_(m.weight, 0, 0.01)\n",
        "                nn.init.constant_(m.bias, 0)"
      ],
      "execution_count": null,
      "outputs": []
    },
    {
      "cell_type": "markdown",
      "metadata": {
        "id": "qle5NTQFWw1n"
      },
      "source": [
        "## CSRNet - MobileNet V1"
      ]
    },
    {
      "cell_type": "code",
      "metadata": {
        "id": "iov7isc4W08m"
      },
      "source": [
        "mobilenet = models.mobilenet_v2()\n",
        "mobilenet"
      ],
      "execution_count": null,
      "outputs": []
    },
    {
      "cell_type": "code",
      "metadata": {
        "id": "jyC2cgTzXFeh"
      },
      "source": [
        "class Mobile_CSRNet_V1(nn.Module):\n",
        "    def __init__(self, load_weights=False):\n",
        "        super(Mobile_CSRNet_V1, self).__init__()\n",
        "        mobilenet = models.mobilenet_v2()\n",
        "        in_ch = 24 # input channels to backend\n",
        "        self.backend_feat  = [in_ch,24,12]\n",
        "        self.backend = make_layers(self.backend_feat,in_channels = in_ch,dilation = True)\n",
        "        self.output_layer = nn.Conv2d(12, 1, kernel_size=1) # 1X1 convolution\n",
        "        self.frontend = mobilenet.features[:4]\n",
        "        for param in self.frontend.parameters():\n",
        "          param.requires_grad = False\n",
        "        for param in self.backend.parameters():\n",
        "          param.requires_grad = True\n",
        "        for param in self.output_layer.parameters():\n",
        "          param.requires_grad = True\n",
        "    def forward(self,x):\n",
        "        x = self.frontend(x)\n",
        "        x = self.backend(x)\n",
        "        x = self.output_layer(x)\n",
        "        return x\n",
        "    def _initialize_weights(self):\n",
        "        for m in self.modules():\n",
        "            if isinstance(m, nn.Conv2d):\n",
        "                nn.init.normal_(m.weight, 0.01)\n",
        "                if m.bias is not None:\n",
        "                    nn.init.constant_(m.bias, 0)\n",
        "            elif isinstance(m, nn.BatchNorm2d):\n",
        "                nn.init.constant_(m.weight, 1)\n",
        "                nn.init.constant_(m.bias, 0)\n",
        "            elif isinstance(m, nn.Linear):\n",
        "                nn.init.normal_(m.weight, 0, 0.01)\n",
        "                nn.init.constant_(m.bias, 0)"
      ],
      "execution_count": null,
      "outputs": []
    },
    {
      "cell_type": "markdown",
      "metadata": {
        "id": "lroLc3b1jOlT"
      },
      "source": [
        "## CSRNet - MobileNet V2\n",
        "\n",
        "Includes a ReLU activation at the output node to avoid negative values -- failed"
      ]
    },
    {
      "cell_type": "code",
      "metadata": {
        "id": "C3CtQBfHjW8R"
      },
      "source": [
        "class Mobile_CSRNet_V2(nn.Module):\n",
        "    def __init__(self, load_weights=False):\n",
        "        super(Mobile_CSRNet_V2, self).__init__()\n",
        "        mobilenet = models.mobilenet_v2()\n",
        "        in_ch = 24 # input channels to backend\n",
        "        self.backend_feat  = [in_ch,24,12]\n",
        "        self.backend = make_layers(self.backend_feat,in_channels = in_ch,dilation = True)\n",
        "        self.output_layer = nn.Sequential(\n",
        "            nn.Conv2d(12, 1, kernel_size=1),\n",
        "            nn.ReLU()\n",
        "        )\n",
        "        self.frontend = mobilenet.features[:4]\n",
        "        for param in self.frontend.parameters():\n",
        "          param.requires_grad = False\n",
        "        for param in self.backend.parameters():\n",
        "          param.requires_grad = True\n",
        "        for param in self.output_layer.parameters():\n",
        "          param.requires_grad = True\n",
        "    def forward(self,x):\n",
        "        x = self.frontend(x)\n",
        "        x = self.backend(x)\n",
        "        x = self.output_layer(x)\n",
        "        return x\n",
        "    def _initialize_weights(self):\n",
        "        for m in self.modules():\n",
        "            if isinstance(m, nn.Conv2d):\n",
        "                nn.init.normal_(m.weight, 0.01)\n",
        "                if m.bias is not None:\n",
        "                    nn.init.constant_(m.bias, 0)\n",
        "            elif isinstance(m, nn.BatchNorm2d):\n",
        "                nn.init.constant_(m.weight, 1)\n",
        "                nn.init.constant_(m.bias, 0)\n",
        "            elif isinstance(m, nn.Linear):\n",
        "                nn.init.normal_(m.weight, 0, 0.01)\n",
        "                nn.init.constant_(m.bias, 0)"
      ],
      "execution_count": null,
      "outputs": []
    },
    {
      "cell_type": "markdown",
      "metadata": {
        "id": "CmcVJBvSz9EN"
      },
      "source": [
        "## CSRNet - MobileNet V3\n",
        "\n",
        "yet to be tried"
      ]
    },
    {
      "cell_type": "code",
      "metadata": {
        "id": "-jUi0GV9z8gw"
      },
      "source": [
        "class Mobile_CSRNet_V3(nn.Module):\n",
        "    def __init__(self, load_weights=False):\n",
        "        super(Mobile_CSRNet_V3, self).__init__()\n",
        "        mobilenet = models.mobilenet_v2()\n",
        "        in_ch = 24 # input channels to backend\n",
        "        self.backend_feat  = [in_ch,24,12]\n",
        "        self.backend = make_layers(self.backend_feat,in_channels = in_ch,dilation = True)\n",
        "        self.output_layer = nn.Conv2d(12, 1, kernel_size=1)\n",
        "        self.frontend = mobilenet.features[:4]\n",
        "        for param in self.frontend.parameters():\n",
        "          param.requires_grad = False\n",
        "        for param in self.backend.parameters():\n",
        "          param.requires_grad = True\n",
        "        for param in self.output_layer.parameters():\n",
        "          param.requires_grad = True\n",
        "    def forward(self,x):\n",
        "        x = self.frontend(x)\n",
        "        x = self.backend(x)\n",
        "        x = self.output_layer(x)\n",
        "        return torch.abs(x)\n",
        "    def _initialize_weights(self):\n",
        "        for m in self.modules():\n",
        "            if isinstance(m, nn.Conv2d):\n",
        "                nn.init.normal_(m.weight, 0.01)\n",
        "                if m.bias is not None:\n",
        "                    nn.init.constant_(m.bias, 0)\n",
        "            elif isinstance(m, nn.BatchNorm2d):\n",
        "                nn.init.constant_(m.weight, 1)\n",
        "                nn.init.constant_(m.bias, 0)\n",
        "            elif isinstance(m, nn.Linear):\n",
        "                nn.init.normal_(m.weight, 0, 0.01)\n",
        "                nn.init.constant_(m.bias, 0)"
      ],
      "execution_count": null,
      "outputs": []
    },
    {
      "cell_type": "markdown",
      "metadata": {
        "id": "mNuxEw7j0OMb"
      },
      "source": [
        "## CSRNet - DenseNet "
      ]
    },
    {
      "cell_type": "code",
      "metadata": {
        "colab": {
          "base_uri": "https://localhost:8080/"
        },
        "id": "e1ahEK8t0XAw",
        "outputId": "9850ffb2-0f3e-4cff-9e25-2fc45551ef1c"
      },
      "source": [
        "densenet = models.densenet161()\n",
        "densenet"
      ],
      "execution_count": null,
      "outputs": [
        {
          "output_type": "execute_result",
          "data": {
            "text/plain": [
              "DenseNet(\n",
              "  (features): Sequential(\n",
              "    (conv0): Conv2d(3, 96, kernel_size=(7, 7), stride=(2, 2), padding=(3, 3), bias=False)\n",
              "    (norm0): BatchNorm2d(96, eps=1e-05, momentum=0.1, affine=True, track_running_stats=True)\n",
              "    (relu0): ReLU(inplace=True)\n",
              "    (pool0): MaxPool2d(kernel_size=3, stride=2, padding=1, dilation=1, ceil_mode=False)\n",
              "    (denseblock1): _DenseBlock(\n",
              "      (denselayer1): _DenseLayer(\n",
              "        (norm1): BatchNorm2d(96, eps=1e-05, momentum=0.1, affine=True, track_running_stats=True)\n",
              "        (relu1): ReLU(inplace=True)\n",
              "        (conv1): Conv2d(96, 192, kernel_size=(1, 1), stride=(1, 1), bias=False)\n",
              "        (norm2): BatchNorm2d(192, eps=1e-05, momentum=0.1, affine=True, track_running_stats=True)\n",
              "        (relu2): ReLU(inplace=True)\n",
              "        (conv2): Conv2d(192, 48, kernel_size=(3, 3), stride=(1, 1), padding=(1, 1), bias=False)\n",
              "      )\n",
              "      (denselayer2): _DenseLayer(\n",
              "        (norm1): BatchNorm2d(144, eps=1e-05, momentum=0.1, affine=True, track_running_stats=True)\n",
              "        (relu1): ReLU(inplace=True)\n",
              "        (conv1): Conv2d(144, 192, kernel_size=(1, 1), stride=(1, 1), bias=False)\n",
              "        (norm2): BatchNorm2d(192, eps=1e-05, momentum=0.1, affine=True, track_running_stats=True)\n",
              "        (relu2): ReLU(inplace=True)\n",
              "        (conv2): Conv2d(192, 48, kernel_size=(3, 3), stride=(1, 1), padding=(1, 1), bias=False)\n",
              "      )\n",
              "      (denselayer3): _DenseLayer(\n",
              "        (norm1): BatchNorm2d(192, eps=1e-05, momentum=0.1, affine=True, track_running_stats=True)\n",
              "        (relu1): ReLU(inplace=True)\n",
              "        (conv1): Conv2d(192, 192, kernel_size=(1, 1), stride=(1, 1), bias=False)\n",
              "        (norm2): BatchNorm2d(192, eps=1e-05, momentum=0.1, affine=True, track_running_stats=True)\n",
              "        (relu2): ReLU(inplace=True)\n",
              "        (conv2): Conv2d(192, 48, kernel_size=(3, 3), stride=(1, 1), padding=(1, 1), bias=False)\n",
              "      )\n",
              "      (denselayer4): _DenseLayer(\n",
              "        (norm1): BatchNorm2d(240, eps=1e-05, momentum=0.1, affine=True, track_running_stats=True)\n",
              "        (relu1): ReLU(inplace=True)\n",
              "        (conv1): Conv2d(240, 192, kernel_size=(1, 1), stride=(1, 1), bias=False)\n",
              "        (norm2): BatchNorm2d(192, eps=1e-05, momentum=0.1, affine=True, track_running_stats=True)\n",
              "        (relu2): ReLU(inplace=True)\n",
              "        (conv2): Conv2d(192, 48, kernel_size=(3, 3), stride=(1, 1), padding=(1, 1), bias=False)\n",
              "      )\n",
              "      (denselayer5): _DenseLayer(\n",
              "        (norm1): BatchNorm2d(288, eps=1e-05, momentum=0.1, affine=True, track_running_stats=True)\n",
              "        (relu1): ReLU(inplace=True)\n",
              "        (conv1): Conv2d(288, 192, kernel_size=(1, 1), stride=(1, 1), bias=False)\n",
              "        (norm2): BatchNorm2d(192, eps=1e-05, momentum=0.1, affine=True, track_running_stats=True)\n",
              "        (relu2): ReLU(inplace=True)\n",
              "        (conv2): Conv2d(192, 48, kernel_size=(3, 3), stride=(1, 1), padding=(1, 1), bias=False)\n",
              "      )\n",
              "      (denselayer6): _DenseLayer(\n",
              "        (norm1): BatchNorm2d(336, eps=1e-05, momentum=0.1, affine=True, track_running_stats=True)\n",
              "        (relu1): ReLU(inplace=True)\n",
              "        (conv1): Conv2d(336, 192, kernel_size=(1, 1), stride=(1, 1), bias=False)\n",
              "        (norm2): BatchNorm2d(192, eps=1e-05, momentum=0.1, affine=True, track_running_stats=True)\n",
              "        (relu2): ReLU(inplace=True)\n",
              "        (conv2): Conv2d(192, 48, kernel_size=(3, 3), stride=(1, 1), padding=(1, 1), bias=False)\n",
              "      )\n",
              "    )\n",
              "    (transition1): _Transition(\n",
              "      (norm): BatchNorm2d(384, eps=1e-05, momentum=0.1, affine=True, track_running_stats=True)\n",
              "      (relu): ReLU(inplace=True)\n",
              "      (conv): Conv2d(384, 192, kernel_size=(1, 1), stride=(1, 1), bias=False)\n",
              "      (pool): AvgPool2d(kernel_size=2, stride=2, padding=0)\n",
              "    )\n",
              "    (denseblock2): _DenseBlock(\n",
              "      (denselayer1): _DenseLayer(\n",
              "        (norm1): BatchNorm2d(192, eps=1e-05, momentum=0.1, affine=True, track_running_stats=True)\n",
              "        (relu1): ReLU(inplace=True)\n",
              "        (conv1): Conv2d(192, 192, kernel_size=(1, 1), stride=(1, 1), bias=False)\n",
              "        (norm2): BatchNorm2d(192, eps=1e-05, momentum=0.1, affine=True, track_running_stats=True)\n",
              "        (relu2): ReLU(inplace=True)\n",
              "        (conv2): Conv2d(192, 48, kernel_size=(3, 3), stride=(1, 1), padding=(1, 1), bias=False)\n",
              "      )\n",
              "      (denselayer2): _DenseLayer(\n",
              "        (norm1): BatchNorm2d(240, eps=1e-05, momentum=0.1, affine=True, track_running_stats=True)\n",
              "        (relu1): ReLU(inplace=True)\n",
              "        (conv1): Conv2d(240, 192, kernel_size=(1, 1), stride=(1, 1), bias=False)\n",
              "        (norm2): BatchNorm2d(192, eps=1e-05, momentum=0.1, affine=True, track_running_stats=True)\n",
              "        (relu2): ReLU(inplace=True)\n",
              "        (conv2): Conv2d(192, 48, kernel_size=(3, 3), stride=(1, 1), padding=(1, 1), bias=False)\n",
              "      )\n",
              "      (denselayer3): _DenseLayer(\n",
              "        (norm1): BatchNorm2d(288, eps=1e-05, momentum=0.1, affine=True, track_running_stats=True)\n",
              "        (relu1): ReLU(inplace=True)\n",
              "        (conv1): Conv2d(288, 192, kernel_size=(1, 1), stride=(1, 1), bias=False)\n",
              "        (norm2): BatchNorm2d(192, eps=1e-05, momentum=0.1, affine=True, track_running_stats=True)\n",
              "        (relu2): ReLU(inplace=True)\n",
              "        (conv2): Conv2d(192, 48, kernel_size=(3, 3), stride=(1, 1), padding=(1, 1), bias=False)\n",
              "      )\n",
              "      (denselayer4): _DenseLayer(\n",
              "        (norm1): BatchNorm2d(336, eps=1e-05, momentum=0.1, affine=True, track_running_stats=True)\n",
              "        (relu1): ReLU(inplace=True)\n",
              "        (conv1): Conv2d(336, 192, kernel_size=(1, 1), stride=(1, 1), bias=False)\n",
              "        (norm2): BatchNorm2d(192, eps=1e-05, momentum=0.1, affine=True, track_running_stats=True)\n",
              "        (relu2): ReLU(inplace=True)\n",
              "        (conv2): Conv2d(192, 48, kernel_size=(3, 3), stride=(1, 1), padding=(1, 1), bias=False)\n",
              "      )\n",
              "      (denselayer5): _DenseLayer(\n",
              "        (norm1): BatchNorm2d(384, eps=1e-05, momentum=0.1, affine=True, track_running_stats=True)\n",
              "        (relu1): ReLU(inplace=True)\n",
              "        (conv1): Conv2d(384, 192, kernel_size=(1, 1), stride=(1, 1), bias=False)\n",
              "        (norm2): BatchNorm2d(192, eps=1e-05, momentum=0.1, affine=True, track_running_stats=True)\n",
              "        (relu2): ReLU(inplace=True)\n",
              "        (conv2): Conv2d(192, 48, kernel_size=(3, 3), stride=(1, 1), padding=(1, 1), bias=False)\n",
              "      )\n",
              "      (denselayer6): _DenseLayer(\n",
              "        (norm1): BatchNorm2d(432, eps=1e-05, momentum=0.1, affine=True, track_running_stats=True)\n",
              "        (relu1): ReLU(inplace=True)\n",
              "        (conv1): Conv2d(432, 192, kernel_size=(1, 1), stride=(1, 1), bias=False)\n",
              "        (norm2): BatchNorm2d(192, eps=1e-05, momentum=0.1, affine=True, track_running_stats=True)\n",
              "        (relu2): ReLU(inplace=True)\n",
              "        (conv2): Conv2d(192, 48, kernel_size=(3, 3), stride=(1, 1), padding=(1, 1), bias=False)\n",
              "      )\n",
              "      (denselayer7): _DenseLayer(\n",
              "        (norm1): BatchNorm2d(480, eps=1e-05, momentum=0.1, affine=True, track_running_stats=True)\n",
              "        (relu1): ReLU(inplace=True)\n",
              "        (conv1): Conv2d(480, 192, kernel_size=(1, 1), stride=(1, 1), bias=False)\n",
              "        (norm2): BatchNorm2d(192, eps=1e-05, momentum=0.1, affine=True, track_running_stats=True)\n",
              "        (relu2): ReLU(inplace=True)\n",
              "        (conv2): Conv2d(192, 48, kernel_size=(3, 3), stride=(1, 1), padding=(1, 1), bias=False)\n",
              "      )\n",
              "      (denselayer8): _DenseLayer(\n",
              "        (norm1): BatchNorm2d(528, eps=1e-05, momentum=0.1, affine=True, track_running_stats=True)\n",
              "        (relu1): ReLU(inplace=True)\n",
              "        (conv1): Conv2d(528, 192, kernel_size=(1, 1), stride=(1, 1), bias=False)\n",
              "        (norm2): BatchNorm2d(192, eps=1e-05, momentum=0.1, affine=True, track_running_stats=True)\n",
              "        (relu2): ReLU(inplace=True)\n",
              "        (conv2): Conv2d(192, 48, kernel_size=(3, 3), stride=(1, 1), padding=(1, 1), bias=False)\n",
              "      )\n",
              "      (denselayer9): _DenseLayer(\n",
              "        (norm1): BatchNorm2d(576, eps=1e-05, momentum=0.1, affine=True, track_running_stats=True)\n",
              "        (relu1): ReLU(inplace=True)\n",
              "        (conv1): Conv2d(576, 192, kernel_size=(1, 1), stride=(1, 1), bias=False)\n",
              "        (norm2): BatchNorm2d(192, eps=1e-05, momentum=0.1, affine=True, track_running_stats=True)\n",
              "        (relu2): ReLU(inplace=True)\n",
              "        (conv2): Conv2d(192, 48, kernel_size=(3, 3), stride=(1, 1), padding=(1, 1), bias=False)\n",
              "      )\n",
              "      (denselayer10): _DenseLayer(\n",
              "        (norm1): BatchNorm2d(624, eps=1e-05, momentum=0.1, affine=True, track_running_stats=True)\n",
              "        (relu1): ReLU(inplace=True)\n",
              "        (conv1): Conv2d(624, 192, kernel_size=(1, 1), stride=(1, 1), bias=False)\n",
              "        (norm2): BatchNorm2d(192, eps=1e-05, momentum=0.1, affine=True, track_running_stats=True)\n",
              "        (relu2): ReLU(inplace=True)\n",
              "        (conv2): Conv2d(192, 48, kernel_size=(3, 3), stride=(1, 1), padding=(1, 1), bias=False)\n",
              "      )\n",
              "      (denselayer11): _DenseLayer(\n",
              "        (norm1): BatchNorm2d(672, eps=1e-05, momentum=0.1, affine=True, track_running_stats=True)\n",
              "        (relu1): ReLU(inplace=True)\n",
              "        (conv1): Conv2d(672, 192, kernel_size=(1, 1), stride=(1, 1), bias=False)\n",
              "        (norm2): BatchNorm2d(192, eps=1e-05, momentum=0.1, affine=True, track_running_stats=True)\n",
              "        (relu2): ReLU(inplace=True)\n",
              "        (conv2): Conv2d(192, 48, kernel_size=(3, 3), stride=(1, 1), padding=(1, 1), bias=False)\n",
              "      )\n",
              "      (denselayer12): _DenseLayer(\n",
              "        (norm1): BatchNorm2d(720, eps=1e-05, momentum=0.1, affine=True, track_running_stats=True)\n",
              "        (relu1): ReLU(inplace=True)\n",
              "        (conv1): Conv2d(720, 192, kernel_size=(1, 1), stride=(1, 1), bias=False)\n",
              "        (norm2): BatchNorm2d(192, eps=1e-05, momentum=0.1, affine=True, track_running_stats=True)\n",
              "        (relu2): ReLU(inplace=True)\n",
              "        (conv2): Conv2d(192, 48, kernel_size=(3, 3), stride=(1, 1), padding=(1, 1), bias=False)\n",
              "      )\n",
              "    )\n",
              "    (transition2): _Transition(\n",
              "      (norm): BatchNorm2d(768, eps=1e-05, momentum=0.1, affine=True, track_running_stats=True)\n",
              "      (relu): ReLU(inplace=True)\n",
              "      (conv): Conv2d(768, 384, kernel_size=(1, 1), stride=(1, 1), bias=False)\n",
              "      (pool): AvgPool2d(kernel_size=2, stride=2, padding=0)\n",
              "    )\n",
              "    (denseblock3): _DenseBlock(\n",
              "      (denselayer1): _DenseLayer(\n",
              "        (norm1): BatchNorm2d(384, eps=1e-05, momentum=0.1, affine=True, track_running_stats=True)\n",
              "        (relu1): ReLU(inplace=True)\n",
              "        (conv1): Conv2d(384, 192, kernel_size=(1, 1), stride=(1, 1), bias=False)\n",
              "        (norm2): BatchNorm2d(192, eps=1e-05, momentum=0.1, affine=True, track_running_stats=True)\n",
              "        (relu2): ReLU(inplace=True)\n",
              "        (conv2): Conv2d(192, 48, kernel_size=(3, 3), stride=(1, 1), padding=(1, 1), bias=False)\n",
              "      )\n",
              "      (denselayer2): _DenseLayer(\n",
              "        (norm1): BatchNorm2d(432, eps=1e-05, momentum=0.1, affine=True, track_running_stats=True)\n",
              "        (relu1): ReLU(inplace=True)\n",
              "        (conv1): Conv2d(432, 192, kernel_size=(1, 1), stride=(1, 1), bias=False)\n",
              "        (norm2): BatchNorm2d(192, eps=1e-05, momentum=0.1, affine=True, track_running_stats=True)\n",
              "        (relu2): ReLU(inplace=True)\n",
              "        (conv2): Conv2d(192, 48, kernel_size=(3, 3), stride=(1, 1), padding=(1, 1), bias=False)\n",
              "      )\n",
              "      (denselayer3): _DenseLayer(\n",
              "        (norm1): BatchNorm2d(480, eps=1e-05, momentum=0.1, affine=True, track_running_stats=True)\n",
              "        (relu1): ReLU(inplace=True)\n",
              "        (conv1): Conv2d(480, 192, kernel_size=(1, 1), stride=(1, 1), bias=False)\n",
              "        (norm2): BatchNorm2d(192, eps=1e-05, momentum=0.1, affine=True, track_running_stats=True)\n",
              "        (relu2): ReLU(inplace=True)\n",
              "        (conv2): Conv2d(192, 48, kernel_size=(3, 3), stride=(1, 1), padding=(1, 1), bias=False)\n",
              "      )\n",
              "      (denselayer4): _DenseLayer(\n",
              "        (norm1): BatchNorm2d(528, eps=1e-05, momentum=0.1, affine=True, track_running_stats=True)\n",
              "        (relu1): ReLU(inplace=True)\n",
              "        (conv1): Conv2d(528, 192, kernel_size=(1, 1), stride=(1, 1), bias=False)\n",
              "        (norm2): BatchNorm2d(192, eps=1e-05, momentum=0.1, affine=True, track_running_stats=True)\n",
              "        (relu2): ReLU(inplace=True)\n",
              "        (conv2): Conv2d(192, 48, kernel_size=(3, 3), stride=(1, 1), padding=(1, 1), bias=False)\n",
              "      )\n",
              "      (denselayer5): _DenseLayer(\n",
              "        (norm1): BatchNorm2d(576, eps=1e-05, momentum=0.1, affine=True, track_running_stats=True)\n",
              "        (relu1): ReLU(inplace=True)\n",
              "        (conv1): Conv2d(576, 192, kernel_size=(1, 1), stride=(1, 1), bias=False)\n",
              "        (norm2): BatchNorm2d(192, eps=1e-05, momentum=0.1, affine=True, track_running_stats=True)\n",
              "        (relu2): ReLU(inplace=True)\n",
              "        (conv2): Conv2d(192, 48, kernel_size=(3, 3), stride=(1, 1), padding=(1, 1), bias=False)\n",
              "      )\n",
              "      (denselayer6): _DenseLayer(\n",
              "        (norm1): BatchNorm2d(624, eps=1e-05, momentum=0.1, affine=True, track_running_stats=True)\n",
              "        (relu1): ReLU(inplace=True)\n",
              "        (conv1): Conv2d(624, 192, kernel_size=(1, 1), stride=(1, 1), bias=False)\n",
              "        (norm2): BatchNorm2d(192, eps=1e-05, momentum=0.1, affine=True, track_running_stats=True)\n",
              "        (relu2): ReLU(inplace=True)\n",
              "        (conv2): Conv2d(192, 48, kernel_size=(3, 3), stride=(1, 1), padding=(1, 1), bias=False)\n",
              "      )\n",
              "      (denselayer7): _DenseLayer(\n",
              "        (norm1): BatchNorm2d(672, eps=1e-05, momentum=0.1, affine=True, track_running_stats=True)\n",
              "        (relu1): ReLU(inplace=True)\n",
              "        (conv1): Conv2d(672, 192, kernel_size=(1, 1), stride=(1, 1), bias=False)\n",
              "        (norm2): BatchNorm2d(192, eps=1e-05, momentum=0.1, affine=True, track_running_stats=True)\n",
              "        (relu2): ReLU(inplace=True)\n",
              "        (conv2): Conv2d(192, 48, kernel_size=(3, 3), stride=(1, 1), padding=(1, 1), bias=False)\n",
              "      )\n",
              "      (denselayer8): _DenseLayer(\n",
              "        (norm1): BatchNorm2d(720, eps=1e-05, momentum=0.1, affine=True, track_running_stats=True)\n",
              "        (relu1): ReLU(inplace=True)\n",
              "        (conv1): Conv2d(720, 192, kernel_size=(1, 1), stride=(1, 1), bias=False)\n",
              "        (norm2): BatchNorm2d(192, eps=1e-05, momentum=0.1, affine=True, track_running_stats=True)\n",
              "        (relu2): ReLU(inplace=True)\n",
              "        (conv2): Conv2d(192, 48, kernel_size=(3, 3), stride=(1, 1), padding=(1, 1), bias=False)\n",
              "      )\n",
              "      (denselayer9): _DenseLayer(\n",
              "        (norm1): BatchNorm2d(768, eps=1e-05, momentum=0.1, affine=True, track_running_stats=True)\n",
              "        (relu1): ReLU(inplace=True)\n",
              "        (conv1): Conv2d(768, 192, kernel_size=(1, 1), stride=(1, 1), bias=False)\n",
              "        (norm2): BatchNorm2d(192, eps=1e-05, momentum=0.1, affine=True, track_running_stats=True)\n",
              "        (relu2): ReLU(inplace=True)\n",
              "        (conv2): Conv2d(192, 48, kernel_size=(3, 3), stride=(1, 1), padding=(1, 1), bias=False)\n",
              "      )\n",
              "      (denselayer10): _DenseLayer(\n",
              "        (norm1): BatchNorm2d(816, eps=1e-05, momentum=0.1, affine=True, track_running_stats=True)\n",
              "        (relu1): ReLU(inplace=True)\n",
              "        (conv1): Conv2d(816, 192, kernel_size=(1, 1), stride=(1, 1), bias=False)\n",
              "        (norm2): BatchNorm2d(192, eps=1e-05, momentum=0.1, affine=True, track_running_stats=True)\n",
              "        (relu2): ReLU(inplace=True)\n",
              "        (conv2): Conv2d(192, 48, kernel_size=(3, 3), stride=(1, 1), padding=(1, 1), bias=False)\n",
              "      )\n",
              "      (denselayer11): _DenseLayer(\n",
              "        (norm1): BatchNorm2d(864, eps=1e-05, momentum=0.1, affine=True, track_running_stats=True)\n",
              "        (relu1): ReLU(inplace=True)\n",
              "        (conv1): Conv2d(864, 192, kernel_size=(1, 1), stride=(1, 1), bias=False)\n",
              "        (norm2): BatchNorm2d(192, eps=1e-05, momentum=0.1, affine=True, track_running_stats=True)\n",
              "        (relu2): ReLU(inplace=True)\n",
              "        (conv2): Conv2d(192, 48, kernel_size=(3, 3), stride=(1, 1), padding=(1, 1), bias=False)\n",
              "      )\n",
              "      (denselayer12): _DenseLayer(\n",
              "        (norm1): BatchNorm2d(912, eps=1e-05, momentum=0.1, affine=True, track_running_stats=True)\n",
              "        (relu1): ReLU(inplace=True)\n",
              "        (conv1): Conv2d(912, 192, kernel_size=(1, 1), stride=(1, 1), bias=False)\n",
              "        (norm2): BatchNorm2d(192, eps=1e-05, momentum=0.1, affine=True, track_running_stats=True)\n",
              "        (relu2): ReLU(inplace=True)\n",
              "        (conv2): Conv2d(192, 48, kernel_size=(3, 3), stride=(1, 1), padding=(1, 1), bias=False)\n",
              "      )\n",
              "      (denselayer13): _DenseLayer(\n",
              "        (norm1): BatchNorm2d(960, eps=1e-05, momentum=0.1, affine=True, track_running_stats=True)\n",
              "        (relu1): ReLU(inplace=True)\n",
              "        (conv1): Conv2d(960, 192, kernel_size=(1, 1), stride=(1, 1), bias=False)\n",
              "        (norm2): BatchNorm2d(192, eps=1e-05, momentum=0.1, affine=True, track_running_stats=True)\n",
              "        (relu2): ReLU(inplace=True)\n",
              "        (conv2): Conv2d(192, 48, kernel_size=(3, 3), stride=(1, 1), padding=(1, 1), bias=False)\n",
              "      )\n",
              "      (denselayer14): _DenseLayer(\n",
              "        (norm1): BatchNorm2d(1008, eps=1e-05, momentum=0.1, affine=True, track_running_stats=True)\n",
              "        (relu1): ReLU(inplace=True)\n",
              "        (conv1): Conv2d(1008, 192, kernel_size=(1, 1), stride=(1, 1), bias=False)\n",
              "        (norm2): BatchNorm2d(192, eps=1e-05, momentum=0.1, affine=True, track_running_stats=True)\n",
              "        (relu2): ReLU(inplace=True)\n",
              "        (conv2): Conv2d(192, 48, kernel_size=(3, 3), stride=(1, 1), padding=(1, 1), bias=False)\n",
              "      )\n",
              "      (denselayer15): _DenseLayer(\n",
              "        (norm1): BatchNorm2d(1056, eps=1e-05, momentum=0.1, affine=True, track_running_stats=True)\n",
              "        (relu1): ReLU(inplace=True)\n",
              "        (conv1): Conv2d(1056, 192, kernel_size=(1, 1), stride=(1, 1), bias=False)\n",
              "        (norm2): BatchNorm2d(192, eps=1e-05, momentum=0.1, affine=True, track_running_stats=True)\n",
              "        (relu2): ReLU(inplace=True)\n",
              "        (conv2): Conv2d(192, 48, kernel_size=(3, 3), stride=(1, 1), padding=(1, 1), bias=False)\n",
              "      )\n",
              "      (denselayer16): _DenseLayer(\n",
              "        (norm1): BatchNorm2d(1104, eps=1e-05, momentum=0.1, affine=True, track_running_stats=True)\n",
              "        (relu1): ReLU(inplace=True)\n",
              "        (conv1): Conv2d(1104, 192, kernel_size=(1, 1), stride=(1, 1), bias=False)\n",
              "        (norm2): BatchNorm2d(192, eps=1e-05, momentum=0.1, affine=True, track_running_stats=True)\n",
              "        (relu2): ReLU(inplace=True)\n",
              "        (conv2): Conv2d(192, 48, kernel_size=(3, 3), stride=(1, 1), padding=(1, 1), bias=False)\n",
              "      )\n",
              "      (denselayer17): _DenseLayer(\n",
              "        (norm1): BatchNorm2d(1152, eps=1e-05, momentum=0.1, affine=True, track_running_stats=True)\n",
              "        (relu1): ReLU(inplace=True)\n",
              "        (conv1): Conv2d(1152, 192, kernel_size=(1, 1), stride=(1, 1), bias=False)\n",
              "        (norm2): BatchNorm2d(192, eps=1e-05, momentum=0.1, affine=True, track_running_stats=True)\n",
              "        (relu2): ReLU(inplace=True)\n",
              "        (conv2): Conv2d(192, 48, kernel_size=(3, 3), stride=(1, 1), padding=(1, 1), bias=False)\n",
              "      )\n",
              "      (denselayer18): _DenseLayer(\n",
              "        (norm1): BatchNorm2d(1200, eps=1e-05, momentum=0.1, affine=True, track_running_stats=True)\n",
              "        (relu1): ReLU(inplace=True)\n",
              "        (conv1): Conv2d(1200, 192, kernel_size=(1, 1), stride=(1, 1), bias=False)\n",
              "        (norm2): BatchNorm2d(192, eps=1e-05, momentum=0.1, affine=True, track_running_stats=True)\n",
              "        (relu2): ReLU(inplace=True)\n",
              "        (conv2): Conv2d(192, 48, kernel_size=(3, 3), stride=(1, 1), padding=(1, 1), bias=False)\n",
              "      )\n",
              "      (denselayer19): _DenseLayer(\n",
              "        (norm1): BatchNorm2d(1248, eps=1e-05, momentum=0.1, affine=True, track_running_stats=True)\n",
              "        (relu1): ReLU(inplace=True)\n",
              "        (conv1): Conv2d(1248, 192, kernel_size=(1, 1), stride=(1, 1), bias=False)\n",
              "        (norm2): BatchNorm2d(192, eps=1e-05, momentum=0.1, affine=True, track_running_stats=True)\n",
              "        (relu2): ReLU(inplace=True)\n",
              "        (conv2): Conv2d(192, 48, kernel_size=(3, 3), stride=(1, 1), padding=(1, 1), bias=False)\n",
              "      )\n",
              "      (denselayer20): _DenseLayer(\n",
              "        (norm1): BatchNorm2d(1296, eps=1e-05, momentum=0.1, affine=True, track_running_stats=True)\n",
              "        (relu1): ReLU(inplace=True)\n",
              "        (conv1): Conv2d(1296, 192, kernel_size=(1, 1), stride=(1, 1), bias=False)\n",
              "        (norm2): BatchNorm2d(192, eps=1e-05, momentum=0.1, affine=True, track_running_stats=True)\n",
              "        (relu2): ReLU(inplace=True)\n",
              "        (conv2): Conv2d(192, 48, kernel_size=(3, 3), stride=(1, 1), padding=(1, 1), bias=False)\n",
              "      )\n",
              "      (denselayer21): _DenseLayer(\n",
              "        (norm1): BatchNorm2d(1344, eps=1e-05, momentum=0.1, affine=True, track_running_stats=True)\n",
              "        (relu1): ReLU(inplace=True)\n",
              "        (conv1): Conv2d(1344, 192, kernel_size=(1, 1), stride=(1, 1), bias=False)\n",
              "        (norm2): BatchNorm2d(192, eps=1e-05, momentum=0.1, affine=True, track_running_stats=True)\n",
              "        (relu2): ReLU(inplace=True)\n",
              "        (conv2): Conv2d(192, 48, kernel_size=(3, 3), stride=(1, 1), padding=(1, 1), bias=False)\n",
              "      )\n",
              "      (denselayer22): _DenseLayer(\n",
              "        (norm1): BatchNorm2d(1392, eps=1e-05, momentum=0.1, affine=True, track_running_stats=True)\n",
              "        (relu1): ReLU(inplace=True)\n",
              "        (conv1): Conv2d(1392, 192, kernel_size=(1, 1), stride=(1, 1), bias=False)\n",
              "        (norm2): BatchNorm2d(192, eps=1e-05, momentum=0.1, affine=True, track_running_stats=True)\n",
              "        (relu2): ReLU(inplace=True)\n",
              "        (conv2): Conv2d(192, 48, kernel_size=(3, 3), stride=(1, 1), padding=(1, 1), bias=False)\n",
              "      )\n",
              "      (denselayer23): _DenseLayer(\n",
              "        (norm1): BatchNorm2d(1440, eps=1e-05, momentum=0.1, affine=True, track_running_stats=True)\n",
              "        (relu1): ReLU(inplace=True)\n",
              "        (conv1): Conv2d(1440, 192, kernel_size=(1, 1), stride=(1, 1), bias=False)\n",
              "        (norm2): BatchNorm2d(192, eps=1e-05, momentum=0.1, affine=True, track_running_stats=True)\n",
              "        (relu2): ReLU(inplace=True)\n",
              "        (conv2): Conv2d(192, 48, kernel_size=(3, 3), stride=(1, 1), padding=(1, 1), bias=False)\n",
              "      )\n",
              "      (denselayer24): _DenseLayer(\n",
              "        (norm1): BatchNorm2d(1488, eps=1e-05, momentum=0.1, affine=True, track_running_stats=True)\n",
              "        (relu1): ReLU(inplace=True)\n",
              "        (conv1): Conv2d(1488, 192, kernel_size=(1, 1), stride=(1, 1), bias=False)\n",
              "        (norm2): BatchNorm2d(192, eps=1e-05, momentum=0.1, affine=True, track_running_stats=True)\n",
              "        (relu2): ReLU(inplace=True)\n",
              "        (conv2): Conv2d(192, 48, kernel_size=(3, 3), stride=(1, 1), padding=(1, 1), bias=False)\n",
              "      )\n",
              "      (denselayer25): _DenseLayer(\n",
              "        (norm1): BatchNorm2d(1536, eps=1e-05, momentum=0.1, affine=True, track_running_stats=True)\n",
              "        (relu1): ReLU(inplace=True)\n",
              "        (conv1): Conv2d(1536, 192, kernel_size=(1, 1), stride=(1, 1), bias=False)\n",
              "        (norm2): BatchNorm2d(192, eps=1e-05, momentum=0.1, affine=True, track_running_stats=True)\n",
              "        (relu2): ReLU(inplace=True)\n",
              "        (conv2): Conv2d(192, 48, kernel_size=(3, 3), stride=(1, 1), padding=(1, 1), bias=False)\n",
              "      )\n",
              "      (denselayer26): _DenseLayer(\n",
              "        (norm1): BatchNorm2d(1584, eps=1e-05, momentum=0.1, affine=True, track_running_stats=True)\n",
              "        (relu1): ReLU(inplace=True)\n",
              "        (conv1): Conv2d(1584, 192, kernel_size=(1, 1), stride=(1, 1), bias=False)\n",
              "        (norm2): BatchNorm2d(192, eps=1e-05, momentum=0.1, affine=True, track_running_stats=True)\n",
              "        (relu2): ReLU(inplace=True)\n",
              "        (conv2): Conv2d(192, 48, kernel_size=(3, 3), stride=(1, 1), padding=(1, 1), bias=False)\n",
              "      )\n",
              "      (denselayer27): _DenseLayer(\n",
              "        (norm1): BatchNorm2d(1632, eps=1e-05, momentum=0.1, affine=True, track_running_stats=True)\n",
              "        (relu1): ReLU(inplace=True)\n",
              "        (conv1): Conv2d(1632, 192, kernel_size=(1, 1), stride=(1, 1), bias=False)\n",
              "        (norm2): BatchNorm2d(192, eps=1e-05, momentum=0.1, affine=True, track_running_stats=True)\n",
              "        (relu2): ReLU(inplace=True)\n",
              "        (conv2): Conv2d(192, 48, kernel_size=(3, 3), stride=(1, 1), padding=(1, 1), bias=False)\n",
              "      )\n",
              "      (denselayer28): _DenseLayer(\n",
              "        (norm1): BatchNorm2d(1680, eps=1e-05, momentum=0.1, affine=True, track_running_stats=True)\n",
              "        (relu1): ReLU(inplace=True)\n",
              "        (conv1): Conv2d(1680, 192, kernel_size=(1, 1), stride=(1, 1), bias=False)\n",
              "        (norm2): BatchNorm2d(192, eps=1e-05, momentum=0.1, affine=True, track_running_stats=True)\n",
              "        (relu2): ReLU(inplace=True)\n",
              "        (conv2): Conv2d(192, 48, kernel_size=(3, 3), stride=(1, 1), padding=(1, 1), bias=False)\n",
              "      )\n",
              "      (denselayer29): _DenseLayer(\n",
              "        (norm1): BatchNorm2d(1728, eps=1e-05, momentum=0.1, affine=True, track_running_stats=True)\n",
              "        (relu1): ReLU(inplace=True)\n",
              "        (conv1): Conv2d(1728, 192, kernel_size=(1, 1), stride=(1, 1), bias=False)\n",
              "        (norm2): BatchNorm2d(192, eps=1e-05, momentum=0.1, affine=True, track_running_stats=True)\n",
              "        (relu2): ReLU(inplace=True)\n",
              "        (conv2): Conv2d(192, 48, kernel_size=(3, 3), stride=(1, 1), padding=(1, 1), bias=False)\n",
              "      )\n",
              "      (denselayer30): _DenseLayer(\n",
              "        (norm1): BatchNorm2d(1776, eps=1e-05, momentum=0.1, affine=True, track_running_stats=True)\n",
              "        (relu1): ReLU(inplace=True)\n",
              "        (conv1): Conv2d(1776, 192, kernel_size=(1, 1), stride=(1, 1), bias=False)\n",
              "        (norm2): BatchNorm2d(192, eps=1e-05, momentum=0.1, affine=True, track_running_stats=True)\n",
              "        (relu2): ReLU(inplace=True)\n",
              "        (conv2): Conv2d(192, 48, kernel_size=(3, 3), stride=(1, 1), padding=(1, 1), bias=False)\n",
              "      )\n",
              "      (denselayer31): _DenseLayer(\n",
              "        (norm1): BatchNorm2d(1824, eps=1e-05, momentum=0.1, affine=True, track_running_stats=True)\n",
              "        (relu1): ReLU(inplace=True)\n",
              "        (conv1): Conv2d(1824, 192, kernel_size=(1, 1), stride=(1, 1), bias=False)\n",
              "        (norm2): BatchNorm2d(192, eps=1e-05, momentum=0.1, affine=True, track_running_stats=True)\n",
              "        (relu2): ReLU(inplace=True)\n",
              "        (conv2): Conv2d(192, 48, kernel_size=(3, 3), stride=(1, 1), padding=(1, 1), bias=False)\n",
              "      )\n",
              "      (denselayer32): _DenseLayer(\n",
              "        (norm1): BatchNorm2d(1872, eps=1e-05, momentum=0.1, affine=True, track_running_stats=True)\n",
              "        (relu1): ReLU(inplace=True)\n",
              "        (conv1): Conv2d(1872, 192, kernel_size=(1, 1), stride=(1, 1), bias=False)\n",
              "        (norm2): BatchNorm2d(192, eps=1e-05, momentum=0.1, affine=True, track_running_stats=True)\n",
              "        (relu2): ReLU(inplace=True)\n",
              "        (conv2): Conv2d(192, 48, kernel_size=(3, 3), stride=(1, 1), padding=(1, 1), bias=False)\n",
              "      )\n",
              "      (denselayer33): _DenseLayer(\n",
              "        (norm1): BatchNorm2d(1920, eps=1e-05, momentum=0.1, affine=True, track_running_stats=True)\n",
              "        (relu1): ReLU(inplace=True)\n",
              "        (conv1): Conv2d(1920, 192, kernel_size=(1, 1), stride=(1, 1), bias=False)\n",
              "        (norm2): BatchNorm2d(192, eps=1e-05, momentum=0.1, affine=True, track_running_stats=True)\n",
              "        (relu2): ReLU(inplace=True)\n",
              "        (conv2): Conv2d(192, 48, kernel_size=(3, 3), stride=(1, 1), padding=(1, 1), bias=False)\n",
              "      )\n",
              "      (denselayer34): _DenseLayer(\n",
              "        (norm1): BatchNorm2d(1968, eps=1e-05, momentum=0.1, affine=True, track_running_stats=True)\n",
              "        (relu1): ReLU(inplace=True)\n",
              "        (conv1): Conv2d(1968, 192, kernel_size=(1, 1), stride=(1, 1), bias=False)\n",
              "        (norm2): BatchNorm2d(192, eps=1e-05, momentum=0.1, affine=True, track_running_stats=True)\n",
              "        (relu2): ReLU(inplace=True)\n",
              "        (conv2): Conv2d(192, 48, kernel_size=(3, 3), stride=(1, 1), padding=(1, 1), bias=False)\n",
              "      )\n",
              "      (denselayer35): _DenseLayer(\n",
              "        (norm1): BatchNorm2d(2016, eps=1e-05, momentum=0.1, affine=True, track_running_stats=True)\n",
              "        (relu1): ReLU(inplace=True)\n",
              "        (conv1): Conv2d(2016, 192, kernel_size=(1, 1), stride=(1, 1), bias=False)\n",
              "        (norm2): BatchNorm2d(192, eps=1e-05, momentum=0.1, affine=True, track_running_stats=True)\n",
              "        (relu2): ReLU(inplace=True)\n",
              "        (conv2): Conv2d(192, 48, kernel_size=(3, 3), stride=(1, 1), padding=(1, 1), bias=False)\n",
              "      )\n",
              "      (denselayer36): _DenseLayer(\n",
              "        (norm1): BatchNorm2d(2064, eps=1e-05, momentum=0.1, affine=True, track_running_stats=True)\n",
              "        (relu1): ReLU(inplace=True)\n",
              "        (conv1): Conv2d(2064, 192, kernel_size=(1, 1), stride=(1, 1), bias=False)\n",
              "        (norm2): BatchNorm2d(192, eps=1e-05, momentum=0.1, affine=True, track_running_stats=True)\n",
              "        (relu2): ReLU(inplace=True)\n",
              "        (conv2): Conv2d(192, 48, kernel_size=(3, 3), stride=(1, 1), padding=(1, 1), bias=False)\n",
              "      )\n",
              "    )\n",
              "    (transition3): _Transition(\n",
              "      (norm): BatchNorm2d(2112, eps=1e-05, momentum=0.1, affine=True, track_running_stats=True)\n",
              "      (relu): ReLU(inplace=True)\n",
              "      (conv): Conv2d(2112, 1056, kernel_size=(1, 1), stride=(1, 1), bias=False)\n",
              "      (pool): AvgPool2d(kernel_size=2, stride=2, padding=0)\n",
              "    )\n",
              "    (denseblock4): _DenseBlock(\n",
              "      (denselayer1): _DenseLayer(\n",
              "        (norm1): BatchNorm2d(1056, eps=1e-05, momentum=0.1, affine=True, track_running_stats=True)\n",
              "        (relu1): ReLU(inplace=True)\n",
              "        (conv1): Conv2d(1056, 192, kernel_size=(1, 1), stride=(1, 1), bias=False)\n",
              "        (norm2): BatchNorm2d(192, eps=1e-05, momentum=0.1, affine=True, track_running_stats=True)\n",
              "        (relu2): ReLU(inplace=True)\n",
              "        (conv2): Conv2d(192, 48, kernel_size=(3, 3), stride=(1, 1), padding=(1, 1), bias=False)\n",
              "      )\n",
              "      (denselayer2): _DenseLayer(\n",
              "        (norm1): BatchNorm2d(1104, eps=1e-05, momentum=0.1, affine=True, track_running_stats=True)\n",
              "        (relu1): ReLU(inplace=True)\n",
              "        (conv1): Conv2d(1104, 192, kernel_size=(1, 1), stride=(1, 1), bias=False)\n",
              "        (norm2): BatchNorm2d(192, eps=1e-05, momentum=0.1, affine=True, track_running_stats=True)\n",
              "        (relu2): ReLU(inplace=True)\n",
              "        (conv2): Conv2d(192, 48, kernel_size=(3, 3), stride=(1, 1), padding=(1, 1), bias=False)\n",
              "      )\n",
              "      (denselayer3): _DenseLayer(\n",
              "        (norm1): BatchNorm2d(1152, eps=1e-05, momentum=0.1, affine=True, track_running_stats=True)\n",
              "        (relu1): ReLU(inplace=True)\n",
              "        (conv1): Conv2d(1152, 192, kernel_size=(1, 1), stride=(1, 1), bias=False)\n",
              "        (norm2): BatchNorm2d(192, eps=1e-05, momentum=0.1, affine=True, track_running_stats=True)\n",
              "        (relu2): ReLU(inplace=True)\n",
              "        (conv2): Conv2d(192, 48, kernel_size=(3, 3), stride=(1, 1), padding=(1, 1), bias=False)\n",
              "      )\n",
              "      (denselayer4): _DenseLayer(\n",
              "        (norm1): BatchNorm2d(1200, eps=1e-05, momentum=0.1, affine=True, track_running_stats=True)\n",
              "        (relu1): ReLU(inplace=True)\n",
              "        (conv1): Conv2d(1200, 192, kernel_size=(1, 1), stride=(1, 1), bias=False)\n",
              "        (norm2): BatchNorm2d(192, eps=1e-05, momentum=0.1, affine=True, track_running_stats=True)\n",
              "        (relu2): ReLU(inplace=True)\n",
              "        (conv2): Conv2d(192, 48, kernel_size=(3, 3), stride=(1, 1), padding=(1, 1), bias=False)\n",
              "      )\n",
              "      (denselayer5): _DenseLayer(\n",
              "        (norm1): BatchNorm2d(1248, eps=1e-05, momentum=0.1, affine=True, track_running_stats=True)\n",
              "        (relu1): ReLU(inplace=True)\n",
              "        (conv1): Conv2d(1248, 192, kernel_size=(1, 1), stride=(1, 1), bias=False)\n",
              "        (norm2): BatchNorm2d(192, eps=1e-05, momentum=0.1, affine=True, track_running_stats=True)\n",
              "        (relu2): ReLU(inplace=True)\n",
              "        (conv2): Conv2d(192, 48, kernel_size=(3, 3), stride=(1, 1), padding=(1, 1), bias=False)\n",
              "      )\n",
              "      (denselayer6): _DenseLayer(\n",
              "        (norm1): BatchNorm2d(1296, eps=1e-05, momentum=0.1, affine=True, track_running_stats=True)\n",
              "        (relu1): ReLU(inplace=True)\n",
              "        (conv1): Conv2d(1296, 192, kernel_size=(1, 1), stride=(1, 1), bias=False)\n",
              "        (norm2): BatchNorm2d(192, eps=1e-05, momentum=0.1, affine=True, track_running_stats=True)\n",
              "        (relu2): ReLU(inplace=True)\n",
              "        (conv2): Conv2d(192, 48, kernel_size=(3, 3), stride=(1, 1), padding=(1, 1), bias=False)\n",
              "      )\n",
              "      (denselayer7): _DenseLayer(\n",
              "        (norm1): BatchNorm2d(1344, eps=1e-05, momentum=0.1, affine=True, track_running_stats=True)\n",
              "        (relu1): ReLU(inplace=True)\n",
              "        (conv1): Conv2d(1344, 192, kernel_size=(1, 1), stride=(1, 1), bias=False)\n",
              "        (norm2): BatchNorm2d(192, eps=1e-05, momentum=0.1, affine=True, track_running_stats=True)\n",
              "        (relu2): ReLU(inplace=True)\n",
              "        (conv2): Conv2d(192, 48, kernel_size=(3, 3), stride=(1, 1), padding=(1, 1), bias=False)\n",
              "      )\n",
              "      (denselayer8): _DenseLayer(\n",
              "        (norm1): BatchNorm2d(1392, eps=1e-05, momentum=0.1, affine=True, track_running_stats=True)\n",
              "        (relu1): ReLU(inplace=True)\n",
              "        (conv1): Conv2d(1392, 192, kernel_size=(1, 1), stride=(1, 1), bias=False)\n",
              "        (norm2): BatchNorm2d(192, eps=1e-05, momentum=0.1, affine=True, track_running_stats=True)\n",
              "        (relu2): ReLU(inplace=True)\n",
              "        (conv2): Conv2d(192, 48, kernel_size=(3, 3), stride=(1, 1), padding=(1, 1), bias=False)\n",
              "      )\n",
              "      (denselayer9): _DenseLayer(\n",
              "        (norm1): BatchNorm2d(1440, eps=1e-05, momentum=0.1, affine=True, track_running_stats=True)\n",
              "        (relu1): ReLU(inplace=True)\n",
              "        (conv1): Conv2d(1440, 192, kernel_size=(1, 1), stride=(1, 1), bias=False)\n",
              "        (norm2): BatchNorm2d(192, eps=1e-05, momentum=0.1, affine=True, track_running_stats=True)\n",
              "        (relu2): ReLU(inplace=True)\n",
              "        (conv2): Conv2d(192, 48, kernel_size=(3, 3), stride=(1, 1), padding=(1, 1), bias=False)\n",
              "      )\n",
              "      (denselayer10): _DenseLayer(\n",
              "        (norm1): BatchNorm2d(1488, eps=1e-05, momentum=0.1, affine=True, track_running_stats=True)\n",
              "        (relu1): ReLU(inplace=True)\n",
              "        (conv1): Conv2d(1488, 192, kernel_size=(1, 1), stride=(1, 1), bias=False)\n",
              "        (norm2): BatchNorm2d(192, eps=1e-05, momentum=0.1, affine=True, track_running_stats=True)\n",
              "        (relu2): ReLU(inplace=True)\n",
              "        (conv2): Conv2d(192, 48, kernel_size=(3, 3), stride=(1, 1), padding=(1, 1), bias=False)\n",
              "      )\n",
              "      (denselayer11): _DenseLayer(\n",
              "        (norm1): BatchNorm2d(1536, eps=1e-05, momentum=0.1, affine=True, track_running_stats=True)\n",
              "        (relu1): ReLU(inplace=True)\n",
              "        (conv1): Conv2d(1536, 192, kernel_size=(1, 1), stride=(1, 1), bias=False)\n",
              "        (norm2): BatchNorm2d(192, eps=1e-05, momentum=0.1, affine=True, track_running_stats=True)\n",
              "        (relu2): ReLU(inplace=True)\n",
              "        (conv2): Conv2d(192, 48, kernel_size=(3, 3), stride=(1, 1), padding=(1, 1), bias=False)\n",
              "      )\n",
              "      (denselayer12): _DenseLayer(\n",
              "        (norm1): BatchNorm2d(1584, eps=1e-05, momentum=0.1, affine=True, track_running_stats=True)\n",
              "        (relu1): ReLU(inplace=True)\n",
              "        (conv1): Conv2d(1584, 192, kernel_size=(1, 1), stride=(1, 1), bias=False)\n",
              "        (norm2): BatchNorm2d(192, eps=1e-05, momentum=0.1, affine=True, track_running_stats=True)\n",
              "        (relu2): ReLU(inplace=True)\n",
              "        (conv2): Conv2d(192, 48, kernel_size=(3, 3), stride=(1, 1), padding=(1, 1), bias=False)\n",
              "      )\n",
              "      (denselayer13): _DenseLayer(\n",
              "        (norm1): BatchNorm2d(1632, eps=1e-05, momentum=0.1, affine=True, track_running_stats=True)\n",
              "        (relu1): ReLU(inplace=True)\n",
              "        (conv1): Conv2d(1632, 192, kernel_size=(1, 1), stride=(1, 1), bias=False)\n",
              "        (norm2): BatchNorm2d(192, eps=1e-05, momentum=0.1, affine=True, track_running_stats=True)\n",
              "        (relu2): ReLU(inplace=True)\n",
              "        (conv2): Conv2d(192, 48, kernel_size=(3, 3), stride=(1, 1), padding=(1, 1), bias=False)\n",
              "      )\n",
              "      (denselayer14): _DenseLayer(\n",
              "        (norm1): BatchNorm2d(1680, eps=1e-05, momentum=0.1, affine=True, track_running_stats=True)\n",
              "        (relu1): ReLU(inplace=True)\n",
              "        (conv1): Conv2d(1680, 192, kernel_size=(1, 1), stride=(1, 1), bias=False)\n",
              "        (norm2): BatchNorm2d(192, eps=1e-05, momentum=0.1, affine=True, track_running_stats=True)\n",
              "        (relu2): ReLU(inplace=True)\n",
              "        (conv2): Conv2d(192, 48, kernel_size=(3, 3), stride=(1, 1), padding=(1, 1), bias=False)\n",
              "      )\n",
              "      (denselayer15): _DenseLayer(\n",
              "        (norm1): BatchNorm2d(1728, eps=1e-05, momentum=0.1, affine=True, track_running_stats=True)\n",
              "        (relu1): ReLU(inplace=True)\n",
              "        (conv1): Conv2d(1728, 192, kernel_size=(1, 1), stride=(1, 1), bias=False)\n",
              "        (norm2): BatchNorm2d(192, eps=1e-05, momentum=0.1, affine=True, track_running_stats=True)\n",
              "        (relu2): ReLU(inplace=True)\n",
              "        (conv2): Conv2d(192, 48, kernel_size=(3, 3), stride=(1, 1), padding=(1, 1), bias=False)\n",
              "      )\n",
              "      (denselayer16): _DenseLayer(\n",
              "        (norm1): BatchNorm2d(1776, eps=1e-05, momentum=0.1, affine=True, track_running_stats=True)\n",
              "        (relu1): ReLU(inplace=True)\n",
              "        (conv1): Conv2d(1776, 192, kernel_size=(1, 1), stride=(1, 1), bias=False)\n",
              "        (norm2): BatchNorm2d(192, eps=1e-05, momentum=0.1, affine=True, track_running_stats=True)\n",
              "        (relu2): ReLU(inplace=True)\n",
              "        (conv2): Conv2d(192, 48, kernel_size=(3, 3), stride=(1, 1), padding=(1, 1), bias=False)\n",
              "      )\n",
              "      (denselayer17): _DenseLayer(\n",
              "        (norm1): BatchNorm2d(1824, eps=1e-05, momentum=0.1, affine=True, track_running_stats=True)\n",
              "        (relu1): ReLU(inplace=True)\n",
              "        (conv1): Conv2d(1824, 192, kernel_size=(1, 1), stride=(1, 1), bias=False)\n",
              "        (norm2): BatchNorm2d(192, eps=1e-05, momentum=0.1, affine=True, track_running_stats=True)\n",
              "        (relu2): ReLU(inplace=True)\n",
              "        (conv2): Conv2d(192, 48, kernel_size=(3, 3), stride=(1, 1), padding=(1, 1), bias=False)\n",
              "      )\n",
              "      (denselayer18): _DenseLayer(\n",
              "        (norm1): BatchNorm2d(1872, eps=1e-05, momentum=0.1, affine=True, track_running_stats=True)\n",
              "        (relu1): ReLU(inplace=True)\n",
              "        (conv1): Conv2d(1872, 192, kernel_size=(1, 1), stride=(1, 1), bias=False)\n",
              "        (norm2): BatchNorm2d(192, eps=1e-05, momentum=0.1, affine=True, track_running_stats=True)\n",
              "        (relu2): ReLU(inplace=True)\n",
              "        (conv2): Conv2d(192, 48, kernel_size=(3, 3), stride=(1, 1), padding=(1, 1), bias=False)\n",
              "      )\n",
              "      (denselayer19): _DenseLayer(\n",
              "        (norm1): BatchNorm2d(1920, eps=1e-05, momentum=0.1, affine=True, track_running_stats=True)\n",
              "        (relu1): ReLU(inplace=True)\n",
              "        (conv1): Conv2d(1920, 192, kernel_size=(1, 1), stride=(1, 1), bias=False)\n",
              "        (norm2): BatchNorm2d(192, eps=1e-05, momentum=0.1, affine=True, track_running_stats=True)\n",
              "        (relu2): ReLU(inplace=True)\n",
              "        (conv2): Conv2d(192, 48, kernel_size=(3, 3), stride=(1, 1), padding=(1, 1), bias=False)\n",
              "      )\n",
              "      (denselayer20): _DenseLayer(\n",
              "        (norm1): BatchNorm2d(1968, eps=1e-05, momentum=0.1, affine=True, track_running_stats=True)\n",
              "        (relu1): ReLU(inplace=True)\n",
              "        (conv1): Conv2d(1968, 192, kernel_size=(1, 1), stride=(1, 1), bias=False)\n",
              "        (norm2): BatchNorm2d(192, eps=1e-05, momentum=0.1, affine=True, track_running_stats=True)\n",
              "        (relu2): ReLU(inplace=True)\n",
              "        (conv2): Conv2d(192, 48, kernel_size=(3, 3), stride=(1, 1), padding=(1, 1), bias=False)\n",
              "      )\n",
              "      (denselayer21): _DenseLayer(\n",
              "        (norm1): BatchNorm2d(2016, eps=1e-05, momentum=0.1, affine=True, track_running_stats=True)\n",
              "        (relu1): ReLU(inplace=True)\n",
              "        (conv1): Conv2d(2016, 192, kernel_size=(1, 1), stride=(1, 1), bias=False)\n",
              "        (norm2): BatchNorm2d(192, eps=1e-05, momentum=0.1, affine=True, track_running_stats=True)\n",
              "        (relu2): ReLU(inplace=True)\n",
              "        (conv2): Conv2d(192, 48, kernel_size=(3, 3), stride=(1, 1), padding=(1, 1), bias=False)\n",
              "      )\n",
              "      (denselayer22): _DenseLayer(\n",
              "        (norm1): BatchNorm2d(2064, eps=1e-05, momentum=0.1, affine=True, track_running_stats=True)\n",
              "        (relu1): ReLU(inplace=True)\n",
              "        (conv1): Conv2d(2064, 192, kernel_size=(1, 1), stride=(1, 1), bias=False)\n",
              "        (norm2): BatchNorm2d(192, eps=1e-05, momentum=0.1, affine=True, track_running_stats=True)\n",
              "        (relu2): ReLU(inplace=True)\n",
              "        (conv2): Conv2d(192, 48, kernel_size=(3, 3), stride=(1, 1), padding=(1, 1), bias=False)\n",
              "      )\n",
              "      (denselayer23): _DenseLayer(\n",
              "        (norm1): BatchNorm2d(2112, eps=1e-05, momentum=0.1, affine=True, track_running_stats=True)\n",
              "        (relu1): ReLU(inplace=True)\n",
              "        (conv1): Conv2d(2112, 192, kernel_size=(1, 1), stride=(1, 1), bias=False)\n",
              "        (norm2): BatchNorm2d(192, eps=1e-05, momentum=0.1, affine=True, track_running_stats=True)\n",
              "        (relu2): ReLU(inplace=True)\n",
              "        (conv2): Conv2d(192, 48, kernel_size=(3, 3), stride=(1, 1), padding=(1, 1), bias=False)\n",
              "      )\n",
              "      (denselayer24): _DenseLayer(\n",
              "        (norm1): BatchNorm2d(2160, eps=1e-05, momentum=0.1, affine=True, track_running_stats=True)\n",
              "        (relu1): ReLU(inplace=True)\n",
              "        (conv1): Conv2d(2160, 192, kernel_size=(1, 1), stride=(1, 1), bias=False)\n",
              "        (norm2): BatchNorm2d(192, eps=1e-05, momentum=0.1, affine=True, track_running_stats=True)\n",
              "        (relu2): ReLU(inplace=True)\n",
              "        (conv2): Conv2d(192, 48, kernel_size=(3, 3), stride=(1, 1), padding=(1, 1), bias=False)\n",
              "      )\n",
              "    )\n",
              "    (norm5): BatchNorm2d(2208, eps=1e-05, momentum=0.1, affine=True, track_running_stats=True)\n",
              "  )\n",
              "  (classifier): Linear(in_features=2208, out_features=1000, bias=True)\n",
              ")"
            ]
          },
          "metadata": {
            "tags": []
          },
          "execution_count": 8
        }
      ]
    },
    {
      "cell_type": "code",
      "metadata": {
        "id": "DoQRTAcm0OMd"
      },
      "source": [
        "class Dense_CSRNet(nn.Module):\n",
        "    def __init__(self, load_weights=False):\n",
        "        super(Dense_CSRNet, self).__init__()\n",
        "        densenet = models.densenet161()\n",
        "        in_ch = 2208 # input channels to backend\n",
        "        self.backend_feat  = [in_ch,24,12]\n",
        "        self.backend = make_layers(self.backend_feat,in_channels = in_ch,dilation = True)\n",
        "        self.output_layer = nn.Conv2d(12, 1, kernel_size=1)\n",
        "        self.frontend = densenet.features\n",
        "        for param in self.frontend.parameters():\n",
        "          param.requires_grad = False\n",
        "        for param in self.backend.parameters():\n",
        "          param.requires_grad = True\n",
        "        for param in self.output_layer.parameters():\n",
        "          param.requires_grad = True\n",
        "    def forward(self,x):\n",
        "        x = self.frontend(x)\n",
        "        x = self.backend(x)\n",
        "        x = self.output_layer(x)\n",
        "        return torch.abs(x)\n",
        "    def _initialize_weights(self):\n",
        "        for m in self.modules():\n",
        "            if isinstance(m, nn.Conv2d):\n",
        "                nn.init.normal_(m.weight, 0.01)\n",
        "                if m.bias is not None:\n",
        "                    nn.init.constant_(m.bias, 0)\n",
        "            elif isinstance(m, nn.BatchNorm2d):\n",
        "                nn.init.constant_(m.weight, 1)\n",
        "                nn.init.constant_(m.bias, 0)\n",
        "            elif isinstance(m, nn.Linear):\n",
        "                nn.init.normal_(m.weight, 0, 0.01)\n",
        "                nn.init.constant_(m.bias, 0)"
      ],
      "execution_count": null,
      "outputs": []
    },
    {
      "cell_type": "markdown",
      "metadata": {
        "id": "y87k_epTgjER"
      },
      "source": [
        "## CSRNet - ShuffleNet"
      ]
    },
    {
      "cell_type": "code",
      "metadata": {
        "id": "Ldidi2ITgnVR"
      },
      "source": [
        "shufflenet = models.shufflenet_v2_x1_0()\n",
        "shufflenet"
      ],
      "execution_count": null,
      "outputs": []
    },
    {
      "cell_type": "code",
      "metadata": {
        "id": "lmxFeES3hH9D"
      },
      "source": [
        "class Shuffle_CSRNet(nn.Module):\n",
        "    def __init__(self, load_weights=False):\n",
        "        super(Shuffle_CSRNet, self).__init__()\n",
        "        shufflenet = models.shufflenet_v2_x1_0()\n",
        "        in_ch = 116 # input channels to backend\n",
        "        self.backend_feat  = [in_ch,29,29]\n",
        "        self.backend = make_layers(self.backend_feat,in_channels = in_ch,dilation = True)\n",
        "        self.output_layer = nn.Conv2d(29, 1, kernel_size=1) # 1X1 convolution\n",
        "        self.frontend1 = shufflenet.conv1\n",
        "        self.frontend2 = shufflenet.maxpool\n",
        "        self.frontend3 = shufflenet.stage2\n",
        "        for param in self.frontend1.parameters():\n",
        "          param.requires_grad = False\n",
        "        for param in self.frontend2.parameters():\n",
        "          param.requires_grad = False\n",
        "        for param in self.frontend3.parameters():\n",
        "          param.requires_grad = False\n",
        "        for param in self.backend.parameters():\n",
        "          param.requires_grad = True\n",
        "        for param in self.output_layer.parameters():\n",
        "          param.requires_grad = True\n",
        "    def forward(self,x):\n",
        "        x = self.frontend1(x)\n",
        "        x = self.frontend2(x)\n",
        "        x = self.frontend3(x)\n",
        "        x = self.backend(x)\n",
        "        x = self.output_layer(x)\n",
        "        return x\n",
        "    def _initialize_weights(self):\n",
        "        for m in self.modules():\n",
        "            if isinstance(m, nn.Conv2d):\n",
        "                nn.init.normal_(m.weight, 0.01)\n",
        "                if m.bias is not None:\n",
        "                    nn.init.constant_(m.bias, 0)\n",
        "            elif isinstance(m, nn.BatchNorm2d):\n",
        "                nn.init.constant_(m.weight, 1)\n",
        "                nn.init.constant_(m.bias, 0)\n",
        "            elif isinstance(m, nn.Linear):\n",
        "                nn.init.normal_(m.weight, 0, 0.01)\n",
        "                nn.init.constant_(m.bias, 0)"
      ],
      "execution_count": null,
      "outputs": []
    },
    {
      "cell_type": "markdown",
      "metadata": {
        "id": "cUlUm-Hm9Mb5"
      },
      "source": [
        "## Alexnet"
      ]
    },
    {
      "cell_type": "code",
      "metadata": {
        "id": "71YSpWOLFBJ7"
      },
      "source": [
        "class AlexNet(nn.Module):\n",
        "\n",
        "  def __init__(self, num_classes=10):\n",
        "    super(AlexNet, self).__init__()\n",
        "    self.features = nn.Sequential(\n",
        "        nn.Conv2d(3, 64, kernel_size=(11, 11), stride=(1, 1), padding=(5, 5)), # (N, 3, 227, 227) -> (N, 64, 227, 227)\n",
        "        nn.ReLU(inplace=True),\n",
        "        nn.MaxPool2d(kernel_size=3, stride=2, padding=1, dilation=1, ceil_mode=False), # (N, 64, 56, 56) -> (N, 64, 27, 27)\n",
        "        \n",
        "        nn.Conv2d(64, 192, kernel_size=(5, 5), stride=(1, 1), padding=(2, 2)), # (N, 64, 27, 27) -> (N, 192, 27, 27)\n",
        "        nn.ReLU(inplace=True), \n",
        "        nn.MaxPool2d(kernel_size=3, stride=1, padding=1, dilation=1, ceil_mode=False), # (N, 192, 27, 27) -> (N, 192, 13, 13)\n",
        "\n",
        "        nn.Conv2d(192, 384, kernel_size=(3, 3), stride=(1, 1), padding=(1, 1)), # (N, 192, 13, 13) -> (N, 384, 13, 13)\n",
        "        nn.ReLU(inplace=True), \n",
        "        nn.Conv2d(384, 256, kernel_size=(3, 3), stride=(1, 1), padding=(1, 1)), # (N, 384, 13, 13) -> (N, 256, 13, 13)\n",
        "        nn.ReLU(inplace=True),\n",
        "        nn.Conv2d(256, 256, kernel_size=(3, 3), stride=(1, 1), padding=(1, 1)), # (N, 256, 13, 13) -> (N, 256, 13, 13)\n",
        "        nn.ReLU(inplace=True),\n",
        "        nn.MaxPool2d(kernel_size=3, stride=1, padding=1, dilation=1, ceil_mode=False), # (N, 256, 13, 13) -> (N, 256, 6, 6) \n",
        "        nn.Conv2d(256,1, kernel_size=(3, 3), stride=(1, 1), padding=(1, 1)), # (N, 256, 13, 13) -> (N, 256, 13, 13)\n",
        "        nn.ReLU(inplace=True),\n",
        "    )\n",
        "\n",
        "  def forward(self, x):\n",
        "    x = self.features(x)\n",
        "    return x"
      ],
      "execution_count": null,
      "outputs": []
    },
    {
      "cell_type": "markdown",
      "metadata": {
        "id": "ZxyQzPwJ9OaT"
      },
      "source": [
        "## LeNet"
      ]
    },
    {
      "cell_type": "code",
      "metadata": {
        "id": "XDPqSNTH4esb"
      },
      "source": [
        "class LeNet(nn.Module):\n",
        "    def __init__(self): \n",
        "        super(LeNet, self).__init__()\n",
        "        self.cnn_model = nn.Sequential(\n",
        "            nn.Conv2d(3, 6, kernel_size=(5,5), padding=2), # (3,m,n) -> (6,m,n)\n",
        "            nn.Sigmoid(),\n",
        "            nn.AvgPool2d(3, padding = 1, stride=1), # (6,m,n) -> (6,m,n)\n",
        "            nn.Conv2d(6, 16, kernel_size=(5,5), padding=2), # (6,m,n) -> (16,m,n)\n",
        "            nn.Sigmoid(),\n",
        "            nn.AvgPool2d(3, padding = 1, stride=1), # (13,m,n) -> (16,m,n)\n",
        "            nn.Conv2d(16, 1, kernel_size=(1,1), padding=0), # (16,m,n) -> (1,m,n)\n",
        "            nn.ReLU(),\n",
        "        )\n",
        "        \n",
        "    def forward(self, x):\n",
        "        x = self.cnn_model(x)\n",
        "        return x"
      ],
      "execution_count": null,
      "outputs": []
    },
    {
      "cell_type": "markdown",
      "metadata": {
        "id": "FolfbakMR2g5"
      },
      "source": [
        "# Porting to GPU"
      ]
    },
    {
      "cell_type": "code",
      "metadata": {
        "colab": {
          "base_uri": "https://localhost:8080/",
          "height": 124,
          "referenced_widgets": [
            "163e6b398e2a464a84e680f47ad19cc4",
            "7f7ccf330c5947b6af423feb97d11bc0",
            "52aff39ddf714acdb94e7856a97ff3d1",
            "6db6cac79bc3463c8aca5b6ea9c5299e",
            "65bf7cc6ea2e4b689c37402b6c5e6269",
            "07ddd8b7669945a29ec76c203fe9ce49",
            "76d90818a7b94d36af1419561e62f70d",
            "be9427d48a1a4f0babb0e215576adc80"
          ]
        },
        "id": "p4w3QO2Y4s4_",
        "outputId": "8d8d8f8f-2c1a-4d8e-b9fb-34c0b4214645"
      },
      "source": [
        "device = torch.device(\"cuda:0\" if torch.cuda.is_available() else \"cpu\")\n",
        "print(device)\n",
        "#model = LeNet().to(device)\n",
        "#model = AlexNet().to(device)\n",
        "model = VGG_CSRNet().to(device) \n",
        "#model = Squeeze_CSRNet().to(device)\n",
        "#model = Mobile_CSRNet_V1().to(device) # pb: negative counts\n",
        "#model = Shuffle_CSRNet().to(device) \n",
        "#model = Mobile_CSRNet_V2().to(device)  # pb: DEAD NEURONS\n",
        "#model = Dense_CSRNet().to(device) \n",
        "loss_fn = nn.MSELoss() \n",
        "#loss_fn = nn.L1Loss() # mae loss\n",
        "opt = optim.Adam(model.parameters())"
      ],
      "execution_count": 9,
      "outputs": [
        {
          "output_type": "stream",
          "text": [
            "cuda:0\n"
          ],
          "name": "stdout"
        },
        {
          "output_type": "stream",
          "text": [
            "Downloading: \"https://download.pytorch.org/models/vgg16_bn-6c64b313.pth\" to /root/.cache/torch/hub/checkpoints/vgg16_bn-6c64b313.pth\n"
          ],
          "name": "stderr"
        },
        {
          "output_type": "display_data",
          "data": {
            "application/vnd.jupyter.widget-view+json": {
              "model_id": "163e6b398e2a464a84e680f47ad19cc4",
              "version_minor": 0,
              "version_major": 2
            },
            "text/plain": [
              "HBox(children=(FloatProgress(value=0.0, max=553507836.0), HTML(value='')))"
            ]
          },
          "metadata": {
            "tags": []
          }
        },
        {
          "output_type": "stream",
          "text": [
            "\n"
          ],
          "name": "stdout"
        }
      ]
    },
    {
      "cell_type": "markdown",
      "metadata": {
        "id": "Z_tekGPrR7EK"
      },
      "source": [
        "# Training"
      ]
    },
    {
      "cell_type": "code",
      "metadata": {
        "id": "S7jURckGeJfT"
      },
      "source": [
        "save_immediately = True\n",
        "load_prev_model = False # True if want to load previously trained model and want to retrain for few more epochs"
      ],
      "execution_count": 10,
      "outputs": []
    },
    {
      "cell_type": "code",
      "metadata": {
        "id": "EFwM5bSn4yZX"
      },
      "source": [
        "#model = CSRNet()\n",
        "#if(load_prev_model):  \n",
        "#  model.load_state_dict(torch.load(\"/content/CSRNet.txt\")) \n",
        "#model = model.to(device)\n",
        "  #model.eval()\n",
        "trainloader = torch.utils.data.DataLoader(train_paths, batch_size=1, shuffle=True)\n",
        "valloader = torch.utils.data.DataLoader(val_paths, batch_size=1, shuffle=True)\n",
        "max_epochs = 100\n",
        "\n",
        "train_loss = []\n",
        "val_loss = []\n",
        "\n",
        "for epoch in range(max_epochs):\n",
        "  tic = time.time()\n",
        "  tmp = []\n",
        "  \n",
        "  for i, data in enumerate(trainloader, 0):\n",
        "    inputt = get_input(data[0])\n",
        "    inputt = np.transpose(inputt, (2,0,1))\n",
        "    inputt = inputt.reshape(1,inputt.shape[0],inputt.shape[1],inputt.shape[2])\n",
        "    inputt = torch.tensor(inputt).float()\n",
        "    ground_truth = torch.tensor(get_output(data[0].replace('.jpg','.h5').replace('images','ground')) )\n",
        "    inputt, ground_truth = inputt.to(device), ground_truth.to(device)\n",
        "    opt.zero_grad()\n",
        "    model_output = model(inputt) # <-\n",
        "    loss = loss_fn(torch.sum(model_output), torch.sum(ground_truth))\n",
        "    loss.backward()\n",
        "    opt.step()\n",
        "    tmp.append(loss.item())\n",
        "  train_loss.append(np.mean(tmp))\n",
        "  tmp = []\n",
        "  \n",
        "  for i, data in enumerate(valloader, 0):\n",
        "    inputt = get_input(data[0])\n",
        "    inputt = np.transpose(inputt, (2,0,1))\n",
        "    inputt = inputt.reshape(1,inputt.shape[0],inputt.shape[1],inputt.shape[2])\n",
        "    inputt = torch.tensor(inputt).float()\n",
        "    ground_truth = torch.tensor(get_output(data[0].replace('.jpg','.h5').replace('images','ground')) )\n",
        "    inputt, ground_truth = inputt.to(device), ground_truth.to(device)\n",
        "    opt.zero_grad()\n",
        "    model_output = model(inputt) # <-\n",
        "    loss = loss_fn(torch.sum(model_output), torch.sum(ground_truth))\n",
        "    tmp.append(loss.item())\n",
        "  val_loss.append(np.mean(tmp))\n",
        "  print(train_loss[-1], val_loss[-1])\n",
        "  toc = time.time()\n",
        "  print(\"Time taken: {}\".format(np.round(toc-tic,3)))\n",
        "  print('Epoch: %d/%d' % (epoch+1, max_epochs))\n",
        "\n",
        "if(save_immediately):\n",
        "  torch.save(model.state_dict(),\"/content/CSRNet.txt\")"
      ],
      "execution_count": null,
      "outputs": []
    },
    {
      "cell_type": "markdown",
      "metadata": {
        "id": "g7uPCyH4R-bs"
      },
      "source": [
        "# Loss curve and Performance metrics"
      ]
    },
    {
      "cell_type": "code",
      "metadata": {
        "colab": {
          "base_uri": "https://localhost:8080/",
          "height": 295
        },
        "id": "WkqI2CWcEZXn",
        "outputId": "eee6c59b-7331-403b-81f3-123c77a4e757"
      },
      "source": [
        "plt.semilogy(train_loss,'r',label='Training Loss')\n",
        "plt.semilogy(val_loss,'b',label='Validation Loss')\n",
        "plt.xlabel(\"Epoch\")\n",
        "plt.ylabel(\"MSE Loss\")\n",
        "plt.legend()\n",
        "plt.title(\"Loss Curve\")\n",
        "plt.savefig(\"vgg_csrnet_v2_loss_curve_100A_MSE_Adam.png\",bbox_inches = \"tight\")"
      ],
      "execution_count": null,
      "outputs": [
        {
          "output_type": "display_data",
          "data": {
            "image/png": "[encoded data removed]",
            "text/plain": [
              "<Figure size 432x288 with 1 Axes>"
            ]
          },
          "metadata": {
            "tags": [],
            "needs_background": "light"
          }
        }
      ]
    },
    {
      "cell_type": "markdown",
      "metadata": {
        "id": "CHp0lO-SSDSO"
      },
      "source": [
        "# Saving trained model"
      ]
    },
    {
      "cell_type": "code",
      "metadata": {
        "colab": {
          "base_uri": "https://localhost:8080/"
        },
        "id": "U489bL1dF3s_",
        "outputId": "1d4c3f7d-10f9-484a-fcac-7aa300072b34"
      },
      "source": [
        "print(train_loss[-1], np.amin(train_loss))\n",
        "torch.save(model.state_dict(),\"/content/CSRNet.txt\")"
      ],
      "execution_count": null,
      "outputs": [
        {
          "output_type": "stream",
          "text": [
            "175196.81204685976 174401.7068522789\n"
          ],
          "name": "stdout"
        }
      ]
    },
    {
      "cell_type": "markdown",
      "metadata": {
        "id": "lyNuQ3OASF-1"
      },
      "source": [
        "# Sample - Misc"
      ]
    },
    {
      "cell_type": "code",
      "metadata": {
        "id": "YtecinCfG4Q9"
      },
      "source": [
        "inputt = get_input(img_paths[0])\n",
        "inputt = np.transpose(inputt, (2,0,1))\n",
        "inputt = inputt.reshape(1,inputt.shape[0],inputt.shape[1],inputt.shape[2])\n",
        "inputt = torch.tensor(inputt).float()\n",
        "ground_truth = torch.tensor(get_output(img_paths[0].replace('.jpg','.h5').replace('images','ground')))\n",
        "inputt, ground_truth = inputt.to(device), ground_truth.to(device)\n",
        "model_output = model(inputt)\n",
        "model_output = model_output.to('cpu').detach().numpy()\n",
        "ground_truth = ground_truth.to('cpu').numpy()"
      ],
      "execution_count": null,
      "outputs": []
    },
    {
      "cell_type": "code",
      "metadata": {
        "colab": {
          "base_uri": "https://localhost:8080/"
        },
        "id": "a_vYjlZ_rv5N",
        "outputId": "c1812bc8-f956-4e62-8c9b-a58acd71e642"
      },
      "source": [
        "np.sum(model_output[0][0]), np.sum(ground_truth)"
      ],
      "execution_count": null,
      "outputs": [
        {
          "output_type": "execute_result",
          "data": {
            "text/plain": [
              "(626.13464, 864.5715)"
            ]
          },
          "metadata": {
            "tags": []
          },
          "execution_count": 15
        }
      ]
    },
    {
      "cell_type": "code",
      "metadata": {
        "colab": {
          "base_uri": "https://localhost:8080/"
        },
        "id": "Br8AahJxfeoy",
        "outputId": "e9e69ddd-baf8-4dc7-8ee0-f65cd57c05e9"
      },
      "source": [
        "np.amin(model_output[0][0])"
      ],
      "execution_count": null,
      "outputs": [
        {
          "output_type": "execute_result",
          "data": {
            "text/plain": [
              "0.28151828"
            ]
          },
          "metadata": {
            "tags": []
          },
          "execution_count": 16
        }
      ]
    },
    {
      "cell_type": "code",
      "metadata": {
        "colab": {
          "base_uri": "https://localhost:8080/",
          "height": 266
        },
        "id": "V4VDlwmyK8lw",
        "outputId": "1adb3802-da51-4b9b-8b92-cd4ad846e5f9"
      },
      "source": [
        "plt.imshow(model_output[0][0])\n",
        "plt.colorbar()"
      ],
      "execution_count": null,
      "outputs": [
        {
          "output_type": "execute_result",
          "data": {
            "text/plain": [
              "<matplotlib.colorbar.Colorbar at 0x7f314e7d9630>"
            ]
          },
          "metadata": {
            "tags": []
          },
          "execution_count": 17
        },
        {
          "output_type": "display_data",
          "data": {
            "image/png": "[encoded data removed]",
            "text/plain": [
              "<Figure size 432x288 with 2 Axes>"
            ]
          },
          "metadata": {
            "tags": [],
            "needs_background": "light"
          }
        }
      ]
    },
    {
      "cell_type": "code",
      "metadata": {
        "colab": {
          "base_uri": "https://localhost:8080/",
          "height": 273
        },
        "id": "12J-Sl4RHb-R",
        "outputId": "a6d24978-24ab-445d-e734-2a5d9791d0f8"
      },
      "source": [
        "plt.imshow(ground_truth)\n",
        "plt.colorbar()"
      ],
      "execution_count": null,
      "outputs": [
        {
          "output_type": "execute_result",
          "data": {
            "text/plain": [
              "<matplotlib.colorbar.Colorbar at 0x7f747abd6320>"
            ]
          },
          "metadata": {
            "tags": []
          },
          "execution_count": 225
        },
        {
          "output_type": "display_data",
          "data": {
            "image/png": "[encoded data removed]",
            "text/plain": [
              "<Figure size 432x288 with 2 Axes>"
            ]
          },
          "metadata": {
            "tags": [],
            "needs_background": "light"
          }
        }
      ]
    },
    {
      "cell_type": "markdown",
      "metadata": {
        "id": "cOwSM9U0SOcD"
      },
      "source": [
        "# Saving Model outputs to .npy files"
      ]
    },
    {
      "cell_type": "code",
      "metadata": {
        "id": "OmY1m_6GSN4Y"
      },
      "source": [
        "if(not os.path.isdir(\"/content/model_density_maps/\")):\n",
        "  os.mkdir(\"/content/model_density_maps/\")\n",
        "  model_hmap_paths = \"/content/model_density_maps/\"\n",
        "model_hmap_sum = []\n",
        "gt_sum = []\n",
        "for i, data in enumerate(img_paths, 0):\n",
        "  inputt = get_input(data)\n",
        "  inputt = np.transpose(inputt, (2,0,1))\n",
        "  inputt = inputt.reshape(1,inputt.shape[0],inputt.shape[1],inputt.shape[2])\n",
        "  inputt = torch.tensor(inputt).float()\n",
        "  inputt = inputt.to(device)\n",
        "  gt_sum.append([data,float(np.sum(get_output(data.replace('.jpg','.h5').replace('images','ground'))))])\n",
        "  model_output = model(inputt)\n",
        "  model_output = model_output.to('cpu').detach().numpy()\n",
        "  model_hmap_sum.append([data,float(np.sum(model_output))])\n",
        "  f_name = data.split('/')[-1]\n",
        "  f_name = f_name.split('.')\n",
        "  f_name = f_name[0]+'_model_density_map.npy'\n",
        "  np.save(\"/content/model_density_maps/{}\".format(f_name), model_output)\n",
        "with open('/content/model_density_maps/model_hmap_sum.json', 'w') as f:\n",
        "  json.dump(model_hmap_sum, f)\n",
        "with open('/content/model_density_maps/gt_sum.json', 'w') as f:\n",
        "  json.dump(gt_sum, f)"
      ],
      "execution_count": null,
      "outputs": []
    },
    {
      "cell_type": "code",
      "metadata": {
        "colab": {
          "base_uri": "https://localhost:8080/",
          "height": 1000
        },
        "id": "pqo1ORwAVGU2",
        "outputId": "9c604ee4-6c03-4996-89b0-a2e3189979bb"
      },
      "source": [
        "!zip -r /content/shuffle_csrnet_dmap.zip /content/model_density_maps\n",
        "from google.colab import files\n",
        "files.download(\"/content/shuffle_csrnet_dmap.zip\")"
      ],
      "execution_count": null,
      "outputs": [
        {
          "output_type": "stream",
          "text": [
            "  adding: content/model_density_maps/ (stored 0%)\n",
            "  adding: content/model_density_maps/IMG_289_model_density_map.npy (deflated 95%)\n",
            "  adding: content/model_density_maps/IMG_245_model_density_map.npy (deflated 95%)\n",
            "  adding: content/model_density_maps/IMG_202_model_density_map.npy (deflated 93%)\n",
            "  adding: content/model_density_maps/IMG_30_model_density_map.npy (deflated 92%)\n",
            "  adding: content/model_density_maps/IMG_247_model_density_map.npy (deflated 95%)\n",
            "  adding: content/model_density_maps/IMG_186_model_density_map.npy (deflated 82%)\n",
            "  adding: content/model_density_maps/model_hmap_sum.json (deflated 88%)\n",
            "  adding: content/model_density_maps/IMG_44_model_density_map.npy (deflated 96%)\n",
            "  adding: content/model_density_maps/IMG_269_model_density_map.npy (deflated 88%)\n",
            "  adding: content/model_density_maps/IMG_55_model_density_map.npy (deflated 93%)\n",
            "  adding: content/model_density_maps/IMG_244_model_density_map.npy (deflated 87%)\n",
            "  adding: content/model_density_maps/IMG_39_model_density_map.npy (deflated 96%)\n",
            "  adding: content/model_density_maps/IMG_32_model_density_map.npy (deflated 96%)\n",
            "  adding: content/model_density_maps/IMG_174_model_density_map.npy (deflated 95%)\n",
            "  adding: content/model_density_maps/IMG_209_model_density_map.npy (deflated 93%)\n",
            "  adding: content/model_density_maps/IMG_160_model_density_map.npy (deflated 93%)\n",
            "  adding: content/model_density_maps/IMG_89_model_density_map.npy (deflated 87%)\n",
            "  adding: content/model_density_maps/IMG_285_model_density_map.npy (deflated 96%)\n",
            "  adding: content/model_density_maps/IMG_62_model_density_map.npy (deflated 79%)\n",
            "  adding: content/model_density_maps/IMG_137_model_density_map.npy (deflated 88%)\n",
            "  adding: content/model_density_maps/IMG_219_model_density_map.npy (deflated 71%)\n",
            "  adding: content/model_density_maps/IMG_195_model_density_map.npy (deflated 95%)\n",
            "  adding: content/model_density_maps/IMG_291_model_density_map.npy (deflated 96%)\n",
            "  adding: content/model_density_maps/IMG_79_model_density_map.npy (deflated 92%)\n",
            "  adding: content/model_density_maps/IMG_48_model_density_map.npy (deflated 83%)\n",
            "  adding: content/model_density_maps/IMG_107_model_density_map.npy (deflated 94%)\n",
            "  adding: content/model_density_maps/IMG_81_model_density_map.npy (deflated 70%)\n",
            "  adding: content/model_density_maps/IMG_164_model_density_map.npy (deflated 84%)\n",
            "  adding: content/model_density_maps/IMG_210_model_density_map.npy (deflated 95%)\n",
            "  adding: content/model_density_maps/IMG_105_model_density_map.npy (deflated 96%)\n",
            "  adding: content/model_density_maps/IMG_282_model_density_map.npy (deflated 95%)\n",
            "  adding: content/model_density_maps/IMG_42_model_density_map.npy (deflated 96%)\n",
            "  adding: content/model_density_maps/IMG_118_model_density_map.npy (deflated 88%)\n",
            "  adding: content/model_density_maps/IMG_220_model_density_map.npy (deflated 90%)\n",
            "  adding: content/model_density_maps/IMG_27_model_density_map.npy (deflated 90%)\n",
            "  adding: content/model_density_maps/IMG_151_model_density_map.npy (deflated 82%)\n",
            "  adding: content/model_density_maps/IMG_183_model_density_map.npy (deflated 93%)\n",
            "  adding: content/model_density_maps/IMG_101_model_density_map.npy (deflated 94%)\n",
            "  adding: content/model_density_maps/IMG_225_model_density_map.npy (deflated 93%)\n",
            "  adding: content/model_density_maps/IMG_24_model_density_map.npy (deflated 94%)\n",
            "  adding: content/model_density_maps/IMG_166_model_density_map.npy (deflated 92%)\n",
            "  adding: content/model_density_maps/IMG_300_model_density_map.npy (deflated 96%)\n",
            "  adding: content/model_density_maps/IMG_23_model_density_map.npy (deflated 95%)\n",
            "  adding: content/model_density_maps/IMG_284_model_density_map.npy (deflated 93%)\n",
            "  adding: content/model_density_maps/IMG_218_model_density_map.npy (deflated 74%)\n",
            "  adding: content/model_density_maps/IMG_267_model_density_map.npy (deflated 87%)\n",
            "  adding: content/model_density_maps/IMG_124_model_density_map.npy (deflated 94%)\n",
            "  adding: content/model_density_maps/IMG_128_model_density_map.npy (deflated 87%)\n",
            "  adding: content/model_density_maps/IMG_133_model_density_map.npy (deflated 93%)\n",
            "  adding: content/model_density_maps/IMG_9_model_density_map.npy (deflated 92%)\n",
            "  adding: content/model_density_maps/IMG_34_model_density_map.npy (deflated 93%)\n",
            "  adding: content/model_density_maps/IMG_221_model_density_map.npy (deflated 94%)\n",
            "  adding: content/model_density_maps/IMG_252_model_density_map.npy (deflated 87%)\n",
            "  adding: content/model_density_maps/IMG_212_model_density_map.npy (deflated 94%)\n",
            "  adding: content/model_density_maps/IMG_122_model_density_map.npy (deflated 94%)\n",
            "  adding: content/model_density_maps/IMG_78_model_density_map.npy (deflated 97%)\n",
            "  adding: content/model_density_maps/IMG_214_model_density_map.npy (deflated 72%)\n",
            "  adding: content/model_density_maps/IMG_228_model_density_map.npy (deflated 86%)\n",
            "  adding: content/model_density_maps/IMG_144_model_density_map.npy (deflated 94%)\n",
            "  adding: content/model_density_maps/IMG_76_model_density_map.npy (deflated 88%)\n",
            "  adding: content/model_density_maps/IMG_68_model_density_map.npy (deflated 96%)\n",
            "  adding: content/model_density_maps/IMG_4_model_density_map.npy (deflated 96%)\n",
            "  adding: content/model_density_maps/IMG_253_model_density_map.npy (deflated 92%)\n",
            "  adding: content/model_density_maps/IMG_14_model_density_map.npy (deflated 95%)\n",
            "  adding: content/model_density_maps/IMG_28_model_density_map.npy (deflated 74%)\n",
            "  adding: content/model_density_maps/IMG_22_model_density_map.npy (deflated 93%)\n",
            "  adding: content/model_density_maps/IMG_273_model_density_map.npy (deflated 94%)\n",
            "  adding: content/model_density_maps/IMG_277_model_density_map.npy (deflated 96%)\n",
            "  adding: content/model_density_maps/IMG_175_model_density_map.npy (deflated 89%)\n",
            "  adding: content/model_density_maps/IMG_261_model_density_map.npy (deflated 81%)\n",
            "  adding: content/model_density_maps/IMG_129_model_density_map.npy (deflated 96%)\n",
            "  adding: content/model_density_maps/IMG_194_model_density_map.npy (deflated 94%)\n",
            "  adding: content/model_density_maps/IMG_233_model_density_map.npy (deflated 95%)\n",
            "  adding: content/model_density_maps/IMG_110_model_density_map.npy (deflated 95%)\n",
            "  adding: content/model_density_maps/IMG_260_model_density_map.npy (deflated 92%)\n",
            "  adding: content/model_density_maps/IMG_148_model_density_map.npy (deflated 94%)\n",
            "  adding: content/model_density_maps/IMG_94_model_density_map.npy (deflated 79%)\n",
            "  adding: content/model_density_maps/IMG_181_model_density_map.npy (deflated 92%)\n",
            "  adding: content/model_density_maps/IMG_211_model_density_map.npy (deflated 92%)\n",
            "  adding: content/model_density_maps/IMG_8_model_density_map.npy (deflated 91%)\n",
            "  adding: content/model_density_maps/IMG_170_model_density_map.npy (deflated 85%)\n",
            "  adding: content/model_density_maps/IMG_162_model_density_map.npy (deflated 92%)\n",
            "  adding: content/model_density_maps/IMG_77_model_density_map.npy (deflated 97%)\n",
            "  adding: content/model_density_maps/IMG_200_model_density_map.npy (deflated 94%)\n",
            "  adding: content/model_density_maps/IMG_26_model_density_map.npy (deflated 93%)\n",
            "  adding: content/model_density_maps/IMG_29_model_density_map.npy (deflated 86%)\n",
            "  adding: content/model_density_maps/IMG_249_model_density_map.npy (deflated 90%)\n",
            "  adding: content/model_density_maps/IMG_3_model_density_map.npy (deflated 95%)\n",
            "  adding: content/model_density_maps/IMG_153_model_density_map.npy (deflated 88%)\n",
            "  adding: content/model_density_maps/IMG_67_model_density_map.npy (deflated 96%)\n",
            "  adding: content/model_density_maps/IMG_63_model_density_map.npy (deflated 96%)\n",
            "  adding: content/model_density_maps/IMG_213_model_density_map.npy (deflated 96%)\n",
            "  adding: content/model_density_maps/IMG_232_model_density_map.npy (deflated 84%)\n",
            "  adding: content/model_density_maps/IMG_229_model_density_map.npy (deflated 79%)\n",
            "  adding: content/model_density_maps/IMG_264_model_density_map.npy (deflated 95%)\n",
            "  adding: content/model_density_maps/IMG_297_model_density_map.npy (deflated 93%)\n",
            "  adding: content/model_density_maps/IMG_31_model_density_map.npy (deflated 93%)\n",
            "  adding: content/model_density_maps/IMG_20_model_density_map.npy (deflated 95%)\n",
            "  adding: content/model_density_maps/IMG_259_model_density_map.npy (deflated 80%)\n",
            "  adding: content/model_density_maps/IMG_217_model_density_map.npy (deflated 80%)\n",
            "  adding: content/model_density_maps/IMG_143_model_density_map.npy (deflated 91%)\n",
            "  adding: content/model_density_maps/IMG_176_model_density_map.npy (deflated 81%)\n",
            "  adding: content/model_density_maps/IMG_293_model_density_map.npy (deflated 95%)\n",
            "  adding: content/model_density_maps/IMG_189_model_density_map.npy (deflated 75%)\n",
            "  adding: content/model_density_maps/IMG_242_model_density_map.npy (deflated 88%)\n",
            "  adding: content/model_density_maps/IMG_223_model_density_map.npy (deflated 90%)\n",
            "  adding: content/model_density_maps/IMG_12_model_density_map.npy (deflated 93%)\n",
            "  adding: content/model_density_maps/IMG_104_model_density_map.npy (deflated 84%)\n",
            "  adding: content/model_density_maps/IMG_69_model_density_map.npy (deflated 92%)\n",
            "  adding: content/model_density_maps/IMG_19_model_density_map.npy (deflated 89%)\n",
            "  adding: content/model_density_maps/IMG_127_model_density_map.npy (deflated 80%)\n",
            "  adding: content/model_density_maps/IMG_235_model_density_map.npy (deflated 96%)\n",
            "  adding: content/model_density_maps/IMG_116_model_density_map.npy (deflated 91%)\n",
            "  adding: content/model_density_maps/IMG_35_model_density_map.npy (deflated 92%)\n",
            "  adding: content/model_density_maps/IMG_149_model_density_map.npy (deflated 87%)\n",
            "  adding: content/model_density_maps/IMG_45_model_density_map.npy (deflated 90%)\n",
            "  adding: content/model_density_maps/IMG_16_model_density_map.npy (deflated 96%)\n",
            "  adding: content/model_density_maps/IMG_234_model_density_map.npy (deflated 94%)\n",
            "  adding: content/model_density_maps/IMG_182_model_density_map.npy (deflated 94%)\n",
            "  adding: content/model_density_maps/IMG_2_model_density_map.npy (deflated 92%)\n",
            "  adding: content/model_density_maps/IMG_258_model_density_map.npy (deflated 93%)\n",
            "  adding: content/model_density_maps/IMG_6_model_density_map.npy (deflated 96%)\n",
            "  adding: content/model_density_maps/IMG_203_model_density_map.npy (deflated 90%)\n",
            "  adding: content/model_density_maps/IMG_227_model_density_map.npy (deflated 91%)\n",
            "  adding: content/model_density_maps/IMG_271_model_density_map.npy (deflated 89%)\n",
            "  adding: content/model_density_maps/IMG_43_model_density_map.npy (deflated 96%)\n",
            "  adding: content/model_density_maps/IMG_119_model_density_map.npy (deflated 95%)\n",
            "  adding: content/model_density_maps/IMG_155_model_density_map.npy (deflated 84%)\n",
            "  adding: content/model_density_maps/IMG_296_model_density_map.npy (deflated 92%)\n",
            "  adding: content/model_density_maps/IMG_80_model_density_map.npy (deflated 89%)\n",
            "  adding: content/model_density_maps/IMG_21_model_density_map.npy (deflated 96%)\n",
            "  adding: content/model_density_maps/IMG_96_model_density_map.npy (deflated 92%)\n",
            "  adding: content/model_density_maps/IMG_131_model_density_map.npy (deflated 81%)\n",
            "  adding: content/model_density_maps/IMG_268_model_density_map.npy (deflated 85%)\n",
            "  adding: content/model_density_maps/IMG_75_model_density_map.npy (deflated 95%)\n",
            "  adding: content/model_density_maps/IMG_263_model_density_map.npy (deflated 85%)\n",
            "  adding: content/model_density_maps/IMG_295_model_density_map.npy (deflated 95%)\n",
            "  adding: content/model_density_maps/IMG_132_model_density_map.npy (deflated 94%)\n",
            "  adding: content/model_density_maps/IMG_256_model_density_map.npy (deflated 96%)\n",
            "  adding: content/model_density_maps/IMG_196_model_density_map.npy (deflated 94%)\n",
            "  adding: content/model_density_maps/IMG_98_model_density_map.npy (deflated 93%)\n",
            "  adding: content/model_density_maps/IMG_82_model_density_map.npy (deflated 96%)\n",
            "  adding: content/model_density_maps/IMG_274_model_density_map.npy (deflated 96%)\n",
            "  adding: content/model_density_maps/IMG_231_model_density_map.npy (deflated 95%)\n",
            "  adding: content/model_density_maps/IMG_11_model_density_map.npy (deflated 95%)\n",
            "  adding: content/model_density_maps/IMG_243_model_density_map.npy (deflated 94%)\n",
            "  adding: content/model_density_maps/IMG_250_model_density_map.npy (deflated 94%)\n",
            "  adding: content/model_density_maps/IMG_165_model_density_map.npy (deflated 85%)\n",
            "  adding: content/model_density_maps/IMG_136_model_density_map.npy (deflated 87%)\n",
            "  adding: content/model_density_maps/IMG_184_model_density_map.npy (deflated 89%)\n",
            "  adding: content/model_density_maps/IMG_7_model_density_map.npy (deflated 87%)\n",
            "  adding: content/model_density_maps/IMG_46_model_density_map.npy (deflated 93%)\n",
            "  adding: content/model_density_maps/IMG_204_model_density_map.npy (deflated 95%)\n",
            "  adding: content/model_density_maps/IMG_145_model_density_map.npy (deflated 94%)\n",
            "  adding: content/model_density_maps/IMG_154_model_density_map.npy (deflated 90%)\n",
            "  adding: content/model_density_maps/IMG_298_model_density_map.npy (deflated 65%)\n",
            "  adding: content/model_density_maps/IMG_290_model_density_map.npy (deflated 97%)\n",
            "  adding: content/model_density_maps/IMG_161_model_density_map.npy (deflated 93%)\n",
            "  adding: content/model_density_maps/IMG_74_model_density_map.npy (deflated 87%)\n",
            "  adding: content/model_density_maps/IMG_53_model_density_map.npy (deflated 95%)\n",
            "  adding: content/model_density_maps/IMG_286_model_density_map.npy (deflated 94%)\n",
            "  adding: content/model_density_maps/IMG_130_model_density_map.npy (deflated 90%)\n",
            "  adding: content/model_density_maps/IMG_272_model_density_map.npy (deflated 88%)\n",
            "  adding: content/model_density_maps/IMG_134_model_density_map.npy (deflated 95%)\n",
            "  adding: content/model_density_maps/IMG_292_model_density_map.npy (deflated 91%)\n",
            "  adding: content/model_density_maps/IMG_38_model_density_map.npy (deflated 94%)\n",
            "  adding: content/model_density_maps/IMG_83_model_density_map.npy (deflated 94%)\n",
            "  adding: content/model_density_maps/IMG_207_model_density_map.npy (deflated 90%)\n",
            "  adding: content/model_density_maps/IMG_13_model_density_map.npy (deflated 95%)\n",
            "  adding: content/model_density_maps/IMG_64_model_density_map.npy (deflated 97%)\n",
            "  adding: content/model_density_maps/IMG_157_model_density_map.npy (deflated 87%)\n",
            "  adding: content/model_density_maps/IMG_109_model_density_map.npy (deflated 91%)\n",
            "  adding: content/model_density_maps/IMG_140_model_density_map.npy (deflated 95%)\n",
            "  adding: content/model_density_maps/IMG_294_model_density_map.npy (deflated 92%)\n",
            "  adding: content/model_density_maps/IMG_246_model_density_map.npy (deflated 70%)\n",
            "  adding: content/model_density_maps/IMG_112_model_density_map.npy (deflated 75%)\n",
            "  adding: content/model_density_maps/IMG_237_model_density_map.npy (deflated 83%)\n",
            "  adding: content/model_density_maps/IMG_173_model_density_map.npy (deflated 91%)\n",
            "  adding: content/model_density_maps/IMG_47_model_density_map.npy (deflated 93%)\n",
            "  adding: content/model_density_maps/IMG_114_model_density_map.npy (deflated 82%)\n",
            "  adding: content/model_density_maps/IMG_108_model_density_map.npy (deflated 93%)\n",
            "  adding: content/model_density_maps/IMG_283_model_density_map.npy (deflated 87%)\n",
            "  adding: content/model_density_maps/IMG_241_model_density_map.npy (deflated 97%)\n",
            "  adding: content/model_density_maps/IMG_1_model_density_map.npy (deflated 91%)\n",
            "  adding: content/model_density_maps/IMG_73_model_density_map.npy (deflated 93%)\n",
            "  adding: content/model_density_maps/IMG_97_model_density_map.npy (deflated 83%)\n",
            "  adding: content/model_density_maps/IMG_135_model_density_map.npy (deflated 61%)\n",
            "  adding: content/model_density_maps/IMG_180_model_density_map.npy (deflated 81%)\n",
            "  adding: content/model_density_maps/IMG_257_model_density_map.npy (deflated 96%)\n",
            "  adding: content/model_density_maps/IMG_40_model_density_map.npy (deflated 90%)\n",
            "  adding: content/model_density_maps/IMG_208_model_density_map.npy (deflated 94%)\n",
            "  adding: content/model_density_maps/IMG_266_model_density_map.npy (deflated 87%)\n",
            "  adding: content/model_density_maps/IMG_159_model_density_map.npy (deflated 71%)\n",
            "  adding: content/model_density_maps/IMG_198_model_density_map.npy (deflated 88%)\n",
            "  adding: content/model_density_maps/IMG_52_model_density_map.npy (deflated 91%)\n",
            "  adding: content/model_density_maps/IMG_84_model_density_map.npy (deflated 86%)\n",
            "  adding: content/model_density_maps/IMG_193_model_density_map.npy (deflated 89%)\n",
            "  adding: content/model_density_maps/IMG_57_model_density_map.npy (deflated 96%)\n",
            "  adding: content/model_density_maps/IMG_123_model_density_map.npy (deflated 96%)\n",
            "  adding: content/model_density_maps/IMG_188_model_density_map.npy (deflated 96%)\n",
            "  adding: content/model_density_maps/IMG_50_model_density_map.npy (deflated 90%)\n",
            "  adding: content/model_density_maps/IMG_236_model_density_map.npy (deflated 94%)\n",
            "  adding: content/model_density_maps/IMG_95_model_density_map.npy (deflated 91%)\n",
            "  adding: content/model_density_maps/IMG_178_model_density_map.npy (deflated 92%)\n",
            "  adding: content/model_density_maps/IMG_201_model_density_map.npy (deflated 90%)\n",
            "  adding: content/model_density_maps/IMG_36_model_density_map.npy (deflated 83%)\n",
            "  adding: content/model_density_maps/IMG_99_model_density_map.npy (deflated 95%)\n",
            "  adding: content/model_density_maps/IMG_191_model_density_map.npy (deflated 95%)\n",
            "  adding: content/model_density_maps/IMG_215_model_density_map.npy (deflated 80%)\n",
            "  adding: content/model_density_maps/IMG_87_model_density_map.npy (deflated 84%)\n",
            "  adding: content/model_density_maps/IMG_147_model_density_map.npy (deflated 96%)\n",
            "  adding: content/model_density_maps/IMG_113_model_density_map.npy (deflated 79%)\n",
            "  adding: content/model_density_maps/IMG_117_model_density_map.npy (deflated 93%)\n",
            "  adding: content/model_density_maps/IMG_102_model_density_map.npy (deflated 95%)\n",
            "  adding: content/model_density_maps/IMG_92_model_density_map.npy (deflated 91%)\n",
            "  adding: content/model_density_maps/IMG_120_model_density_map.npy (deflated 89%)\n",
            "  adding: content/model_density_maps/IMG_171_model_density_map.npy (deflated 81%)\n",
            "  adding: content/model_density_maps/IMG_222_model_density_map.npy (deflated 91%)\n",
            "  adding: content/model_density_maps/IMG_17_model_density_map.npy (deflated 88%)\n",
            "  adding: content/model_density_maps/IMG_265_model_density_map.npy (deflated 82%)\n",
            "  adding: content/model_density_maps/IMG_71_model_density_map.npy (deflated 95%)\n",
            "  adding: content/model_density_maps/IMG_18_model_density_map.npy (deflated 93%)\n",
            "  adding: content/model_density_maps/IMG_142_model_density_map.npy (deflated 88%)\n",
            "  adding: content/model_density_maps/IMG_25_model_density_map.npy (deflated 96%)\n",
            "  adding: content/model_density_maps/IMG_5_model_density_map.npy (deflated 93%)\n",
            "  adding: content/model_density_maps/IMG_224_model_density_map.npy (deflated 94%)\n",
            "  adding: content/model_density_maps/IMG_33_model_density_map.npy (deflated 96%)\n",
            "  adding: content/model_density_maps/IMG_156_model_density_map.npy (deflated 92%)\n",
            "  adding: content/model_density_maps/IMG_138_model_density_map.npy (deflated 94%)\n",
            "  adding: content/model_density_maps/IMG_280_model_density_map.npy (deflated 97%)\n",
            "  adding: content/model_density_maps/IMG_287_model_density_map.npy (deflated 91%)\n",
            "  adding: content/model_density_maps/IMG_125_model_density_map.npy (deflated 95%)\n",
            "  adding: content/model_density_maps/IMG_179_model_density_map.npy (deflated 94%)\n",
            "  adding: content/model_density_maps/IMG_187_model_density_map.npy (deflated 91%)\n",
            "  adding: content/model_density_maps/IMG_199_model_density_map.npy (deflated 89%)\n",
            "  adding: content/model_density_maps/IMG_56_model_density_map.npy (deflated 94%)\n",
            "  adding: content/model_density_maps/IMG_168_model_density_map.npy (deflated 94%)\n",
            "  adding: content/model_density_maps/IMG_251_model_density_map.npy (deflated 91%)\n",
            "  adding: content/model_density_maps/IMG_276_model_density_map.npy (deflated 95%)\n",
            "  adding: content/model_density_maps/IMG_226_model_density_map.npy (deflated 90%)\n",
            "  adding: content/model_density_maps/IMG_206_model_density_map.npy (deflated 94%)\n",
            "  adding: content/model_density_maps/IMG_103_model_density_map.npy (deflated 88%)\n",
            "  adding: content/model_density_maps/IMG_72_model_density_map.npy (deflated 94%)\n",
            "  adding: content/model_density_maps/IMG_278_model_density_map.npy (deflated 94%)\n",
            "  adding: content/model_density_maps/IMG_169_model_density_map.npy (deflated 94%)\n",
            "  adding: content/model_density_maps/IMG_15_model_density_map.npy (deflated 97%)\n",
            "  adding: content/model_density_maps/IMG_146_model_density_map.npy (deflated 93%)\n",
            "  adding: content/model_density_maps/IMG_288_model_density_map.npy (deflated 96%)\n",
            "  adding: content/model_density_maps/IMG_85_model_density_map.npy (deflated 80%)\n",
            "  adding: content/model_density_maps/IMG_54_model_density_map.npy (deflated 92%)\n",
            "  adding: content/model_density_maps/IMG_41_model_density_map.npy (deflated 94%)\n",
            "  adding: content/model_density_maps/IMG_190_model_density_map.npy (deflated 96%)\n",
            "  adding: content/model_density_maps/IMG_60_model_density_map.npy (deflated 95%)\n",
            "  adding: content/model_density_maps/IMG_299_model_density_map.npy (deflated 90%)\n",
            "  adding: content/model_density_maps/IMG_111_model_density_map.npy (deflated 95%)\n",
            "  adding: content/model_density_maps/IMG_91_model_density_map.npy (deflated 84%)\n",
            "  adding: content/model_density_maps/IMG_177_model_density_map.npy (deflated 94%)\n",
            "  adding: content/model_density_maps/IMG_49_model_density_map.npy (deflated 93%)\n",
            "  adding: content/model_density_maps/IMG_270_model_density_map.npy (deflated 74%)\n",
            "  adding: content/model_density_maps/IMG_205_model_density_map.npy (deflated 97%)\n",
            "  adding: content/model_density_maps/IMG_230_model_density_map.npy (deflated 89%)\n",
            "  adding: content/model_density_maps/IMG_70_model_density_map.npy (deflated 95%)\n",
            "  adding: content/model_density_maps/IMG_121_model_density_map.npy (deflated 87%)\n",
            "  adding: content/model_density_maps/IMG_59_model_density_map.npy (deflated 96%)\n",
            "  adding: content/model_density_maps/IMG_167_model_density_map.npy (deflated 97%)\n",
            "  adding: content/model_density_maps/IMG_139_model_density_map.npy (deflated 85%)\n",
            "  adding: content/model_density_maps/IMG_238_model_density_map.npy (deflated 89%)\n",
            "  adding: content/model_density_maps/IMG_216_model_density_map.npy (deflated 84%)\n",
            "  adding: content/model_density_maps/IMG_141_model_density_map.npy (deflated 87%)\n",
            "  adding: content/model_density_maps/IMG_100_model_density_map.npy (deflated 95%)\n",
            "  adding: content/model_density_maps/IMG_10_model_density_map.npy (deflated 92%)\n",
            "  adding: content/model_density_maps/IMG_262_model_density_map.npy (deflated 89%)\n",
            "  adding: content/model_density_maps/IMG_279_model_density_map.npy (deflated 84%)\n",
            "  adding: content/model_density_maps/IMG_163_model_density_map.npy (deflated 92%)\n",
            "  adding: content/model_density_maps/IMG_37_model_density_map.npy (deflated 95%)\n",
            "  adding: content/model_density_maps/IMG_126_model_density_map.npy (deflated 95%)\n",
            "  adding: content/model_density_maps/IMG_65_model_density_map.npy (deflated 95%)\n",
            "  adding: content/model_density_maps/IMG_185_model_density_map.npy (deflated 89%)\n",
            "  adding: content/model_density_maps/IMG_240_model_density_map.npy (deflated 64%)\n",
            "  adding: content/model_density_maps/IMG_172_model_density_map.npy (deflated 95%)\n",
            "  adding: content/model_density_maps/IMG_51_model_density_map.npy (deflated 94%)\n",
            "  adding: content/model_density_maps/IMG_152_model_density_map.npy (deflated 92%)\n",
            "  adding: content/model_density_maps/IMG_58_model_density_map.npy (deflated 88%)\n",
            "  adding: content/model_density_maps/gt_sum.json (deflated 87%)\n",
            "  adding: content/model_density_maps/IMG_86_model_density_map.npy (deflated 86%)\n",
            "  adding: content/model_density_maps/IMG_158_model_density_map.npy (deflated 95%)\n",
            "  adding: content/model_density_maps/IMG_192_model_density_map.npy (deflated 91%)\n",
            "  adding: content/model_density_maps/IMG_150_model_density_map.npy (deflated 85%)\n",
            "  adding: content/model_density_maps/IMG_248_model_density_map.npy (deflated 93%)\n",
            "  adding: content/model_density_maps/IMG_254_model_density_map.npy (deflated 93%)\n",
            "  adding: content/model_density_maps/IMG_197_model_density_map.npy (deflated 92%)\n",
            "  adding: content/model_density_maps/IMG_281_model_density_map.npy (deflated 97%)\n",
            "  adding: content/model_density_maps/IMG_66_model_density_map.npy (deflated 89%)\n",
            "  adding: content/model_density_maps/IMG_239_model_density_map.npy (deflated 86%)\n",
            "  adding: content/model_density_maps/IMG_93_model_density_map.npy (deflated 84%)\n",
            "  adding: content/model_density_maps/IMG_90_model_density_map.npy (deflated 96%)\n",
            "  adding: content/model_density_maps/IMG_61_model_density_map.npy (deflated 96%)\n",
            "  adding: content/model_density_maps/IMG_255_model_density_map.npy (deflated 93%)\n",
            "  adding: content/model_density_maps/IMG_115_model_density_map.npy (deflated 95%)\n",
            "  adding: content/model_density_maps/IMG_106_model_density_map.npy (deflated 94%)\n",
            "  adding: content/model_density_maps/IMG_275_model_density_map.npy (deflated 66%)\n",
            "  adding: content/model_density_maps/IMG_88_model_density_map.npy (deflated 89%)\n"
          ],
          "name": "stdout"
        },
        {
          "output_type": "display_data",
          "data": {
            "application/javascript": [
              "\n",
              "    async function download(id, filename, size) {\n",
              "      if (!google.colab.kernel.accessAllowed) {\n",
              "        return;\n",
              "      }\n",
              "      const div = document.createElement('div');\n",
              "      const label = document.createElement('label');\n",
              "      label.textContent = `Downloading \"${filename}\": `;\n",
              "      div.appendChild(label);\n",
              "      const progress = document.createElement('progress');\n",
              "      progress.max = size;\n",
              "      div.appendChild(progress);\n",
              "      document.body.appendChild(div);\n",
              "\n",
              "      const buffers = [];\n",
              "      let downloaded = 0;\n",
              "\n",
              "      const channel = await google.colab.kernel.comms.open(id);\n",
              "      // Send a message to notify the kernel that we're ready.\n",
              "      channel.send({})\n",
              "\n",
              "      for await (const message of channel.messages) {\n",
              "        // Send a message to notify the kernel that we're ready.\n",
              "        channel.send({})\n",
              "        if (message.buffers) {\n",
              "          for (const buffer of message.buffers) {\n",
              "            buffers.push(buffer);\n",
              "            downloaded += buffer.byteLength;\n",
              "            progress.value = downloaded;\n",
              "          }\n",
              "        }\n",
              "      }\n",
              "      const blob = new Blob(buffers, {type: 'application/binary'});\n",
              "      const a = document.createElement('a');\n",
              "      a.href = window.URL.createObjectURL(blob);\n",
              "      a.download = filename;\n",
              "      div.appendChild(a);\n",
              "      a.click();\n",
              "      div.remove();\n",
              "    }\n",
              "  "
            ],
            "text/plain": [
              "<IPython.core.display.Javascript object>"
            ]
          },
          "metadata": {
            "tags": []
          }
        },
        {
          "output_type": "display_data",
          "data": {
            "application/javascript": [
              "download(\"download_687d8de7-abce-43b5-9848-e908f65cca33\", \"shuffle_csrnet_dmap.zip\", 130416)"
            ],
            "text/plain": [
              "<IPython.core.display.Javascript object>"
            ]
          },
          "metadata": {
            "tags": []
          }
        }
      ]
    },
    {
      "cell_type": "markdown",
      "metadata": {
        "id": "8u3yH2JnSJ7E"
      },
      "source": [
        "# Regressor"
      ]
    },
    {
      "cell_type": "markdown",
      "metadata": {
        "id": "Rpi4zT_IVlQA"
      },
      "source": [
        "## CSRNet_vgg"
      ]
    },
    {
      "cell_type": "code",
      "metadata": {
        "id": "Y5beOqgaLLIO"
      },
      "source": [
        "class CSRNet_regressor(nn.Module):\n",
        "    def __init__(self): \n",
        "        super(CSRNet_regressor, self).__init__()\n",
        "        self.fc_model = nn.Sequential(\n",
        "            nn.Linear(1,10),         \n",
        "            nn.ReLU(),\n",
        "            nn.Linear(10,25),\n",
        "            nn.ReLU(),\n",
        "            nn.Linear(25,1)\n",
        "        )\n",
        "\n",
        "    def forward(self, x):\n",
        "        x = self.fc_model(x)\n",
        "        return x"
      ],
      "execution_count": null,
      "outputs": []
    },
    {
      "cell_type": "markdown",
      "metadata": {
        "id": "PrBgfstFVpd1"
      },
      "source": [
        "## Squeeze CSRNet"
      ]
    },
    {
      "cell_type": "code",
      "metadata": {
        "id": "oeXKEkcrVt4D"
      },
      "source": [
        "class Squeeze_CSRNet_regressor(nn.Module):\n",
        "    def __init__(self): \n",
        "        super(Squeeze_CSRNet_regressor, self).__init__()\n",
        "        self.fc_model = nn.Sequential(\n",
        "            nn.Linear(1,10),         \n",
        "            nn.ReLU(),\n",
        "            nn.Linear(10,25),\n",
        "            nn.ReLU(),\n",
        "            nn.Linear(25,1)\n",
        "        )\n",
        "\n",
        "    def forward(self, x):\n",
        "        x = self.fc_model(x)\n",
        "        return x"
      ],
      "execution_count": null,
      "outputs": []
    },
    {
      "cell_type": "markdown",
      "metadata": {
        "id": "YkGKCne4f39i"
      },
      "source": [
        "## Mobile CSRNet"
      ]
    },
    {
      "cell_type": "code",
      "metadata": {
        "id": "zgQ3aPmPf3P9"
      },
      "source": [
        "class Mobile_CSRNet_regressor(nn.Module):\n",
        "    def __init__(self): \n",
        "        super(Mobile_CSRNet_regressor, self).__init__()\n",
        "        self.fc_model = nn.Sequential(\n",
        "            nn.Linear(1,10),         \n",
        "            nn.ReLU(),\n",
        "            nn.Linear(10,25),\n",
        "            nn.ReLU(),\n",
        "            nn.Linear(25,1)\n",
        "        )\n",
        "\n",
        "    def forward(self, x):\n",
        "        x = self.fc_model(x)\n",
        "        return x"
      ],
      "execution_count": null,
      "outputs": []
    },
    {
      "cell_type": "markdown",
      "metadata": {
        "id": "dCjnPPscisSG"
      },
      "source": [
        "##  Shuffle CSRNet"
      ]
    },
    {
      "cell_type": "code",
      "metadata": {
        "id": "fHRfSD4mipGu"
      },
      "source": [
        "class Shuffle_CSRNet_regressor(nn.Module):\n",
        "    def __init__(self): \n",
        "        super(Shuffle_CSRNet_regressor, self).__init__()\n",
        "        self.fc_model = nn.Sequential(\n",
        "            nn.Linear(1,10),         \n",
        "            nn.ReLU(),\n",
        "            nn.Linear(10,25),\n",
        "            nn.ReLU(),\n",
        "            nn.Linear(25,1)\n",
        "        )\n",
        "\n",
        "    def forward(self, x):\n",
        "        x = self.fc_model(x)\n",
        "        return x"
      ],
      "execution_count": null,
      "outputs": []
    },
    {
      "cell_type": "markdown",
      "metadata": {
        "id": "TDbWCB8fIYGR"
      },
      "source": [
        "## Dense CSRNet"
      ]
    },
    {
      "cell_type": "code",
      "metadata": {
        "id": "I8aOexntIUok"
      },
      "source": [
        "class Dense_CSRNet_regressor(nn.Module):\n",
        "    def __init__(self): \n",
        "        super(Dense_CSRNet_regressor, self).__init__()\n",
        "        self.fc_model = nn.Sequential(\n",
        "            nn.Linear(1,10),         \n",
        "            nn.ReLU(),\n",
        "            nn.Linear(10,25),\n",
        "            nn.ReLU(),\n",
        "            nn.Linear(25,1)\n",
        "        )\n",
        "\n",
        "    def forward(self, x):\n",
        "        x = self.fc_model(x)\n",
        "        return x"
      ],
      "execution_count": null,
      "outputs": []
    },
    {
      "cell_type": "code",
      "metadata": {
        "id": "GVGUAgQocq9a"
      },
      "source": [
        "f = open('/content/model_density_maps/model_hmap_sum.json',) \n",
        "model_hmap_sum = json.load(f)\n",
        "regdata = np.array([row[-1] for row in model_hmap_sum]).reshape(-1,1)\n",
        "f = open('/content/model_density_maps/gt_sum.json',) \n",
        "gt_sum = json.load(f)\n",
        "gtsum = np.array([row[-1] for row in gt_sum]).reshape(-1,1)"
      ],
      "execution_count": null,
      "outputs": []
    },
    {
      "cell_type": "code",
      "metadata": {
        "id": "6WmvFbz7eQ6K"
      },
      "source": [
        "regdata = torch.tensor(regdata).float().to(device)\n",
        "gtsum = torch.tensor(gtsum).float().to(device)"
      ],
      "execution_count": null,
      "outputs": []
    },
    {
      "cell_type": "code",
      "metadata": {
        "id": "jXWdbmrxEOfn"
      },
      "source": [
        "model_hmap_paths = \"/content/model_density_maps/\"\n",
        "regloader = torch.utils.data.DataLoader(model_hmap_paths, batch_size=1, shuffle=True)\n",
        "#regnet = CSRNet_regressor().to(device)\n",
        "regnet = Dense_CSRNet_regressor().to(device)\n",
        "loss_fn = nn.MSELoss()\n",
        "opt = optim.Adam(regnet.parameters())"
      ],
      "execution_count": null,
      "outputs": []
    },
    {
      "cell_type": "code",
      "metadata": {
        "id": "AXpFoS7mLkZh"
      },
      "source": [
        "max_epochs = 1000\n",
        "train_loss = []\n",
        "train_acc_arr = []\n",
        "\n",
        "for epoch in range(max_epochs):\n",
        "  opt.zero_grad()\n",
        "  model_output = regnet(regdata)\n",
        "  loss = loss_fn(model_output, gtsum)\n",
        "  loss.backward()\n",
        "  opt.step()\n",
        "  train_loss.append(loss.item())\n",
        "  #print('Epoch: %d/%d' % (epoch, max_epochs))"
      ],
      "execution_count": null,
      "outputs": []
    },
    {
      "cell_type": "code",
      "metadata": {
        "colab": {
          "base_uri": "https://localhost:8080/"
        },
        "id": "68EuRk2-dtbD",
        "outputId": "7fd3bba4-080a-46c7-ff00-98d4e5353725"
      },
      "source": [
        "regdata[0], regnet(regdata[0]), gtsum[0]"
      ],
      "execution_count": null,
      "outputs": [
        {
          "output_type": "execute_result",
          "data": {
            "text/plain": [
              "(tensor([626.1346], device='cuda:0'),\n",
              " tensor([638.0694], device='cuda:0', grad_fn=<AddBackward0>),\n",
              " tensor([864.5715], device='cuda:0'))"
            ]
          },
          "metadata": {
            "tags": []
          },
          "execution_count": 26
        }
      ]
    },
    {
      "cell_type": "code",
      "metadata": {
        "colab": {
          "base_uri": "https://localhost:8080/",
          "height": 295
        },
        "id": "tCyK_EgGUksK",
        "outputId": "d4f8a855-3cf8-4bec-c936-50b9400aa48b"
      },
      "source": [
        "plt.plot(train_loss,'b',label='Training Loss')\n",
        "plt.xlabel(\"Epoch\")\n",
        "plt.ylabel(\"MSE Loss\")\n",
        "plt.legend()\n",
        "plt.title(\"Loss Curve\")\n",
        "plt.savefig(\"Dense_CSRNet_regressor_loss_curve_100epochs.png\",bbox_inches = \"tight\")"
      ],
      "execution_count": null,
      "outputs": [
        {
          "output_type": "display_data",
          "data": {
            "image/png": "[encoded data removed]",
            "text/plain": [
              "<Figure size 432x288 with 1 Axes>"
            ]
          },
          "metadata": {
            "tags": [],
            "needs_background": "light"
          }
        }
      ]
    },
    {
      "cell_type": "code",
      "metadata": {
        "id": "dYSCP05UeG1X",
        "colab": {
          "base_uri": "https://localhost:8080/",
          "height": 307
        },
        "outputId": "650e344e-6727-46fa-b698-a620a050eec6"
      },
      "source": [
        "model_sum = regnet(regdata).detach().cpu().numpy()\n",
        "gt_sum = gtsum.cpu().numpy()\n",
        "reg_data = regdata.cpu().numpy()\n",
        "plt.scatter(gt_sum,model_sum, label=\"Regressor Output\")\n",
        "plt.scatter(gt_sum,reg_data, label=\"Model Prediction\")\n",
        "plt.xlabel(\"Ground Truth number of people\",fontsize=15)\n",
        "plt.ylabel(\"Predicted number of people\",fontsize=15)\n",
        "plt.legend(fontsize=15)\n",
        "plt.title(\"Comparison of model prediction with regressor output\",fontsize=15)\n",
        "plt.xticks(fontsize=15)\n",
        "plt.yticks(fontsize=15)\n",
        "plt.savefig(\"comparison.png\", bbox_inches=\"tight\")"
      ],
      "execution_count": null,
      "outputs": [
        {
          "output_type": "display_data",
          "data": {
            "image/png": "[encoded data removed]",
            "text/plain": [
              "<Figure size 432x288 with 1 Axes>"
            ]
          },
          "metadata": {
            "tags": [],
            "needs_background": "light"
          }
        }
      ]
    },
    {
      "cell_type": "code",
      "metadata": {
        "id": "vRTuiefQV30t"
      },
      "source": [
        ""
      ],
      "execution_count": null,
      "outputs": []
    }
  ]
}
